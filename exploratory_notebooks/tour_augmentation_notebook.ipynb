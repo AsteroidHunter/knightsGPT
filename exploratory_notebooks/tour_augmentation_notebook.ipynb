{
 "cells": [
  {
   "cell_type": "markdown",
   "id": "f15a9e22-08c9-4661-bd2a-6b5d79385c19",
   "metadata": {},
   "source": [
    "# Knight's Tour: Data Augmentation Notebook"
   ]
  },
  {
   "cell_type": "code",
   "execution_count": 1,
   "id": "b85b95cf-4697-4ca7-af16-51f86bf215ec",
   "metadata": {},
   "outputs": [],
   "source": [
    "import random\n",
    "import polars as pl\n",
    "import numpy as np\n",
    "from tqdm import tqdm\n",
    "import matplotlib.pyplot as plt\n",
    "# from plotting_preferences_AS import plotting_preferences_AS"
   ]
  },
  {
   "cell_type": "code",
   "execution_count": 2,
   "id": "02c7f957-becf-4c1a-8c09-73e5f788e820",
   "metadata": {},
   "outputs": [],
   "source": [
    "# plotting_preferences_AS()\n",
    "random.seed(821378259)"
   ]
  },
  {
   "cell_type": "markdown",
   "id": "ae5444fa-26a4-4597-939c-00c19a5e61eb",
   "metadata": {},
   "source": [
    "### Loading the dataset and re-saving a sorted version for better compression"
   ]
  },
  {
   "cell_type": "code",
   "execution_count": 21,
   "id": "febc9cfe-5f49-4cab-9aff-d249dd358085",
   "metadata": {},
   "outputs": [],
   "source": [
    "### REPLACE PATH WITH YOUR GENERATED SOLUTIONS\n",
    "path_to_file = \"../data/final/tours_8x8_100000000_20241127_combined.parquet\"\n",
    "full_df = pl.read_parquet(path_to_file)"
   ]
  },
  {
   "cell_type": "code",
   "execution_count": 22,
   "id": "4c82a7f8-7353-4073-867e-44a0fc9ebb77",
   "metadata": {},
   "outputs": [
    {
     "name": "stdout",
     "output_type": "stream",
     "text": [
      "22386084 22386084\n"
     ]
    }
   ],
   "source": [
    "print(\n",
    "    len(full_df),\n",
    "    len(full_df.unique())\n",
    ")"
   ]
  },
  {
   "cell_type": "code",
   "execution_count": 23,
   "id": "957a2c22-ff02-4de9-a491-5c23a72b3251",
   "metadata": {},
   "outputs": [],
   "source": [
    "full_df = full_df.cast(pl.Int8)"
   ]
  },
  {
   "cell_type": "code",
   "execution_count": 25,
   "id": "94c4c822-3f39-4e45-9ce1-7364a42b65d7",
   "metadata": {},
   "outputs": [
    {
     "data": {
      "text/html": [
       "<div><style>\n",
       ".dataframe > thead > tr,\n",
       ".dataframe > tbody > tr {\n",
       "  text-align: right;\n",
       "  white-space: pre-wrap;\n",
       "}\n",
       "</style>\n",
       "<small>shape: (5, 64)</small><table border=\"1\" class=\"dataframe\"><thead><tr><th>move_0</th><th>move_1</th><th>move_2</th><th>move_3</th><th>move_4</th><th>move_5</th><th>move_6</th><th>move_7</th><th>move_8</th><th>move_9</th><th>move_10</th><th>move_11</th><th>move_12</th><th>move_13</th><th>move_14</th><th>move_15</th><th>move_16</th><th>move_17</th><th>move_18</th><th>move_19</th><th>move_20</th><th>move_21</th><th>move_22</th><th>move_23</th><th>move_24</th><th>move_25</th><th>move_26</th><th>move_27</th><th>move_28</th><th>move_29</th><th>move_30</th><th>move_31</th><th>move_32</th><th>move_33</th><th>move_34</th><th>move_35</th><th>move_36</th><th>move_37</th><th>move_38</th><th>move_39</th><th>move_40</th><th>move_41</th><th>move_42</th><th>move_43</th><th>move_44</th><th>move_45</th><th>move_46</th><th>move_47</th><th>move_48</th><th>move_49</th><th>move_50</th><th>move_51</th><th>move_52</th><th>move_53</th><th>move_54</th><th>move_55</th><th>move_56</th><th>move_57</th><th>move_58</th><th>move_59</th><th>move_60</th><th>move_61</th><th>move_62</th><th>move_63</th></tr><tr><td>i8</td><td>i8</td><td>i8</td><td>i8</td><td>i8</td><td>i8</td><td>i8</td><td>i8</td><td>i8</td><td>i8</td><td>i8</td><td>i8</td><td>i8</td><td>i8</td><td>i8</td><td>i8</td><td>i8</td><td>i8</td><td>i8</td><td>i8</td><td>i8</td><td>i8</td><td>i8</td><td>i8</td><td>i8</td><td>i8</td><td>i8</td><td>i8</td><td>i8</td><td>i8</td><td>i8</td><td>i8</td><td>i8</td><td>i8</td><td>i8</td><td>i8</td><td>i8</td><td>i8</td><td>i8</td><td>i8</td><td>i8</td><td>i8</td><td>i8</td><td>i8</td><td>i8</td><td>i8</td><td>i8</td><td>i8</td><td>i8</td><td>i8</td><td>i8</td><td>i8</td><td>i8</td><td>i8</td><td>i8</td><td>i8</td><td>i8</td><td>i8</td><td>i8</td><td>i8</td><td>i8</td><td>i8</td><td>i8</td><td>i8</td></tr></thead><tbody><tr><td>24</td><td>9</td><td>3</td><td>13</td><td>7</td><td>22</td><td>39</td><td>54</td><td>60</td><td>50</td><td>56</td><td>41</td><td>58</td><td>48</td><td>33</td><td>16</td><td>1</td><td>18</td><td>8</td><td>2</td><td>12</td><td>6</td><td>23</td><td>29</td><td>14</td><td>31</td><td>46</td><td>63</td><td>53</td><td>47</td><td>62</td><td>52</td><td>37</td><td>43</td><td>28</td><td>11</td><td>5</td><td>20</td><td>35</td><td>25</td><td>40</td><td>57</td><td>42</td><td>59</td><td>49</td><td>32</td><td>26</td><td>36</td><td>21</td><td>38</td><td>44</td><td>27</td><td>17</td><td>0</td><td>10</td><td>4</td><td>19</td><td>34</td><td>51</td><td>61</td><td>55</td><td>45</td><td>30</td><td>15</td></tr><tr><td>18</td><td>1</td><td>16</td><td>33</td><td>48</td><td>58</td><td>52</td><td>62</td><td>47</td><td>30</td><td>15</td><td>5</td><td>11</td><td>17</td><td>0</td><td>10</td><td>4</td><td>14</td><td>31</td><td>21</td><td>6</td><td>23</td><td>13</td><td>7</td><td>22</td><td>39</td><td>54</td><td>37</td><td>20</td><td>3</td><td>9</td><td>24</td><td>41</td><td>56</td><td>50</td><td>60</td><td>45</td><td>35</td><td>29</td><td>46</td><td>63</td><td>53</td><td>59</td><td>49</td><td>43</td><td>26</td><td>32</td><td>42</td><td>36</td><td>51</td><td>57</td><td>40</td><td>34</td><td>19</td><td>25</td><td>8</td><td>2</td><td>12</td><td>27</td><td>44</td><td>61</td><td>55</td><td>38</td><td>28</td></tr><tr><td>48</td><td>58</td><td>41</td><td>56</td><td>50</td><td>40</td><td>57</td><td>51</td><td>61</td><td>55</td><td>38</td><td>23</td><td>6</td><td>12</td><td>2</td><td>8</td><td>25</td><td>35</td><td>52</td><td>62</td><td>47</td><td>53</td><td>63</td><td>46</td><td>31</td><td>14</td><td>4</td><td>21</td><td>15</td><td>5</td><td>22</td><td>7</td><td>13</td><td>30</td><td>45</td><td>60</td><td>54</td><td>39</td><td>29</td><td>44</td><td>59</td><td>42</td><td>36</td><td>19</td><td>9</td><td>24</td><td>34</td><td>49</td><td>32</td><td>17</td><td>0</td><td>10</td><td>27</td><td>37</td><td>20</td><td>3</td><td>18</td><td>1</td><td>11</td><td>28</td><td>43</td><td>33</td><td>16</td><td>26</td></tr><tr><td>2</td><td>8</td><td>25</td><td>40</td><td>57</td><td>51</td><td>61</td><td>55</td><td>38</td><td>23</td><td>6</td><td>12</td><td>22</td><td>7</td><td>13</td><td>3</td><td>9</td><td>24</td><td>41</td><td>56</td><td>50</td><td>60</td><td>54</td><td>39</td><td>45</td><td>62</td><td>47</td><td>30</td><td>15</td><td>5</td><td>11</td><td>1</td><td>18</td><td>28</td><td>34</td><td>44</td><td>59</td><td>49</td><td>43</td><td>58</td><td>48</td><td>42</td><td>27</td><td>21</td><td>31</td><td>14</td><td>29</td><td>35</td><td>20</td><td>37</td><td>52</td><td>46</td><td>63</td><td>53</td><td>36</td><td>19</td><td>4</td><td>10</td><td>0</td><td>17</td><td>32</td><td>26</td><td>16</td><td>33</td></tr><tr><td>2</td><td>8</td><td>25</td><td>40</td><td>57</td><td>51</td><td>61</td><td>55</td><td>38</td><td>23</td><td>6</td><td>12</td><td>22</td><td>7</td><td>13</td><td>3</td><td>9</td><td>24</td><td>41</td><td>56</td><td>50</td><td>60</td><td>54</td><td>39</td><td>45</td><td>62</td><td>47</td><td>30</td><td>15</td><td>5</td><td>11</td><td>1</td><td>18</td><td>28</td><td>34</td><td>44</td><td>27</td><td>42</td><td>52</td><td>37</td><td>43</td><td>58</td><td>48</td><td>33</td><td>16</td><td>26</td><td>32</td><td>49</td><td>59</td><td>53</td><td>63</td><td>46</td><td>36</td><td>21</td><td>31</td><td>14</td><td>20</td><td>35</td><td>29</td><td>19</td><td>4</td><td>10</td><td>0</td><td>17</td></tr></tbody></table></div>"
      ],
      "text/plain": [
       "shape: (5, 64)\n",
       "┌────────┬────────┬────────┬────────┬───┬─────────┬─────────┬─────────┬─────────┐\n",
       "│ move_0 ┆ move_1 ┆ move_2 ┆ move_3 ┆ … ┆ move_60 ┆ move_61 ┆ move_62 ┆ move_63 │\n",
       "│ ---    ┆ ---    ┆ ---    ┆ ---    ┆   ┆ ---     ┆ ---     ┆ ---     ┆ ---     │\n",
       "│ i8     ┆ i8     ┆ i8     ┆ i8     ┆   ┆ i8      ┆ i8      ┆ i8      ┆ i8      │\n",
       "╞════════╪════════╪════════╪════════╪═══╪═════════╪═════════╪═════════╪═════════╡\n",
       "│ 24     ┆ 9      ┆ 3      ┆ 13     ┆ … ┆ 55      ┆ 45      ┆ 30      ┆ 15      │\n",
       "│ 18     ┆ 1      ┆ 16     ┆ 33     ┆ … ┆ 61      ┆ 55      ┆ 38      ┆ 28      │\n",
       "│ 48     ┆ 58     ┆ 41     ┆ 56     ┆ … ┆ 43      ┆ 33      ┆ 16      ┆ 26      │\n",
       "│ 2      ┆ 8      ┆ 25     ┆ 40     ┆ … ┆ 32      ┆ 26      ┆ 16      ┆ 33      │\n",
       "│ 2      ┆ 8      ┆ 25     ┆ 40     ┆ … ┆ 4       ┆ 10      ┆ 0       ┆ 17      │\n",
       "└────────┴────────┴────────┴────────┴───┴─────────┴─────────┴─────────┴─────────┘"
      ]
     },
     "execution_count": 25,
     "metadata": {},
     "output_type": "execute_result"
    }
   ],
   "source": [
    "full_df.head()"
   ]
  },
  {
   "cell_type": "code",
   "execution_count": 27,
   "id": "ec8ccac8-4cfc-4567-8a2c-f3fce250eca8",
   "metadata": {},
   "outputs": [],
   "source": [
    "# sorting and saving the dataframe to reduce the compressed file size\n",
    "# size was reduced by ~50%, neat\n",
    "\n",
    "full_df = full_df.sort(by=\"move_0\")\n",
    "full_df.write_parquet(\n",
    "    \"../data/final/tours_8x8_22386084_20241203_all.parquet\",\n",
    "    compression=\"zstd\"\n",
    ")"
   ]
  },
  {
   "cell_type": "code",
   "execution_count": 2,
   "id": "6be2f42a-5556-45e8-b132-a17e7f4a7a1d",
   "metadata": {},
   "outputs": [
    {
     "data": {
      "text/html": [
       "<div><style>\n",
       ".dataframe > thead > tr,\n",
       ".dataframe > tbody > tr {\n",
       "  text-align: right;\n",
       "  white-space: pre-wrap;\n",
       "}\n",
       "</style>\n",
       "<small>shape: (22_386_084, 64)</small><table border=\"1\" class=\"dataframe\"><thead><tr><th>move_0</th><th>move_1</th><th>move_2</th><th>move_3</th><th>move_4</th><th>move_5</th><th>move_6</th><th>move_7</th><th>move_8</th><th>move_9</th><th>move_10</th><th>move_11</th><th>move_12</th><th>move_13</th><th>move_14</th><th>move_15</th><th>move_16</th><th>move_17</th><th>move_18</th><th>move_19</th><th>move_20</th><th>move_21</th><th>move_22</th><th>move_23</th><th>move_24</th><th>move_25</th><th>move_26</th><th>move_27</th><th>move_28</th><th>move_29</th><th>move_30</th><th>move_31</th><th>move_32</th><th>move_33</th><th>move_34</th><th>move_35</th><th>move_36</th><th>move_37</th><th>move_38</th><th>move_39</th><th>move_40</th><th>move_41</th><th>move_42</th><th>move_43</th><th>move_44</th><th>move_45</th><th>move_46</th><th>move_47</th><th>move_48</th><th>move_49</th><th>move_50</th><th>move_51</th><th>move_52</th><th>move_53</th><th>move_54</th><th>move_55</th><th>move_56</th><th>move_57</th><th>move_58</th><th>move_59</th><th>move_60</th><th>move_61</th><th>move_62</th><th>move_63</th></tr><tr><td>i8</td><td>i8</td><td>i8</td><td>i8</td><td>i8</td><td>i8</td><td>i8</td><td>i8</td><td>i8</td><td>i8</td><td>i8</td><td>i8</td><td>i8</td><td>i8</td><td>i8</td><td>i8</td><td>i8</td><td>i8</td><td>i8</td><td>i8</td><td>i8</td><td>i8</td><td>i8</td><td>i8</td><td>i8</td><td>i8</td><td>i8</td><td>i8</td><td>i8</td><td>i8</td><td>i8</td><td>i8</td><td>i8</td><td>i8</td><td>i8</td><td>i8</td><td>i8</td><td>i8</td><td>i8</td><td>i8</td><td>i8</td><td>i8</td><td>i8</td><td>i8</td><td>i8</td><td>i8</td><td>i8</td><td>i8</td><td>i8</td><td>i8</td><td>i8</td><td>i8</td><td>i8</td><td>i8</td><td>i8</td><td>i8</td><td>i8</td><td>i8</td><td>i8</td><td>i8</td><td>i8</td><td>i8</td><td>i8</td><td>i8</td></tr></thead><tbody><tr><td>0</td><td>17</td><td>2</td><td>8</td><td>25</td><td>40</td><td>57</td><td>51</td><td>61</td><td>55</td><td>38</td><td>23</td><td>6</td><td>12</td><td>22</td><td>7</td><td>13</td><td>3</td><td>9</td><td>24</td><td>41</td><td>56</td><td>50</td><td>60</td><td>54</td><td>39</td><td>45</td><td>62</td><td>47</td><td>30</td><td>15</td><td>5</td><td>11</td><td>1</td><td>18</td><td>28</td><td>34</td><td>49</td><td>43</td><td>58</td><td>48</td><td>33</td><td>16</td><td>26</td><td>32</td><td>42</td><td>52</td><td>37</td><td>27</td><td>10</td><td>4</td><td>21</td><td>36</td><td>19</td><td>29</td><td>44</td><td>59</td><td>53</td><td>63</td><td>46</td><td>31</td><td>14</td><td>20</td><td>35</td></tr><tr><td>0</td><td>17</td><td>2</td><td>8</td><td>25</td><td>40</td><td>57</td><td>51</td><td>61</td><td>55</td><td>38</td><td>23</td><td>6</td><td>12</td><td>22</td><td>7</td><td>13</td><td>3</td><td>9</td><td>24</td><td>41</td><td>56</td><td>50</td><td>60</td><td>54</td><td>39</td><td>45</td><td>62</td><td>47</td><td>30</td><td>15</td><td>5</td><td>11</td><td>1</td><td>18</td><td>28</td><td>34</td><td>19</td><td>4</td><td>14</td><td>20</td><td>37</td><td>43</td><td>33</td><td>48</td><td>58</td><td>52</td><td>35</td><td>29</td><td>44</td><td>27</td><td>10</td><td>16</td><td>26</td><td>32</td><td>49</td><td>59</td><td>42</td><td>36</td><td>53</td><td>63</td><td>46</td><td>31</td><td>21</td></tr><tr><td>0</td><td>17</td><td>2</td><td>8</td><td>25</td><td>40</td><td>57</td><td>51</td><td>61</td><td>55</td><td>38</td><td>23</td><td>6</td><td>12</td><td>22</td><td>7</td><td>13</td><td>3</td><td>9</td><td>24</td><td>41</td><td>56</td><td>50</td><td>60</td><td>54</td><td>39</td><td>45</td><td>62</td><td>47</td><td>30</td><td>15</td><td>5</td><td>11</td><td>1</td><td>18</td><td>28</td><td>34</td><td>49</td><td>32</td><td>42</td><td>48</td><td>58</td><td>52</td><td>35</td><td>29</td><td>44</td><td>59</td><td>53</td><td>63</td><td>46</td><td>36</td><td>19</td><td>4</td><td>10</td><td>20</td><td>14</td><td>31</td><td>37</td><td>43</td><td>26</td><td>16</td><td>33</td><td>27</td><td>21</td></tr><tr><td>0</td><td>17</td><td>2</td><td>8</td><td>25</td><td>40</td><td>57</td><td>51</td><td>61</td><td>55</td><td>38</td><td>23</td><td>6</td><td>12</td><td>22</td><td>7</td><td>13</td><td>3</td><td>9</td><td>24</td><td>41</td><td>56</td><td>50</td><td>60</td><td>54</td><td>39</td><td>45</td><td>62</td><td>47</td><td>30</td><td>15</td><td>5</td><td>11</td><td>1</td><td>18</td><td>28</td><td>34</td><td>19</td><td>36</td><td>53</td><td>63</td><td>46</td><td>52</td><td>35</td><td>29</td><td>14</td><td>20</td><td>37</td><td>31</td><td>21</td><td>4</td><td>10</td><td>16</td><td>33</td><td>48</td><td>58</td><td>43</td><td>26</td><td>32</td><td>49</td><td>59</td><td>42</td><td>27</td><td>44</td></tr><tr><td>0</td><td>17</td><td>2</td><td>8</td><td>25</td><td>40</td><td>57</td><td>51</td><td>61</td><td>55</td><td>38</td><td>23</td><td>6</td><td>12</td><td>22</td><td>7</td><td>13</td><td>3</td><td>9</td><td>24</td><td>41</td><td>56</td><td>50</td><td>60</td><td>54</td><td>39</td><td>45</td><td>62</td><td>47</td><td>30</td><td>15</td><td>5</td><td>11</td><td>1</td><td>18</td><td>28</td><td>34</td><td>19</td><td>29</td><td>46</td><td>63</td><td>53</td><td>59</td><td>49</td><td>32</td><td>26</td><td>16</td><td>10</td><td>20</td><td>35</td><td>52</td><td>58</td><td>43</td><td>33</td><td>48</td><td>42</td><td>36</td><td>21</td><td>4</td><td>14</td><td>31</td><td>37</td><td>27</td><td>44</td></tr><tr><td>&hellip;</td><td>&hellip;</td><td>&hellip;</td><td>&hellip;</td><td>&hellip;</td><td>&hellip;</td><td>&hellip;</td><td>&hellip;</td><td>&hellip;</td><td>&hellip;</td><td>&hellip;</td><td>&hellip;</td><td>&hellip;</td><td>&hellip;</td><td>&hellip;</td><td>&hellip;</td><td>&hellip;</td><td>&hellip;</td><td>&hellip;</td><td>&hellip;</td><td>&hellip;</td><td>&hellip;</td><td>&hellip;</td><td>&hellip;</td><td>&hellip;</td><td>&hellip;</td><td>&hellip;</td><td>&hellip;</td><td>&hellip;</td><td>&hellip;</td><td>&hellip;</td><td>&hellip;</td><td>&hellip;</td><td>&hellip;</td><td>&hellip;</td><td>&hellip;</td><td>&hellip;</td><td>&hellip;</td><td>&hellip;</td><td>&hellip;</td><td>&hellip;</td><td>&hellip;</td><td>&hellip;</td><td>&hellip;</td><td>&hellip;</td><td>&hellip;</td><td>&hellip;</td><td>&hellip;</td><td>&hellip;</td><td>&hellip;</td><td>&hellip;</td><td>&hellip;</td><td>&hellip;</td><td>&hellip;</td><td>&hellip;</td><td>&hellip;</td><td>&hellip;</td><td>&hellip;</td><td>&hellip;</td><td>&hellip;</td><td>&hellip;</td><td>&hellip;</td><td>&hellip;</td><td>&hellip;</td></tr><tr><td>54</td><td>39</td><td>22</td><td>7</td><td>13</td><td>3</td><td>9</td><td>24</td><td>41</td><td>56</td><td>50</td><td>60</td><td>45</td><td>62</td><td>47</td><td>30</td><td>15</td><td>5</td><td>11</td><td>1</td><td>16</td><td>33</td><td>48</td><td>58</td><td>52</td><td>37</td><td>31</td><td>14</td><td>4</td><td>21</td><td>6</td><td>23</td><td>38</td><td>55</td><td>61</td><td>51</td><td>57</td><td>40</td><td>25</td><td>8</td><td>2</td><td>12</td><td>18</td><td>28</td><td>43</td><td>49</td><td>59</td><td>53</td><td>63</td><td>46</td><td>36</td><td>19</td><td>29</td><td>35</td><td>20</td><td>26</td><td>32</td><td>42</td><td>27</td><td>10</td><td>0</td><td>17</td><td>34</td><td>44</td></tr><tr><td>54</td><td>60</td><td>50</td><td>56</td><td>41</td><td>58</td><td>48</td><td>33</td><td>16</td><td>1</td><td>11</td><td>5</td><td>15</td><td>30</td><td>47</td><td>62</td><td>52</td><td>35</td><td>45</td><td>39</td><td>22</td><td>7</td><td>13</td><td>23</td><td>6</td><td>12</td><td>2</td><td>8</td><td>18</td><td>24</td><td>9</td><td>3</td><td>20</td><td>26</td><td>32</td><td>49</td><td>59</td><td>42</td><td>57</td><td>40</td><td>25</td><td>10</td><td>0</td><td>17</td><td>27</td><td>37</td><td>43</td><td>28</td><td>34</td><td>51</td><td>61</td><td>55</td><td>38</td><td>44</td><td>29</td><td>14</td><td>31</td><td>21</td><td>4</td><td>19</td><td>36</td><td>53</td><td>63</td><td>46</td></tr><tr><td>54</td><td>60</td><td>50</td><td>56</td><td>41</td><td>58</td><td>48</td><td>33</td><td>16</td><td>1</td><td>11</td><td>5</td><td>15</td><td>30</td><td>47</td><td>62</td><td>52</td><td>37</td><td>31</td><td>14</td><td>4</td><td>10</td><td>0</td><td>17</td><td>2</td><td>8</td><td>25</td><td>40</td><td>57</td><td>51</td><td>61</td><td>55</td><td>45</td><td>39</td><td>22</td><td>7</td><td>13</td><td>23</td><td>6</td><td>21</td><td>27</td><td>12</td><td>18</td><td>35</td><td>20</td><td>3</td><td>9</td><td>24</td><td>34</td><td>28</td><td>38</td><td>44</td><td>29</td><td>19</td><td>36</td><td>46</td><td>63</td><td>53</td><td>43</td><td>26</td><td>32</td><td>49</td><td>59</td><td>42</td></tr><tr><td>54</td><td>39</td><td>22</td><td>7</td><td>13</td><td>23</td><td>6</td><td>12</td><td>2</td><td>8</td><td>25</td><td>40</td><td>57</td><td>51</td><td>61</td><td>55</td><td>38</td><td>28</td><td>45</td><td>62</td><td>47</td><td>30</td><td>15</td><td>5</td><td>11</td><td>1</td><td>16</td><td>10</td><td>0</td><td>17</td><td>32</td><td>49</td><td>59</td><td>53</td><td>63</td><td>46</td><td>31</td><td>14</td><td>4</td><td>21</td><td>36</td><td>19</td><td>34</td><td>24</td><td>9</td><td>3</td><td>18</td><td>33</td><td>48</td><td>42</td><td>27</td><td>44</td><td>29</td><td>35</td><td>50</td><td>56</td><td>41</td><td>26</td><td>20</td><td>37</td><td>52</td><td>58</td><td>43</td><td>60</td></tr><tr><td>54</td><td>60</td><td>50</td><td>56</td><td>41</td><td>58</td><td>48</td><td>33</td><td>16</td><td>1</td><td>11</td><td>5</td><td>15</td><td>30</td><td>47</td><td>62</td><td>52</td><td>46</td><td>63</td><td>53</td><td>59</td><td>49</td><td>43</td><td>26</td><td>32</td><td>42</td><td>57</td><td>40</td><td>25</td><td>8</td><td>2</td><td>17</td><td>0</td><td>10</td><td>4</td><td>14</td><td>31</td><td>37</td><td>20</td><td>35</td><td>18</td><td>24</td><td>9</td><td>3</td><td>13</td><td>7</td><td>22</td><td>39</td><td>45</td><td>28</td><td>34</td><td>51</td><td>36</td><td>19</td><td>29</td><td>23</td><td>6</td><td>12</td><td>27</td><td>21</td><td>38</td><td>55</td><td>61</td><td>44</td></tr></tbody></table></div>"
      ],
      "text/plain": [
       "shape: (22_386_084, 64)\n",
       "┌────────┬────────┬────────┬────────┬───┬─────────┬─────────┬─────────┬─────────┐\n",
       "│ move_0 ┆ move_1 ┆ move_2 ┆ move_3 ┆ … ┆ move_60 ┆ move_61 ┆ move_62 ┆ move_63 │\n",
       "│ ---    ┆ ---    ┆ ---    ┆ ---    ┆   ┆ ---     ┆ ---     ┆ ---     ┆ ---     │\n",
       "│ i8     ┆ i8     ┆ i8     ┆ i8     ┆   ┆ i8      ┆ i8      ┆ i8      ┆ i8      │\n",
       "╞════════╪════════╪════════╪════════╪═══╪═════════╪═════════╪═════════╪═════════╡\n",
       "│ 0      ┆ 17     ┆ 2      ┆ 8      ┆ … ┆ 31      ┆ 14      ┆ 20      ┆ 35      │\n",
       "│ 0      ┆ 17     ┆ 2      ┆ 8      ┆ … ┆ 63      ┆ 46      ┆ 31      ┆ 21      │\n",
       "│ 0      ┆ 17     ┆ 2      ┆ 8      ┆ … ┆ 16      ┆ 33      ┆ 27      ┆ 21      │\n",
       "│ 0      ┆ 17     ┆ 2      ┆ 8      ┆ … ┆ 59      ┆ 42      ┆ 27      ┆ 44      │\n",
       "│ 0      ┆ 17     ┆ 2      ┆ 8      ┆ … ┆ 31      ┆ 37      ┆ 27      ┆ 44      │\n",
       "│ …      ┆ …      ┆ …      ┆ …      ┆ … ┆ …       ┆ …       ┆ …       ┆ …       │\n",
       "│ 54     ┆ 39     ┆ 22     ┆ 7      ┆ … ┆ 0       ┆ 17      ┆ 34      ┆ 44      │\n",
       "│ 54     ┆ 60     ┆ 50     ┆ 56     ┆ … ┆ 36      ┆ 53      ┆ 63      ┆ 46      │\n",
       "│ 54     ┆ 60     ┆ 50     ┆ 56     ┆ … ┆ 32      ┆ 49      ┆ 59      ┆ 42      │\n",
       "│ 54     ┆ 39     ┆ 22     ┆ 7      ┆ … ┆ 52      ┆ 58      ┆ 43      ┆ 60      │\n",
       "│ 54     ┆ 60     ┆ 50     ┆ 56     ┆ … ┆ 38      ┆ 55      ┆ 61      ┆ 44      │\n",
       "└────────┴────────┴────────┴────────┴───┴─────────┴─────────┴─────────┴─────────┘"
      ]
     },
     "execution_count": 2,
     "metadata": {},
     "output_type": "execute_result"
    }
   ],
   "source": [
    "full_df = pl.read_parquet(\"../data/final/tours_8x8_22386084_20241203_all.parquet\")\n",
    "full_df"
   ]
  },
  {
   "cell_type": "markdown",
   "id": "2d9ad4c1-5ad3-4948-80d9-31ebf6e4de27",
   "metadata": {},
   "source": [
    "## Finding the number of truly unique tours\n",
    "\n",
    "The generated dataset was created using two functions\n",
    "- **Method 1**: One which used the Warnsdorff heuristic with early termination to find tours (~6 million tours)\n",
    "- **Method 2**: One which used Backtracking with a degree heuristic to find tours (~16 million tours)\n",
    "\n",
    "Tours generated using *Method 1* likely has symmetric/reflected tours (i.e., two tours that begin from different positions, but if rotated or flipped, are identical to each other) because during generation, the starting positions were selected randomly instead of being constrained to one of the quadrants of an 8 x 8 chessboard. \n",
    "\n",
    "So first, I will find the number of truly unique tours, and then, I will augment those tours by finding all their rotations and reflections tours effectively increasing the dataset size by a factor of 8."
   ]
  },
  {
   "cell_type": "code",
   "execution_count": 111,
   "id": "20ceac5f-a77b-4501-9e9d-a9fac86b9e14",
   "metadata": {},
   "outputs": [],
   "source": [
    "def generate_symmetric_tours(tour):\n",
    "    \"\"\"\n",
    "    This function generates all eight symmetric tours — four rotations \n",
    "    and four relfections — from the given knight's tour.\n",
    "\n",
    "    Portions of this code were iteratively corrected using GPT-4o.\n",
    "    Prompt: \"For the given function {copy-paste function}, could you correct why \n",
    "    the tours aren't being reflected properly?\"\n",
    "    \n",
    "    \"\"\"\n",
    "    # Convert the tour into a 2D representation (row, col) indices\n",
    "    tour_coords = [(pos // 8, pos % 8) for pos in tour]\n",
    "\n",
    "    def to_linear(pos):\n",
    "        return pos[0] * 8 + pos[1]\n",
    "\n",
    "    def rotate_90(coords):\n",
    "        return [(col, 7 - row) for row, col in coords]\n",
    "\n",
    "    def reflect_horizontal(coords):\n",
    "        return [(row, 7 - col) for row, col in coords]\n",
    "\n",
    "    def reflect_vertical(coords):\n",
    "        return [(7 - row, col) for row, col in coords]\n",
    "\n",
    "    def reflect_diagonal(coords):\n",
    "        return [(col, row) for row, col in coords]\n",
    "\n",
    "    def reflect_anti_diagonal(coords):\n",
    "        return [(7 - col, 7 - row) for row, col in coords]\n",
    "\n",
    "    # generating all transformations\n",
    "    transformations = []\n",
    "    current_coords = tour_coords\n",
    "    for _ in range(4):  \n",
    "        transformations.append(current_coords)\n",
    "        current_coords = rotate_90(current_coords)\n",
    "    \n",
    "    # adding reflections of the original tour\n",
    "    transformations += [\n",
    "        reflect_horizontal(tour_coords),\n",
    "        reflect_vertical(tour_coords),\n",
    "        reflect_diagonal(tour_coords),\n",
    "        reflect_anti_diagonal(tour_coords),\n",
    "    ]\n",
    "\n",
    "    # converting 2D indices to 1D indices\n",
    "    symmetric_tours = [list(map(to_linear, coords)) for coords in transformations]\n",
    "    return symmetric_tours\n",
    "\n",
    "\n",
    "def find_unique_tours(all_tours):\n",
    "    \"\"\"\n",
    "    This function takes as an input a sequence of sequences and returns only the unique knight's tours.\n",
    "    \"\"\"\n",
    "    # defining acceptable starting positions\n",
    "    first_quadrant_indices = set(i.item() for i in np.array(range(64)).reshape(8, 8)[:4, :4].flatten())\n",
    "    unique_tours = set()\n",
    "    \n",
    "    for tour in tqdm(all_tours):\n",
    "        # generating all symmetries\n",
    "        symmetric_tours = generate_symmetric_tours(tour)\n",
    "        \n",
    "        # only choosing tours that start from the first quadrant of the board\n",
    "        valid_tours = [t for t in symmetric_tours if t[0] in first_quadrant_indices]\n",
    "        \n",
    "        if valid_tours:\n",
    "            chosen_tour = min(valid_tours)\n",
    "            unique_tours.add(tuple(chosen_tour))\n",
    "    \n",
    "    return unique_tours"
   ]
  },
  {
   "cell_type": "code",
   "execution_count": 4,
   "id": "9e97fe96-5c92-44a2-aed1-ade249288e06",
   "metadata": {},
   "outputs": [
    {
     "name": "stderr",
     "output_type": "stream",
     "text": [
      "100%|███████████████████████████████████████████| 22386084/22386084 [15:54<00:00, 23449.71it/s]\n"
     ]
    }
   ],
   "source": [
    "unique_tours = find_unique_tours(full_df.rows())"
   ]
  },
  {
   "cell_type": "code",
   "execution_count": 5,
   "id": "8b806edc-09d7-42e7-b8f1-9e623b7413ed",
   "metadata": {},
   "outputs": [],
   "source": [
    "# deleting the stored dataframe to free up memory\n",
    "\n",
    "del full_df"
   ]
  },
  {
   "cell_type": "code",
   "execution_count": 6,
   "id": "ccddf95e-b1d4-4db3-bd7e-312cd0f29653",
   "metadata": {},
   "outputs": [],
   "source": [
    "import pickle\n",
    "\n",
    "with open('../data/final/unique_tours_set.pkl', 'wb') as f:\n",
    "    pickle.dump(unique_tours, f)\n",
    "    \n",
    "#with open('../data/final/unique_tours_set.pkl', 'rb') as f:\n",
    "#    unique_tours = pickle.load(f)"
   ]
  },
  {
   "cell_type": "code",
   "execution_count": 7,
   "id": "4c5e5e95-a6ef-49a9-a695-e8ea9314c125",
   "metadata": {},
   "outputs": [],
   "source": [
    "unique_tours_tuple = tuple(unique_tours)"
   ]
  },
  {
   "cell_type": "code",
   "execution_count": 8,
   "id": "c7f2c179-41c5-4bde-84b7-97aeeeb228f1",
   "metadata": {},
   "outputs": [],
   "source": [
    "del unique_tours"
   ]
  },
  {
   "cell_type": "code",
   "execution_count": 9,
   "id": "429fa45b-475c-4996-8e83-6935371f113c",
   "metadata": {},
   "outputs": [
    {
     "data": {
      "text/plain": [
       "17022661"
      ]
     },
     "execution_count": 9,
     "metadata": {},
     "output_type": "execute_result"
    }
   ],
   "source": [
    "(num_unique_tours := len(unique_tours_tuple))"
   ]
  },
  {
   "cell_type": "code",
   "execution_count": 10,
   "id": "2af441f1-0875-46ca-be7f-cb24f56fa707",
   "metadata": {},
   "outputs": [
    {
     "data": {
      "text/plain": [
       "136181288"
      ]
     },
     "execution_count": 10,
     "metadata": {},
     "output_type": "execute_result"
    }
   ],
   "source": [
    "(num_augmented_tours := 8 * num_unique_tours)"
   ]
  },
  {
   "cell_type": "code",
   "execution_count": 11,
   "id": "13b3f54e-97fc-43af-91e3-16220cd256d7",
   "metadata": {},
   "outputs": [],
   "source": [
    "unique_tours_dict = {\n",
    "    f\"move_{i}\": [unique_tours_tuple[j][i] for j in range(len(unique_tours_tuple))] for i in range(len(unique_tours_tuple[0]))\n",
    "}"
   ]
  },
  {
   "cell_type": "code",
   "execution_count": 12,
   "id": "4538b0ad-5d7e-4053-8528-aa3295d2acce",
   "metadata": {},
   "outputs": [],
   "source": [
    "del unique_tours_tuple"
   ]
  },
  {
   "cell_type": "code",
   "execution_count": 13,
   "id": "66b6a139-1512-4968-9824-3ed7260d236c",
   "metadata": {},
   "outputs": [],
   "source": [
    "unique_tours_df = pl.DataFrame(\n",
    "    unique_tours_dict,\n",
    "    schema={f\"move_{i}\": pl.Int8 for i in range(64)},\n",
    ").sort(by=\"move_0\")"
   ]
  },
  {
   "cell_type": "code",
   "execution_count": 14,
   "id": "5f4913f6-0ec8-4e87-a303-d0335618da92",
   "metadata": {},
   "outputs": [],
   "source": [
    "# saving all the unique tours\n",
    "unique_tours_df.write_parquet(\n",
    "    f\"../data/final/tours_8x8_17022661_20241204_unique.parquet\",\n",
    "    compression=\"zstd\"\n",
    ")"
   ]
  },
  {
   "cell_type": "code",
   "execution_count": 104,
   "id": "5923b5fb-e3cf-4a70-af94-883ea0c7767b",
   "metadata": {},
   "outputs": [],
   "source": [
    "# loading the unique tours as a df\n",
    "unique_tours_df = pl.read_parquet(\n",
    "    f\"../data/final/tours_8x8_17022661_20241204_unique.parquet\",\n",
    ")"
   ]
  },
  {
   "cell_type": "code",
   "execution_count": 105,
   "id": "4e46d6e6-7b4b-45ff-a1c5-786a82a6d64e",
   "metadata": {},
   "outputs": [
    {
     "data": {
      "text/html": [
       "<div><style>\n",
       ".dataframe > thead > tr,\n",
       ".dataframe > tbody > tr {\n",
       "  text-align: right;\n",
       "  white-space: pre-wrap;\n",
       "}\n",
       "</style>\n",
       "<small>shape: (17_022_661, 64)</small><table border=\"1\" class=\"dataframe\"><thead><tr><th>move_0</th><th>move_1</th><th>move_2</th><th>move_3</th><th>move_4</th><th>move_5</th><th>move_6</th><th>move_7</th><th>move_8</th><th>move_9</th><th>move_10</th><th>move_11</th><th>move_12</th><th>move_13</th><th>move_14</th><th>move_15</th><th>move_16</th><th>move_17</th><th>move_18</th><th>move_19</th><th>move_20</th><th>move_21</th><th>move_22</th><th>move_23</th><th>move_24</th><th>move_25</th><th>move_26</th><th>move_27</th><th>move_28</th><th>move_29</th><th>move_30</th><th>move_31</th><th>move_32</th><th>move_33</th><th>move_34</th><th>move_35</th><th>move_36</th><th>move_37</th><th>move_38</th><th>move_39</th><th>move_40</th><th>move_41</th><th>move_42</th><th>move_43</th><th>move_44</th><th>move_45</th><th>move_46</th><th>move_47</th><th>move_48</th><th>move_49</th><th>move_50</th><th>move_51</th><th>move_52</th><th>move_53</th><th>move_54</th><th>move_55</th><th>move_56</th><th>move_57</th><th>move_58</th><th>move_59</th><th>move_60</th><th>move_61</th><th>move_62</th><th>move_63</th></tr><tr><td>i8</td><td>i8</td><td>i8</td><td>i8</td><td>i8</td><td>i8</td><td>i8</td><td>i8</td><td>i8</td><td>i8</td><td>i8</td><td>i8</td><td>i8</td><td>i8</td><td>i8</td><td>i8</td><td>i8</td><td>i8</td><td>i8</td><td>i8</td><td>i8</td><td>i8</td><td>i8</td><td>i8</td><td>i8</td><td>i8</td><td>i8</td><td>i8</td><td>i8</td><td>i8</td><td>i8</td><td>i8</td><td>i8</td><td>i8</td><td>i8</td><td>i8</td><td>i8</td><td>i8</td><td>i8</td><td>i8</td><td>i8</td><td>i8</td><td>i8</td><td>i8</td><td>i8</td><td>i8</td><td>i8</td><td>i8</td><td>i8</td><td>i8</td><td>i8</td><td>i8</td><td>i8</td><td>i8</td><td>i8</td><td>i8</td><td>i8</td><td>i8</td><td>i8</td><td>i8</td><td>i8</td><td>i8</td><td>i8</td><td>i8</td></tr></thead><tbody><tr><td>0</td><td>10</td><td>16</td><td>1</td><td>11</td><td>5</td><td>15</td><td>30</td><td>47</td><td>62</td><td>52</td><td>58</td><td>48</td><td>33</td><td>50</td><td>56</td><td>41</td><td>24</td><td>9</td><td>3</td><td>13</td><td>7</td><td>22</td><td>39</td><td>54</td><td>60</td><td>45</td><td>55</td><td>61</td><td>51</td><td>57</td><td>40</td><td>25</td><td>8</td><td>18</td><td>35</td><td>20</td><td>14</td><td>4</td><td>19</td><td>2</td><td>17</td><td>27</td><td>42</td><td>36</td><td>21</td><td>6</td><td>12</td><td>29</td><td>23</td><td>38</td><td>28</td><td>34</td><td>49</td><td>32</td><td>26</td><td>43</td><td>37</td><td>31</td><td>46</td><td>63</td><td>53</td><td>59</td><td>44</td></tr><tr><td>0</td><td>10</td><td>16</td><td>1</td><td>11</td><td>5</td><td>15</td><td>30</td><td>47</td><td>62</td><td>52</td><td>58</td><td>48</td><td>33</td><td>50</td><td>56</td><td>41</td><td>24</td><td>9</td><td>3</td><td>13</td><td>7</td><td>22</td><td>39</td><td>54</td><td>60</td><td>45</td><td>55</td><td>61</td><td>51</td><td>57</td><td>40</td><td>25</td><td>8</td><td>18</td><td>35</td><td>20</td><td>37</td><td>43</td><td>28</td><td>38</td><td>23</td><td>6</td><td>21</td><td>4</td><td>19</td><td>36</td><td>26</td><td>32</td><td>42</td><td>27</td><td>12</td><td>2</td><td>17</td><td>34</td><td>49</td><td>59</td><td>53</td><td>63</td><td>46</td><td>31</td><td>14</td><td>29</td><td>44</td></tr><tr><td>0</td><td>10</td><td>16</td><td>1</td><td>11</td><td>5</td><td>15</td><td>30</td><td>47</td><td>62</td><td>52</td><td>58</td><td>48</td><td>33</td><td>50</td><td>56</td><td>41</td><td>24</td><td>9</td><td>3</td><td>13</td><td>7</td><td>22</td><td>39</td><td>54</td><td>60</td><td>45</td><td>55</td><td>61</td><td>51</td><td>57</td><td>40</td><td>25</td><td>8</td><td>18</td><td>35</td><td>20</td><td>37</td><td>27</td><td>42</td><td>59</td><td>44</td><td>34</td><td>49</td><td>32</td><td>17</td><td>2</td><td>12</td><td>6</td><td>23</td><td>38</td><td>28</td><td>43</td><td>26</td><td>36</td><td>53</td><td>63</td><td>46</td><td>31</td><td>21</td><td>4</td><td>19</td><td>29</td><td>14</td></tr><tr><td>0</td><td>10</td><td>16</td><td>1</td><td>11</td><td>5</td><td>15</td><td>30</td><td>47</td><td>62</td><td>52</td><td>58</td><td>48</td><td>33</td><td>50</td><td>56</td><td>41</td><td>24</td><td>9</td><td>3</td><td>13</td><td>7</td><td>22</td><td>39</td><td>54</td><td>60</td><td>45</td><td>55</td><td>61</td><td>51</td><td>57</td><td>40</td><td>25</td><td>8</td><td>18</td><td>35</td><td>29</td><td>46</td><td>63</td><td>53</td><td>59</td><td>49</td><td>43</td><td>28</td><td>38</td><td>23</td><td>6</td><td>12</td><td>2</td><td>19</td><td>34</td><td>44</td><td>27</td><td>17</td><td>32</td><td>26</td><td>20</td><td>37</td><td>31</td><td>14</td><td>4</td><td>21</td><td>36</td><td>42</td></tr><tr><td>0</td><td>10</td><td>16</td><td>1</td><td>11</td><td>5</td><td>15</td><td>30</td><td>47</td><td>62</td><td>52</td><td>58</td><td>48</td><td>33</td><td>50</td><td>56</td><td>41</td><td>24</td><td>9</td><td>3</td><td>13</td><td>7</td><td>22</td><td>39</td><td>54</td><td>60</td><td>45</td><td>55</td><td>61</td><td>51</td><td>57</td><td>40</td><td>25</td><td>8</td><td>18</td><td>35</td><td>29</td><td>23</td><td>6</td><td>12</td><td>27</td><td>37</td><td>20</td><td>14</td><td>31</td><td>46</td><td>63</td><td>53</td><td>59</td><td>44</td><td>38</td><td>28</td><td>34</td><td>49</td><td>43</td><td>26</td><td>32</td><td>17</td><td>2</td><td>19</td><td>4</td><td>21</td><td>36</td><td>42</td></tr><tr><td>&hellip;</td><td>&hellip;</td><td>&hellip;</td><td>&hellip;</td><td>&hellip;</td><td>&hellip;</td><td>&hellip;</td><td>&hellip;</td><td>&hellip;</td><td>&hellip;</td><td>&hellip;</td><td>&hellip;</td><td>&hellip;</td><td>&hellip;</td><td>&hellip;</td><td>&hellip;</td><td>&hellip;</td><td>&hellip;</td><td>&hellip;</td><td>&hellip;</td><td>&hellip;</td><td>&hellip;</td><td>&hellip;</td><td>&hellip;</td><td>&hellip;</td><td>&hellip;</td><td>&hellip;</td><td>&hellip;</td><td>&hellip;</td><td>&hellip;</td><td>&hellip;</td><td>&hellip;</td><td>&hellip;</td><td>&hellip;</td><td>&hellip;</td><td>&hellip;</td><td>&hellip;</td><td>&hellip;</td><td>&hellip;</td><td>&hellip;</td><td>&hellip;</td><td>&hellip;</td><td>&hellip;</td><td>&hellip;</td><td>&hellip;</td><td>&hellip;</td><td>&hellip;</td><td>&hellip;</td><td>&hellip;</td><td>&hellip;</td><td>&hellip;</td><td>&hellip;</td><td>&hellip;</td><td>&hellip;</td><td>&hellip;</td><td>&hellip;</td><td>&hellip;</td><td>&hellip;</td><td>&hellip;</td><td>&hellip;</td><td>&hellip;</td><td>&hellip;</td><td>&hellip;</td><td>&hellip;</td></tr><tr><td>27</td><td>12</td><td>6</td><td>23</td><td>38</td><td>55</td><td>61</td><td>44</td><td>54</td><td>60</td><td>50</td><td>56</td><td>41</td><td>24</td><td>9</td><td>3</td><td>13</td><td>7</td><td>22</td><td>39</td><td>29</td><td>14</td><td>4</td><td>19</td><td>2</td><td>8</td><td>25</td><td>40</td><td>57</td><td>51</td><td>34</td><td>17</td><td>0</td><td>10</td><td>16</td><td>1</td><td>18</td><td>33</td><td>48</td><td>58</td><td>43</td><td>49</td><td>32</td><td>26</td><td>11</td><td>28</td><td>45</td><td>35</td><td>20</td><td>5</td><td>15</td><td>30</td><td>47</td><td>62</td><td>52</td><td>37</td><td>31</td><td>21</td><td>36</td><td>42</td><td>59</td><td>53</td><td>63</td><td>46</td></tr><tr><td>27</td><td>12</td><td>6</td><td>23</td><td>13</td><td>7</td><td>22</td><td>39</td><td>54</td><td>60</td><td>50</td><td>56</td><td>41</td><td>58</td><td>48</td><td>33</td><td>16</td><td>1</td><td>18</td><td>3</td><td>9</td><td>24</td><td>34</td><td>40</td><td>57</td><td>51</td><td>61</td><td>55</td><td>38</td><td>44</td><td>59</td><td>49</td><td>32</td><td>26</td><td>43</td><td>37</td><td>31</td><td>46</td><td>63</td><td>53</td><td>47</td><td>30</td><td>15</td><td>5</td><td>20</td><td>14</td><td>29</td><td>19</td><td>2</td><td>8</td><td>25</td><td>35</td><td>45</td><td>28</td><td>11</td><td>17</td><td>0</td><td>10</td><td>4</td><td>21</td><td>36</td><td>42</td><td>52</td><td>62</td></tr><tr><td>27</td><td>12</td><td>6</td><td>23</td><td>13</td><td>7</td><td>22</td><td>39</td><td>54</td><td>60</td><td>50</td><td>56</td><td>41</td><td>58</td><td>48</td><td>33</td><td>16</td><td>1</td><td>18</td><td>3</td><td>9</td><td>24</td><td>34</td><td>40</td><td>57</td><td>51</td><td>61</td><td>55</td><td>38</td><td>44</td><td>59</td><td>49</td><td>32</td><td>42</td><td>52</td><td>35</td><td>29</td><td>14</td><td>31</td><td>46</td><td>63</td><td>53</td><td>47</td><td>62</td><td>45</td><td>28</td><td>43</td><td>37</td><td>20</td><td>30</td><td>15</td><td>5</td><td>11</td><td>26</td><td>36</td><td>21</td><td>4</td><td>10</td><td>0</td><td>17</td><td>2</td><td>19</td><td>25</td><td>8</td></tr><tr><td>27</td><td>12</td><td>6</td><td>23</td><td>13</td><td>7</td><td>22</td><td>39</td><td>54</td><td>60</td><td>50</td><td>56</td><td>41</td><td>58</td><td>48</td><td>33</td><td>16</td><td>1</td><td>18</td><td>3</td><td>9</td><td>24</td><td>34</td><td>40</td><td>57</td><td>51</td><td>61</td><td>55</td><td>38</td><td>44</td><td>59</td><td>49</td><td>32</td><td>42</td><td>52</td><td>62</td><td>45</td><td>28</td><td>43</td><td>26</td><td>36</td><td>53</td><td>63</td><td>46</td><td>29</td><td>19</td><td>2</td><td>8</td><td>25</td><td>35</td><td>20</td><td>10</td><td>0</td><td>17</td><td>11</td><td>5</td><td>15</td><td>30</td><td>47</td><td>37</td><td>31</td><td>21</td><td>4</td><td>14</td></tr><tr><td>27</td><td>12</td><td>6</td><td>23</td><td>38</td><td>55</td><td>61</td><td>44</td><td>54</td><td>39</td><td>29</td><td>14</td><td>31</td><td>46</td><td>63</td><td>53</td><td>59</td><td>49</td><td>32</td><td>17</td><td>0</td><td>10</td><td>4</td><td>21</td><td>15</td><td>5</td><td>11</td><td>1</td><td>16</td><td>33</td><td>48</td><td>58</td><td>43</td><td>60</td><td>50</td><td>56</td><td>41</td><td>24</td><td>9</td><td>26</td><td>20</td><td>3</td><td>18</td><td>8</td><td>2</td><td>19</td><td>36</td><td>30</td><td>13</td><td>7</td><td>22</td><td>28</td><td>34</td><td>40</td><td>57</td><td>51</td><td>45</td><td>35</td><td>25</td><td>42</td><td>52</td><td>62</td><td>47</td><td>37</td></tr></tbody></table></div>"
      ],
      "text/plain": [
       "shape: (17_022_661, 64)\n",
       "┌────────┬────────┬────────┬────────┬───┬─────────┬─────────┬─────────┬─────────┐\n",
       "│ move_0 ┆ move_1 ┆ move_2 ┆ move_3 ┆ … ┆ move_60 ┆ move_61 ┆ move_62 ┆ move_63 │\n",
       "│ ---    ┆ ---    ┆ ---    ┆ ---    ┆   ┆ ---     ┆ ---     ┆ ---     ┆ ---     │\n",
       "│ i8     ┆ i8     ┆ i8     ┆ i8     ┆   ┆ i8      ┆ i8      ┆ i8      ┆ i8      │\n",
       "╞════════╪════════╪════════╪════════╪═══╪═════════╪═════════╪═════════╪═════════╡\n",
       "│ 0      ┆ 10     ┆ 16     ┆ 1      ┆ … ┆ 63      ┆ 53      ┆ 59      ┆ 44      │\n",
       "│ 0      ┆ 10     ┆ 16     ┆ 1      ┆ … ┆ 31      ┆ 14      ┆ 29      ┆ 44      │\n",
       "│ 0      ┆ 10     ┆ 16     ┆ 1      ┆ … ┆ 4       ┆ 19      ┆ 29      ┆ 14      │\n",
       "│ 0      ┆ 10     ┆ 16     ┆ 1      ┆ … ┆ 4       ┆ 21      ┆ 36      ┆ 42      │\n",
       "│ 0      ┆ 10     ┆ 16     ┆ 1      ┆ … ┆ 4       ┆ 21      ┆ 36      ┆ 42      │\n",
       "│ …      ┆ …      ┆ …      ┆ …      ┆ … ┆ …       ┆ …       ┆ …       ┆ …       │\n",
       "│ 27     ┆ 12     ┆ 6      ┆ 23     ┆ … ┆ 59      ┆ 53      ┆ 63      ┆ 46      │\n",
       "│ 27     ┆ 12     ┆ 6      ┆ 23     ┆ … ┆ 36      ┆ 42      ┆ 52      ┆ 62      │\n",
       "│ 27     ┆ 12     ┆ 6      ┆ 23     ┆ … ┆ 2       ┆ 19      ┆ 25      ┆ 8       │\n",
       "│ 27     ┆ 12     ┆ 6      ┆ 23     ┆ … ┆ 31      ┆ 21      ┆ 4       ┆ 14      │\n",
       "│ 27     ┆ 12     ┆ 6      ┆ 23     ┆ … ┆ 52      ┆ 62      ┆ 47      ┆ 37      │\n",
       "└────────┴────────┴────────┴────────┴───┴─────────┴─────────┴─────────┴─────────┘"
      ]
     },
     "execution_count": 105,
     "metadata": {},
     "output_type": "execute_result"
    }
   ],
   "source": [
    "unique_tours_df"
   ]
  },
  {
   "cell_type": "code",
   "execution_count": 22,
   "id": "54ac78f4-6cbc-4e17-8013-e93aa4265fe0",
   "metadata": {},
   "outputs": [
    {
     "data": {
      "text/plain": [
       "array([[ 0,  1,  2,  3,  4,  5,  6,  7],\n",
       "       [ 8,  9, 10, 11, 12, 13, 14, 15],\n",
       "       [16, 17, 18, 19, 20, 21, 22, 23],\n",
       "       [24, 25, 26, 27, 28, 29, 30, 31],\n",
       "       [32, 33, 34, 35, 36, 37, 38, 39],\n",
       "       [40, 41, 42, 43, 44, 45, 46, 47],\n",
       "       [48, 49, 50, 51, 52, 53, 54, 55],\n",
       "       [56, 57, 58, 59, 60, 61, 62, 63]])"
      ]
     },
     "execution_count": 22,
     "metadata": {},
     "output_type": "execute_result"
    }
   ],
   "source": [
    "np.array(range(64)).reshape(8, 8)"
   ]
  },
  {
   "cell_type": "code",
   "execution_count": 16,
   "id": "b9895e43-27d2-41fd-8791-e6918fc169f6",
   "metadata": {},
   "outputs": [
    {
     "data": {
      "text/html": [
       "<div><style>\n",
       ".dataframe > thead > tr,\n",
       ".dataframe > tbody > tr {\n",
       "  text-align: right;\n",
       "  white-space: pre-wrap;\n",
       "}\n",
       "</style>\n",
       "<small>shape: (17_022_661, 64)</small><table border=\"1\" class=\"dataframe\"><thead><tr><th>move_0</th><th>move_1</th><th>move_2</th><th>move_3</th><th>move_4</th><th>move_5</th><th>move_6</th><th>move_7</th><th>move_8</th><th>move_9</th><th>move_10</th><th>move_11</th><th>move_12</th><th>move_13</th><th>move_14</th><th>move_15</th><th>move_16</th><th>move_17</th><th>move_18</th><th>move_19</th><th>move_20</th><th>move_21</th><th>move_22</th><th>move_23</th><th>move_24</th><th>move_25</th><th>move_26</th><th>move_27</th><th>move_28</th><th>move_29</th><th>move_30</th><th>move_31</th><th>move_32</th><th>move_33</th><th>move_34</th><th>move_35</th><th>move_36</th><th>move_37</th><th>move_38</th><th>move_39</th><th>move_40</th><th>move_41</th><th>move_42</th><th>move_43</th><th>move_44</th><th>move_45</th><th>move_46</th><th>move_47</th><th>move_48</th><th>move_49</th><th>move_50</th><th>move_51</th><th>move_52</th><th>move_53</th><th>move_54</th><th>move_55</th><th>move_56</th><th>move_57</th><th>move_58</th><th>move_59</th><th>move_60</th><th>move_61</th><th>move_62</th><th>move_63</th></tr><tr><td>i8</td><td>i8</td><td>i8</td><td>i8</td><td>i8</td><td>i8</td><td>i8</td><td>i8</td><td>i8</td><td>i8</td><td>i8</td><td>i8</td><td>i8</td><td>i8</td><td>i8</td><td>i8</td><td>i8</td><td>i8</td><td>i8</td><td>i8</td><td>i8</td><td>i8</td><td>i8</td><td>i8</td><td>i8</td><td>i8</td><td>i8</td><td>i8</td><td>i8</td><td>i8</td><td>i8</td><td>i8</td><td>i8</td><td>i8</td><td>i8</td><td>i8</td><td>i8</td><td>i8</td><td>i8</td><td>i8</td><td>i8</td><td>i8</td><td>i8</td><td>i8</td><td>i8</td><td>i8</td><td>i8</td><td>i8</td><td>i8</td><td>i8</td><td>i8</td><td>i8</td><td>i8</td><td>i8</td><td>i8</td><td>i8</td><td>i8</td><td>i8</td><td>i8</td><td>i8</td><td>i8</td><td>i8</td><td>i8</td><td>i8</td></tr></thead><tbody><tr><td>0</td><td>10</td><td>16</td><td>1</td><td>11</td><td>5</td><td>15</td><td>30</td><td>47</td><td>62</td><td>52</td><td>58</td><td>48</td><td>33</td><td>50</td><td>56</td><td>41</td><td>24</td><td>9</td><td>3</td><td>13</td><td>7</td><td>22</td><td>39</td><td>54</td><td>60</td><td>45</td><td>55</td><td>61</td><td>51</td><td>57</td><td>40</td><td>25</td><td>8</td><td>18</td><td>35</td><td>20</td><td>14</td><td>4</td><td>19</td><td>2</td><td>17</td><td>27</td><td>42</td><td>36</td><td>21</td><td>6</td><td>12</td><td>29</td><td>23</td><td>38</td><td>28</td><td>34</td><td>49</td><td>32</td><td>26</td><td>43</td><td>37</td><td>31</td><td>46</td><td>63</td><td>53</td><td>59</td><td>44</td></tr><tr><td>0</td><td>10</td><td>16</td><td>1</td><td>11</td><td>5</td><td>15</td><td>30</td><td>47</td><td>62</td><td>52</td><td>58</td><td>48</td><td>33</td><td>50</td><td>56</td><td>41</td><td>24</td><td>9</td><td>3</td><td>13</td><td>7</td><td>22</td><td>39</td><td>54</td><td>60</td><td>45</td><td>55</td><td>61</td><td>51</td><td>57</td><td>40</td><td>25</td><td>8</td><td>18</td><td>35</td><td>20</td><td>37</td><td>43</td><td>28</td><td>38</td><td>23</td><td>6</td><td>21</td><td>4</td><td>19</td><td>36</td><td>26</td><td>32</td><td>42</td><td>27</td><td>12</td><td>2</td><td>17</td><td>34</td><td>49</td><td>59</td><td>53</td><td>63</td><td>46</td><td>31</td><td>14</td><td>29</td><td>44</td></tr><tr><td>0</td><td>10</td><td>16</td><td>1</td><td>11</td><td>5</td><td>15</td><td>30</td><td>47</td><td>62</td><td>52</td><td>58</td><td>48</td><td>33</td><td>50</td><td>56</td><td>41</td><td>24</td><td>9</td><td>3</td><td>13</td><td>7</td><td>22</td><td>39</td><td>54</td><td>60</td><td>45</td><td>55</td><td>61</td><td>51</td><td>57</td><td>40</td><td>25</td><td>8</td><td>18</td><td>35</td><td>20</td><td>37</td><td>27</td><td>42</td><td>59</td><td>44</td><td>34</td><td>49</td><td>32</td><td>17</td><td>2</td><td>12</td><td>6</td><td>23</td><td>38</td><td>28</td><td>43</td><td>26</td><td>36</td><td>53</td><td>63</td><td>46</td><td>31</td><td>21</td><td>4</td><td>19</td><td>29</td><td>14</td></tr><tr><td>0</td><td>10</td><td>16</td><td>1</td><td>11</td><td>5</td><td>15</td><td>30</td><td>47</td><td>62</td><td>52</td><td>58</td><td>48</td><td>33</td><td>50</td><td>56</td><td>41</td><td>24</td><td>9</td><td>3</td><td>13</td><td>7</td><td>22</td><td>39</td><td>54</td><td>60</td><td>45</td><td>55</td><td>61</td><td>51</td><td>57</td><td>40</td><td>25</td><td>8</td><td>18</td><td>35</td><td>29</td><td>46</td><td>63</td><td>53</td><td>59</td><td>49</td><td>43</td><td>28</td><td>38</td><td>23</td><td>6</td><td>12</td><td>2</td><td>19</td><td>34</td><td>44</td><td>27</td><td>17</td><td>32</td><td>26</td><td>20</td><td>37</td><td>31</td><td>14</td><td>4</td><td>21</td><td>36</td><td>42</td></tr><tr><td>0</td><td>10</td><td>16</td><td>1</td><td>11</td><td>5</td><td>15</td><td>30</td><td>47</td><td>62</td><td>52</td><td>58</td><td>48</td><td>33</td><td>50</td><td>56</td><td>41</td><td>24</td><td>9</td><td>3</td><td>13</td><td>7</td><td>22</td><td>39</td><td>54</td><td>60</td><td>45</td><td>55</td><td>61</td><td>51</td><td>57</td><td>40</td><td>25</td><td>8</td><td>18</td><td>35</td><td>29</td><td>23</td><td>6</td><td>12</td><td>27</td><td>37</td><td>20</td><td>14</td><td>31</td><td>46</td><td>63</td><td>53</td><td>59</td><td>44</td><td>38</td><td>28</td><td>34</td><td>49</td><td>43</td><td>26</td><td>32</td><td>17</td><td>2</td><td>19</td><td>4</td><td>21</td><td>36</td><td>42</td></tr><tr><td>&hellip;</td><td>&hellip;</td><td>&hellip;</td><td>&hellip;</td><td>&hellip;</td><td>&hellip;</td><td>&hellip;</td><td>&hellip;</td><td>&hellip;</td><td>&hellip;</td><td>&hellip;</td><td>&hellip;</td><td>&hellip;</td><td>&hellip;</td><td>&hellip;</td><td>&hellip;</td><td>&hellip;</td><td>&hellip;</td><td>&hellip;</td><td>&hellip;</td><td>&hellip;</td><td>&hellip;</td><td>&hellip;</td><td>&hellip;</td><td>&hellip;</td><td>&hellip;</td><td>&hellip;</td><td>&hellip;</td><td>&hellip;</td><td>&hellip;</td><td>&hellip;</td><td>&hellip;</td><td>&hellip;</td><td>&hellip;</td><td>&hellip;</td><td>&hellip;</td><td>&hellip;</td><td>&hellip;</td><td>&hellip;</td><td>&hellip;</td><td>&hellip;</td><td>&hellip;</td><td>&hellip;</td><td>&hellip;</td><td>&hellip;</td><td>&hellip;</td><td>&hellip;</td><td>&hellip;</td><td>&hellip;</td><td>&hellip;</td><td>&hellip;</td><td>&hellip;</td><td>&hellip;</td><td>&hellip;</td><td>&hellip;</td><td>&hellip;</td><td>&hellip;</td><td>&hellip;</td><td>&hellip;</td><td>&hellip;</td><td>&hellip;</td><td>&hellip;</td><td>&hellip;</td><td>&hellip;</td></tr><tr><td>27</td><td>12</td><td>6</td><td>23</td><td>38</td><td>55</td><td>61</td><td>44</td><td>54</td><td>60</td><td>50</td><td>56</td><td>41</td><td>24</td><td>9</td><td>3</td><td>13</td><td>7</td><td>22</td><td>39</td><td>29</td><td>14</td><td>4</td><td>19</td><td>2</td><td>8</td><td>25</td><td>40</td><td>57</td><td>51</td><td>34</td><td>17</td><td>0</td><td>10</td><td>16</td><td>1</td><td>18</td><td>33</td><td>48</td><td>58</td><td>43</td><td>49</td><td>32</td><td>26</td><td>11</td><td>28</td><td>45</td><td>35</td><td>20</td><td>5</td><td>15</td><td>30</td><td>47</td><td>62</td><td>52</td><td>37</td><td>31</td><td>21</td><td>36</td><td>42</td><td>59</td><td>53</td><td>63</td><td>46</td></tr><tr><td>27</td><td>12</td><td>6</td><td>23</td><td>13</td><td>7</td><td>22</td><td>39</td><td>54</td><td>60</td><td>50</td><td>56</td><td>41</td><td>58</td><td>48</td><td>33</td><td>16</td><td>1</td><td>18</td><td>3</td><td>9</td><td>24</td><td>34</td><td>40</td><td>57</td><td>51</td><td>61</td><td>55</td><td>38</td><td>44</td><td>59</td><td>49</td><td>32</td><td>26</td><td>43</td><td>37</td><td>31</td><td>46</td><td>63</td><td>53</td><td>47</td><td>30</td><td>15</td><td>5</td><td>20</td><td>14</td><td>29</td><td>19</td><td>2</td><td>8</td><td>25</td><td>35</td><td>45</td><td>28</td><td>11</td><td>17</td><td>0</td><td>10</td><td>4</td><td>21</td><td>36</td><td>42</td><td>52</td><td>62</td></tr><tr><td>27</td><td>12</td><td>6</td><td>23</td><td>13</td><td>7</td><td>22</td><td>39</td><td>54</td><td>60</td><td>50</td><td>56</td><td>41</td><td>58</td><td>48</td><td>33</td><td>16</td><td>1</td><td>18</td><td>3</td><td>9</td><td>24</td><td>34</td><td>40</td><td>57</td><td>51</td><td>61</td><td>55</td><td>38</td><td>44</td><td>59</td><td>49</td><td>32</td><td>42</td><td>52</td><td>35</td><td>29</td><td>14</td><td>31</td><td>46</td><td>63</td><td>53</td><td>47</td><td>62</td><td>45</td><td>28</td><td>43</td><td>37</td><td>20</td><td>30</td><td>15</td><td>5</td><td>11</td><td>26</td><td>36</td><td>21</td><td>4</td><td>10</td><td>0</td><td>17</td><td>2</td><td>19</td><td>25</td><td>8</td></tr><tr><td>27</td><td>12</td><td>6</td><td>23</td><td>13</td><td>7</td><td>22</td><td>39</td><td>54</td><td>60</td><td>50</td><td>56</td><td>41</td><td>58</td><td>48</td><td>33</td><td>16</td><td>1</td><td>18</td><td>3</td><td>9</td><td>24</td><td>34</td><td>40</td><td>57</td><td>51</td><td>61</td><td>55</td><td>38</td><td>44</td><td>59</td><td>49</td><td>32</td><td>42</td><td>52</td><td>62</td><td>45</td><td>28</td><td>43</td><td>26</td><td>36</td><td>53</td><td>63</td><td>46</td><td>29</td><td>19</td><td>2</td><td>8</td><td>25</td><td>35</td><td>20</td><td>10</td><td>0</td><td>17</td><td>11</td><td>5</td><td>15</td><td>30</td><td>47</td><td>37</td><td>31</td><td>21</td><td>4</td><td>14</td></tr><tr><td>27</td><td>12</td><td>6</td><td>23</td><td>38</td><td>55</td><td>61</td><td>44</td><td>54</td><td>39</td><td>29</td><td>14</td><td>31</td><td>46</td><td>63</td><td>53</td><td>59</td><td>49</td><td>32</td><td>17</td><td>0</td><td>10</td><td>4</td><td>21</td><td>15</td><td>5</td><td>11</td><td>1</td><td>16</td><td>33</td><td>48</td><td>58</td><td>43</td><td>60</td><td>50</td><td>56</td><td>41</td><td>24</td><td>9</td><td>26</td><td>20</td><td>3</td><td>18</td><td>8</td><td>2</td><td>19</td><td>36</td><td>30</td><td>13</td><td>7</td><td>22</td><td>28</td><td>34</td><td>40</td><td>57</td><td>51</td><td>45</td><td>35</td><td>25</td><td>42</td><td>52</td><td>62</td><td>47</td><td>37</td></tr></tbody></table></div>"
      ],
      "text/plain": [
       "shape: (17_022_661, 64)\n",
       "┌────────┬────────┬────────┬────────┬───┬─────────┬─────────┬─────────┬─────────┐\n",
       "│ move_0 ┆ move_1 ┆ move_2 ┆ move_3 ┆ … ┆ move_60 ┆ move_61 ┆ move_62 ┆ move_63 │\n",
       "│ ---    ┆ ---    ┆ ---    ┆ ---    ┆   ┆ ---     ┆ ---     ┆ ---     ┆ ---     │\n",
       "│ i8     ┆ i8     ┆ i8     ┆ i8     ┆   ┆ i8      ┆ i8      ┆ i8      ┆ i8      │\n",
       "╞════════╪════════╪════════╪════════╪═══╪═════════╪═════════╪═════════╪═════════╡\n",
       "│ 0      ┆ 10     ┆ 16     ┆ 1      ┆ … ┆ 63      ┆ 53      ┆ 59      ┆ 44      │\n",
       "│ 0      ┆ 10     ┆ 16     ┆ 1      ┆ … ┆ 31      ┆ 14      ┆ 29      ┆ 44      │\n",
       "│ 0      ┆ 10     ┆ 16     ┆ 1      ┆ … ┆ 4       ┆ 19      ┆ 29      ┆ 14      │\n",
       "│ 0      ┆ 10     ┆ 16     ┆ 1      ┆ … ┆ 4       ┆ 21      ┆ 36      ┆ 42      │\n",
       "│ 0      ┆ 10     ┆ 16     ┆ 1      ┆ … ┆ 4       ┆ 21      ┆ 36      ┆ 42      │\n",
       "│ …      ┆ …      ┆ …      ┆ …      ┆ … ┆ …       ┆ …       ┆ …       ┆ …       │\n",
       "│ 27     ┆ 12     ┆ 6      ┆ 23     ┆ … ┆ 59      ┆ 53      ┆ 63      ┆ 46      │\n",
       "│ 27     ┆ 12     ┆ 6      ┆ 23     ┆ … ┆ 36      ┆ 42      ┆ 52      ┆ 62      │\n",
       "│ 27     ┆ 12     ┆ 6      ┆ 23     ┆ … ┆ 2       ┆ 19      ┆ 25      ┆ 8       │\n",
       "│ 27     ┆ 12     ┆ 6      ┆ 23     ┆ … ┆ 31      ┆ 21      ┆ 4       ┆ 14      │\n",
       "│ 27     ┆ 12     ┆ 6      ┆ 23     ┆ … ┆ 52      ┆ 62      ┆ 47      ┆ 37      │\n",
       "└────────┴────────┴────────┴────────┴───┴─────────┴─────────┴─────────┴─────────┘"
      ]
     },
     "execution_count": 16,
     "metadata": {},
     "output_type": "execute_result"
    }
   ],
   "source": [
    "unique_tours_df.filter(~pl.col(\"move_0\").is_in([8, 17, 26]))"
   ]
  },
  {
   "cell_type": "code",
   "execution_count": 18,
   "id": "4aa9ab66-87e7-421d-ad19-49bd3725d5f2",
   "metadata": {},
   "outputs": [
    {
     "data": {
      "text/plain": [
       "[0, 1, 2, 3, 9, 10, 11, 18, 19, 27]"
      ]
     },
     "execution_count": 18,
     "metadata": {},
     "output_type": "execute_result"
    }
   ],
   "source": [
    "unique_tours_df[\"move_0\"].unique().to_list()"
   ]
  },
  {
   "cell_type": "code",
   "execution_count": 21,
   "id": "043780b1-dde1-4445-80f5-edd193845798",
   "metadata": {},
   "outputs": [
    {
     "data": {
      "text/plain": [
       "{0, 1, 2, 3, 8, 9, 10, 11, 16, 17, 18, 19, 24, 25, 26, 27}"
      ]
     },
     "execution_count": 21,
     "metadata": {},
     "output_type": "execute_result"
    }
   ],
   "source": [
    "set(i.item() for i in np.array(range(64)).reshape(8, 8)[:4, :4].flatten())"
   ]
  },
  {
   "cell_type": "code",
   "execution_count": 20,
   "id": "dab2e65f-6b7d-49bb-a57f-c25fba779a8c",
   "metadata": {},
   "outputs": [
    {
     "data": {
      "text/plain": [
       "array([[ 0,  1,  2,  3],\n",
       "       [ 8,  9, 10, 11],\n",
       "       [16, 17, 18, 19],\n",
       "       [24, 25, 26, 27]])"
      ]
     },
     "execution_count": 20,
     "metadata": {},
     "output_type": "execute_result"
    }
   ],
   "source": [
    "np.array(range(64)).reshape(8, 8)[:4, :4]"
   ]
  },
  {
   "cell_type": "markdown",
   "id": "b743143a-91d8-4546-968f-1bbfdaea127b",
   "metadata": {
    "scrolled": true
   },
   "source": [
    "The first indices look correct! 8, 16, 17, 24, 25, and 26 are reflections of the indices present, so they aren't present but can be recreated using the `generate_symmetric_tours` function above."
   ]
  },
  {
   "cell_type": "markdown",
   "id": "6af5a770-d9f0-4d22-9112-b98810396167",
   "metadata": {},
   "source": [
    "## Dataset Augmentation"
   ]
  },
  {
   "cell_type": "code",
   "execution_count": 53,
   "id": "e17c69dc-3af4-43b1-9763-8d42e0264c50",
   "metadata": {},
   "outputs": [
    {
     "data": {
      "text/plain": [
       "array([[11,  1, 16, 33, 48, 58, 52, 62, 47, 53],\n",
       "       [30, 15,  5, 11,  1, 16, 33, 48, 58, 41],\n",
       "       [52, 62, 47, 30, 15,  5, 11,  1, 16, 10],\n",
       "       [33, 48, 58, 52, 62, 47, 30, 15,  5, 22],\n",
       "       [12,  6, 23, 38, 55, 61, 51, 57, 40, 50],\n",
       "       [51, 57, 40, 25,  8,  2, 12,  6, 23, 13],\n",
       "       [25,  8,  2, 12,  6, 23, 38, 55, 61, 46],\n",
       "       [38, 55, 61, 51, 57, 40, 25,  8,  2, 17]])"
      ]
     },
     "execution_count": 53,
     "metadata": {},
     "output_type": "execute_result"
    }
   ],
   "source": [
    "np.array(generate_symmetric_tours(unique_tours_df.row(10687687)))[:, :10]"
   ]
  },
  {
   "cell_type": "code",
   "execution_count": 66,
   "id": "3c284311-2a02-47aa-b879-3f7fd7246895",
   "metadata": {},
   "outputs": [],
   "source": [
    "# I have a hunch about move uniqueness, so checking that\n",
    "\n",
    "uniqueness_lengths = [len(unique_tours_df[:, :col].unique()) for col in range(len(unique_tours_df.row(0)))]"
   ]
  },
  {
   "cell_type": "code",
   "execution_count": 134,
   "id": "b3cc9159-a148-4070-ad2e-69733aa61b94",
   "metadata": {},
   "outputs": [
    {
     "data": {
      "image/png": "[encoded data removed]",
      "text/plain": [
       "<Figure size 1200x800 with 1 Axes>"
      ]
     },
     "metadata": {},
     "output_type": "display_data"
    }
   ],
   "source": [
    "fig, ax= plt.subplots()\n",
    "\n",
    "plt.bar(\n",
    "    range(len(unique_tours_df.row(0))), uniqueness_lengths, color=\"darkred\"\n",
    ")\n",
    "\n",
    "plt.xlabel(\"Number of moves\", fontweight='bold', labelpad = 15, fontsize = 20)\n",
    "plt.ylabel(\"Number of unique partial tours\", fontweight='bold', labelpad = 15, fontsize = 20)\n",
    "ax.set_axisbelow(True)\n",
    "ax.spines['right'].set_visible(False)\n",
    "ax.spines['top'].set_visible(False)\n",
    "plt.grid(alpha=0.35)\n",
    "\n",
    "plt.show()"
   ]
  },
  {
   "cell_type": "markdown",
   "id": "5f8e5d08-7e4a-4d6b-826b-2f6db753e22d",
   "metadata": {},
   "source": [
    "**This is interesting.**\n",
    "- Uptill the ~45th step, the vast majority of moves are identical.\n",
    "- This is partially because of the backtracking algorithm that was used to generate most of the tours.\n",
    "- My naive guess is that this may make the model memorize more than generalize.\n",
    "- To prevent memorization:\n",
    "    - I will remove tours from ~3 starting positions, and these will be used for testing the model's performance.\n",
    "    - Symmetric tours from all the other positions will be present in the augmented dataset, increasing uniqueness of partial tours.\n"
   ]
  },
  {
   "cell_type": "code",
   "execution_count": 113,
   "id": "9023a3f3-a7bb-4c41-88ff-4feb375da091",
   "metadata": {},
   "outputs": [],
   "source": [
    "length_tours_each_pos = [len(unique_tours_df.filter(pl.col(\"move_0\") == first_move)) for first_move in unique_tours_df[\"move_0\"].unique()]\n",
    "pos_tour_lengths_dict = {f\"{i}\":j for i, j in zip(unique_tours_df[\"move_0\"].unique(), length_tours_each_pos)}\n",
    "pos_tour_lengths_dict = dict(sorted(pos_tour_lengths_dict.items(), key=lambda item: item[1], reverse=True))"
   ]
  },
  {
   "cell_type": "code",
   "execution_count": 136,
   "id": "3b27fa99-3862-41e1-b923-98504cf8ee11",
   "metadata": {},
   "outputs": [
    {
     "data": {
      "image/png": "[encoded data removed]",
      "text/plain": [
       "<Figure size 1500x1500 with 1 Axes>"
      ]
     },
     "metadata": {},
     "output_type": "display_data"
    }
   ],
   "source": [
    "bars = list(pos_tour_lengths_dict.keys())\n",
    "height = list(pos_tour_lengths_dict.values())\n",
    "\n",
    "my_cmap = plt.get_cmap(\"plasma\")\n",
    "rescale = lambda y: (y - np.min(y)) / (np.max(y) - np.min(y))\n",
    "\n",
    "# Bar plot\n",
    "fig_bar, ax_bar = plt.subplots(figsize = (15, 15))\n",
    "\n",
    "ax_bar.barh(bars, height, color = my_cmap(rescale(height)))\n",
    "ax_bar.tick_params(axis='y', which='minor', color = 'black')\n",
    "ax_bar.set_xlabel('Number of tours', fontweight='bold', labelpad = 15, fontsize = 30)\n",
    "ax_bar.set_ylabel(\"Starting index of the tour\", fontweight = 'bold', fontsize = 30, labelpad = 15)\n",
    "\n",
    "ax_bar.set_axisbelow(True)\n",
    "plt.grid(color = \"gainsboro\", axis = \"x\")\n",
    "ax_bar.spines['right'].set_visible(False)\n",
    "ax_bar.spines['top'].set_visible(False)\n",
    "ax_bar.invert_yaxis() \n",
    "\n",
    "plt.show()"
   ]
  },
  {
   "cell_type": "code",
   "execution_count": 137,
   "id": "5dd431fe-5e4d-455d-922e-0e3088e798de",
   "metadata": {},
   "outputs": [
    {
     "data": {
      "text/plain": [
       "array([[ 0,  1,  2,  3,  4,  5,  6,  7],\n",
       "       [ 8,  9, 10, 11, 12, 13, 14, 15],\n",
       "       [16, 17, 18, 19, 20, 21, 22, 23],\n",
       "       [24, 25, 26, 27, 28, 29, 30, 31],\n",
       "       [32, 33, 34, 35, 36, 37, 38, 39],\n",
       "       [40, 41, 42, 43, 44, 45, 46, 47],\n",
       "       [48, 49, 50, 51, 52, 53, 54, 55],\n",
       "       [56, 57, 58, 59, 60, 61, 62, 63]])"
      ]
     },
     "execution_count": 137,
     "metadata": {},
     "output_type": "execute_result"
    }
   ],
   "source": [
    "np.array(range(64)).reshape(8, 8)"
   ]
  },
  {
   "cell_type": "code",
   "execution_count": 150,
   "id": "65abc77c-9844-4e3a-8c1c-10fd507c571e",
   "metadata": {},
   "outputs": [
    {
     "data": {
      "text/plain": [
       "111202068.0"
      ]
     },
     "execution_count": 150,
     "metadata": {},
     "output_type": "execute_result"
    }
   ],
   "source": [
    "# segmenting the unique tours dataset, removing tours from three positions\n",
    "\n",
    "8 * len(unique_tours_df.filter(~pl.col(\"move_0\").is_in([9]))) - 8 * 0.5 * len(unique_tours_df.filter(pl.col(\"move_0\").is_in([11, 2])))"
   ]
  },
  {
   "cell_type": "code",
   "execution_count": 147,
   "id": "c4e6fa68-b06a-40ff-b041-55ee22509574",
   "metadata": {},
   "outputs": [
    {
     "data": {
      "text/plain": [
       "8053708.0"
      ]
     },
     "execution_count": 147,
     "metadata": {},
     "output_type": "execute_result"
    }
   ],
   "source": [
    "8 * 0.5 * len(unique_tours_df.filter(pl.col(\"move_0\").is_in([2])))"
   ]
  },
  {
   "cell_type": "markdown",
   "id": "b5461d7d-9a9c-46e1-a1cc-c05017e8fc03",
   "metadata": {},
   "source": [
    "## Updated augmentation plan \n",
    "1. **Removing tours from one beginning position entirely.** The model will not see any tours from this position.\n",
    "2. **Removing ~50% of unique tours from another starting positions.** The model will see some solutions from these positions but not all of them, and the ones not in the training set could be used for validation.\n",
    "3. **Removing ~50% of symmetric tours from yet another starting positions.** The model will _effectively_ see every single unique solution from this position.\n",
    "\n",
    "The intuition behind these three segments are to gauge the level of interpolation/extrapolation and generalization, and each of them pose a varying level of difficulty.\n",
    "- After the model finishes training, if the model is able to solve a tour from the completely excluded position (point 1), it would be a strong indication that the model generalizes and learns and doesn't just memorize as there wouldn't be any solutions from this position in the training set. I expect this model to ace unseen data from points 2 and 3 as well.\n",
    "- If the model is able to solve the point 2 (but not point 1), then the model is showing some level of generalization. This would still be a fairly strong kind of generalization because it is solving tours This model, I expect, will ace the cases from point 3 as well.\n",
    "- If the model is only able to solve unseen tours from point 3, then it would be an evidence of a weak kind of generalization. The model is at least able to identify symmetric tours and complete them from unseen starting positions (or unseen partial tours), but it doesn't truly learn the rules of the game and isn't able to solve tours from completely omitted starting points.\n",
    "- Two other possibilities:\n",
    "  - The model is able to solve tours half the time or so, indicative of weak memorization\n",
    "  - The model doesn't learn the tour dynamics at all and doesn't learn anything\n",
    "- **For point 1, I am choosing the 9th index, i.e., position (1, 1). For point 2, I am choosing the 11th index, i.e., position (1, 3). For point 3, I am going with the 2nd index, i.e., position (0, 2).** All these three positions are unique. One is on the diagnol and the other two do not share the same row or column."
   ]
  },
  {
   "cell_type": "code",
   "execution_count": 236,
   "id": "8e829586-37de-4036-9a6c-d1671a6fa445",
   "metadata": {},
   "outputs": [
    {
     "name": "stdout",
     "output_type": "stream",
     "text": [
      "         Tours in the training set ~ 103,417,923\n",
      "       Tours in the validation set ~ 7,784,144\n",
      "  Tours in the testing set (total) ~ 24,979,221\n",
      "Tours in the testing set (Point 1) ~ 8,294,456\n",
      "Tours in the testing set (Point 2) ~ 8,631,056\n",
      "Tours in the testing set (Point 3) ~ 8,053,708\n",
      "True\n"
     ]
    }
   ],
   "source": [
    "point_2_3_reduction = 0.5\n",
    "\n",
    "not_training_num = int(\n",
    "    8 *\n",
    "    (\n",
    "        len(unique_tours_df.filter(~pl.col(\"move_0\").is_in([9]))) \n",
    "        - point_2_3_reduction * len(unique_tours_df.filter(pl.col(\"move_0\").is_in([11, 2])))\n",
    "    )\n",
    ")\n",
    "\n",
    "training_num = int(0.93 * not_training_num)\n",
    "validation_num = int(0.07 * not_training_num)\n",
    "testing_num = 8 * len(unique_tours_df) - training_num - validation_num\n",
    "\n",
    "point1_size = 8 * len(unique_tours_df.filter(pl.col(\"move_0\").is_in([9])))\n",
    "point2_size = int(8 * point_2_3_reduction * len(unique_tours_df.filter(pl.col(\"move_0\").is_in([11]))))\n",
    "point3_size = int(8 * point_2_3_reduction * len(unique_tours_df.filter(pl.col(\"move_0\").is_in([2]))))\n",
    "\n",
    "print(f\"         Tours in the training set ~ {training_num:,}\")\n",
    "print(f\"       Tours in the validation set ~ {validation_num:,}\")\n",
    "print(f\"  Tours in the testing set (total) ~ {testing_num:,}\")\n",
    "print(f\"Tours in the testing set (Point 1) ~ {point1_size:,}\")\n",
    "print(f\"Tours in the testing set (Point 2) ~ {point2_size:,}\")\n",
    "print(f\"Tours in the testing set (Point 3) ~ {point3_size:,}\")\n",
    "\n",
    "print(np.isclose(testing_num, (point1_size + point2_size + point3_size)))"
   ]
  },
  {
   "cell_type": "markdown",
   "id": "0a9570fd-3e21-4d11-a118-372864553cef",
   "metadata": {},
   "source": [
    "#### Generating and saving all symmetric tours"
   ]
  },
  {
   "cell_type": "code",
   "execution_count": null,
   "id": "76b2988d-700b-4190-af39-d43f7f9f437e",
   "metadata": {},
   "outputs": [],
   "source": [
    "enormous_dictionary = {\n",
    "    \n",
    "}\n",
    "generate_symmetric_tours(unique_tours_df.row(i))"
   ]
  },
  {
   "cell_type": "code",
   "execution_count": 466,
   "id": "0be5cecf-1794-4c1b-91a8-db72bd98580c",
   "metadata": {},
   "outputs": [],
   "source": [
    "not_training_df = unique_tours_df.filter(~pl.col(\"move_0\").is_in([9]))"
   ]
  },
  {
   "cell_type": "code",
   "execution_count": 469,
   "id": "22b8e86d-ab4f-4fe1-9b17-ccafdd888a35",
   "metadata": {},
   "outputs": [
    {
     "name": "stdout",
     "output_type": "stream",
     "text": [
      "8294456\n"
     ]
    }
   ],
   "source": [
    "# excluding all tours beginning from position 9 (1, 3)\n",
    "testing_df_1 = unique_tours_df.filter(pl.col(\"move_0\").is_in([9]))\n",
    "testing_df_1.write_parquet(\n",
    "    f\"../data/final/test_point1_pos9_tours_8x8_{len(testing_df_1)}.parquet\",\n",
    "    compression=\"zstd\"\n",
    ")\n",
    "\n",
    "print(8 * len(testing_df_1))"
   ]
  },
  {
   "cell_type": "code",
   "execution_count": 501,
   "id": "ed782027-a841-4815-8aeb-0bae3b8ec32b",
   "metadata": {},
   "outputs": [
    {
     "name": "stdout",
     "output_type": "stream",
     "text": [
      "8631056\n"
     ]
    }
   ],
   "source": [
    "# excluding half of the unique tours beginning from position 11 (1, 1)\n",
    "all_df_2 = unique_tours_df.filter(pl.col(\"move_0\").is_in([11]))\n",
    "testing_df_2 = all_df_2.sample(fraction=0.5, seed=821378259)\n",
    "testing_df_2.write_parquet(\n",
    "    f\"../data/final/test_point2_pos11_tours_8x8_{len(testing_df_2)}.parquet\",\n",
    "    compression=\"zstd\"\n",
    ")\n",
    "\n",
    "print(8 * len(testing_df_2))"
   ]
  },
  {
   "cell_type": "code",
   "execution_count": 502,
   "id": "738997e2-a8d4-4971-bc00-61933b282c4d",
   "metadata": {},
   "outputs": [
    {
     "name": "stdout",
     "output_type": "stream",
     "text": [
      "8631056\n"
     ]
    }
   ],
   "source": [
    "testing_df_2\n",
    "\n",
    "training_df_2 = all_df_2.join(\n",
    "    testing_df_2,\n",
    "    on=all_df_2.columns,  \n",
    "    how=\"anti\"\n",
    ")\n",
    "\n",
    "print(8 * len(training_df_2))"
   ]
  },
  {
   "cell_type": "code",
   "execution_count": 503,
   "id": "d29aea64-e845-4a3d-acbc-6615e3ed16f7",
   "metadata": {},
   "outputs": [
    {
     "data": {
      "text/html": [
       "<div><style>\n",
       ".dataframe > thead > tr,\n",
       ".dataframe > tbody > tr {\n",
       "  text-align: right;\n",
       "  white-space: pre-wrap;\n",
       "}\n",
       "</style>\n",
       "<small>shape: (0, 64)</small><table border=\"1\" class=\"dataframe\"><thead><tr><th>move_0</th><th>move_1</th><th>move_2</th><th>move_3</th><th>move_4</th><th>move_5</th><th>move_6</th><th>move_7</th><th>move_8</th><th>move_9</th><th>move_10</th><th>move_11</th><th>move_12</th><th>move_13</th><th>move_14</th><th>move_15</th><th>move_16</th><th>move_17</th><th>move_18</th><th>move_19</th><th>move_20</th><th>move_21</th><th>move_22</th><th>move_23</th><th>move_24</th><th>move_25</th><th>move_26</th><th>move_27</th><th>move_28</th><th>move_29</th><th>move_30</th><th>move_31</th><th>move_32</th><th>move_33</th><th>move_34</th><th>move_35</th><th>move_36</th><th>move_37</th><th>move_38</th><th>move_39</th><th>move_40</th><th>move_41</th><th>move_42</th><th>move_43</th><th>move_44</th><th>move_45</th><th>move_46</th><th>move_47</th><th>move_48</th><th>move_49</th><th>move_50</th><th>move_51</th><th>move_52</th><th>move_53</th><th>move_54</th><th>move_55</th><th>move_56</th><th>move_57</th><th>move_58</th><th>move_59</th><th>move_60</th><th>move_61</th><th>move_62</th><th>move_63</th></tr><tr><td>i8</td><td>i8</td><td>i8</td><td>i8</td><td>i8</td><td>i8</td><td>i8</td><td>i8</td><td>i8</td><td>i8</td><td>i8</td><td>i8</td><td>i8</td><td>i8</td><td>i8</td><td>i8</td><td>i8</td><td>i8</td><td>i8</td><td>i8</td><td>i8</td><td>i8</td><td>i8</td><td>i8</td><td>i8</td><td>i8</td><td>i8</td><td>i8</td><td>i8</td><td>i8</td><td>i8</td><td>i8</td><td>i8</td><td>i8</td><td>i8</td><td>i8</td><td>i8</td><td>i8</td><td>i8</td><td>i8</td><td>i8</td><td>i8</td><td>i8</td><td>i8</td><td>i8</td><td>i8</td><td>i8</td><td>i8</td><td>i8</td><td>i8</td><td>i8</td><td>i8</td><td>i8</td><td>i8</td><td>i8</td><td>i8</td><td>i8</td><td>i8</td><td>i8</td><td>i8</td><td>i8</td><td>i8</td><td>i8</td><td>i8</td></tr></thead><tbody></tbody></table></div>"
      ],
      "text/plain": [
       "shape: (0, 64)\n",
       "┌────────┬────────┬────────┬────────┬───┬─────────┬─────────┬─────────┬─────────┐\n",
       "│ move_0 ┆ move_1 ┆ move_2 ┆ move_3 ┆ … ┆ move_60 ┆ move_61 ┆ move_62 ┆ move_63 │\n",
       "│ ---    ┆ ---    ┆ ---    ┆ ---    ┆   ┆ ---     ┆ ---     ┆ ---     ┆ ---     │\n",
       "│ i8     ┆ i8     ┆ i8     ┆ i8     ┆   ┆ i8      ┆ i8      ┆ i8      ┆ i8      │\n",
       "╞════════╪════════╪════════╪════════╪═══╪═════════╪═════════╪═════════╪═════════╡\n",
       "└────────┴────────┴────────┴────────┴───┴─────────┴─────────┴─────────┴─────────┘"
      ]
     },
     "execution_count": 503,
     "metadata": {},
     "output_type": "execute_result"
    }
   ],
   "source": [
    "# double checking that the testing and training portions of pos 11 dataset are distinct\n",
    "training_df_2.join(\n",
    "    testing_df_2,\n",
    "    on=training_df_2.columns, \n",
    "    how=\"inner\" \n",
    ")"
   ]
  },
  {
   "cell_type": "code",
   "execution_count": 504,
   "id": "71e4ec7a-4e58-4e74-ade9-e22c3de255a5",
   "metadata": {},
   "outputs": [],
   "source": [
    "# saving the training portion\n",
    "training_df_2.write_parquet(\n",
    "    f\"../data/final/train_point2_pos11_tours_8x8_{len(training_df_2)}.parquet\",\n",
    "    compression=\"zstd\"\n",
    ")"
   ]
  },
  {
   "cell_type": "code",
   "execution_count": 8,
   "id": "2bdacce6-6b49-45d6-8ab9-bffa1e076d03",
   "metadata": {},
   "outputs": [],
   "source": [
    "def generate_symmetric_tours_vectorized(tours):\n",
    "    \"\"\"\n",
    "    This function generates all eight symmetric tours — four rotations \n",
    "    and four relfections — from the given knight's tour in a vectorized fashion.\n",
    "\n",
    "    This code was iteratively generated using GPT-4o.\n",
    "    Prompt: \"Could you vectorize this function {copy-paste generate_symmetric_tours}\n",
    "    such that it can generate symmetric tours in a column-wise fashion? I have a large\n",
    "    parquet table with 64 columns titled move_i and each entry contains a integer ranging \n",
    "    from 0-63 which indicates a position on the chessboard that can be drawn as follows:\n",
    "    np.array(range(64)).reshape(8, 8)?\"\n",
    "    \n",
    "    \"\"\"\n",
    "    T, L = tours.shape  # Number of tours and tour length\n",
    "\n",
    "    # converting \n",
    "    rows = tours // 8\n",
    "    cols = tours % 8\n",
    "\n",
    "    # intializing empty arrays\n",
    "    n_transformations = 8\n",
    "    transformed_rows = np.zeros((T, n_transformations, L), dtype=int)\n",
    "    transformed_cols = np.zeros((T, n_transformations, L), dtype=int)\n",
    "\n",
    "    # transformation functions\n",
    "    def rotate_90(r, c):\n",
    "        return c, 7 - r\n",
    "\n",
    "    def rotate_180(r, c):\n",
    "        return 7 - r, 7 - c\n",
    "\n",
    "    def rotate_270(r, c):\n",
    "        return 7 - c, r\n",
    "\n",
    "    def reflect_horizontal(r, c):\n",
    "        return r, 7 - c\n",
    "\n",
    "    def reflect_vertical(r, c):\n",
    "        return 7 - r, c\n",
    "\n",
    "    def reflect_diagonal(r, c):\n",
    "        return c, r\n",
    "\n",
    "    def reflect_anti_diagonal(r, c):\n",
    "        return 7 - c, 7 - r\n",
    "\n",
    "    # applying transformations\n",
    "    transformed_rows[:, 0, :], transformed_cols[:, 0, :] = rows, cols  # Identity\n",
    "    transformed_rows[:, 1, :], transformed_cols[:, 1, :] = rotate_90(rows, cols)\n",
    "    transformed_rows[:, 2, :], transformed_cols[:, 2, :] = rotate_180(rows, cols)\n",
    "    transformed_rows[:, 3, :], transformed_cols[:, 3, :] = rotate_270(rows, cols)\n",
    "    transformed_rows[:, 4, :], transformed_cols[:, 4, :] = reflect_horizontal(rows, cols)\n",
    "    transformed_rows[:, 5, :], transformed_cols[:, 5, :] = reflect_vertical(rows, cols)\n",
    "    transformed_rows[:, 6, :], transformed_cols[:, 6, :] = reflect_diagonal(rows, cols)\n",
    "    transformed_rows[:, 7, :], transformed_cols[:, 7, :] = reflect_anti_diagonal(rows, cols)\n",
    "\n",
    "    # converting back to 1D indices\n",
    "    transformed_positions = transformed_rows * 8 + transformed_cols\n",
    "    symmetric_tours = transformed_positions.reshape(-1, L)\n",
    "    \n",
    "    return symmetric_tours"
   ]
  },
  {
   "cell_type": "code",
   "execution_count": 9,
   "id": "060a27b5-90a6-41e8-b012-97e7610144d4",
   "metadata": {},
   "outputs": [],
   "source": [
    "# expanding all tours beginning from position 2\n",
    "\n",
    "unique_tours_df_pos2 = unique_tours_df.filter(pl.col(\"move_0\") == 2)\n",
    "\n",
    "# finding all symmetric tours\n",
    "unique_tours_df_pos2_all = generate_symmetric_tours_vectorized(\n",
    "    unique_tours_df_pos2.to_numpy()\n",
    ")\n",
    "\n",
    "# converting to dataframe\n",
    "unique_tours_df_pos2_all = pl.DataFrame(\n",
    "    unique_tours_df_pos2_all, \n",
    "    schema={f\"move_{i}\": pl.Int8 for i in range(64)}\n",
    ")"
   ]
  },
  {
   "cell_type": "code",
   "execution_count": 10,
   "id": "58dc8b42-1b5f-47ba-a42d-6814c3427ca3",
   "metadata": {},
   "outputs": [],
   "source": [
    "# shuffling the dataframe and then sampling 50% randomly \n",
    "unique_tours_df_pos2_all = unique_tours_df_pos2_all.sample(fraction=1, shuffle=True, seed=821378259)\n",
    "unique_tours_df_pos2_all_testing = unique_tours_df_pos2_all.sample(fraction=0.5, seed=821378259)"
   ]
  },
  {
   "cell_type": "code",
   "execution_count": 473,
   "id": "cec786bd-78f2-45a2-a274-566282cd2ce0",
   "metadata": {},
   "outputs": [
    {
     "name": "stdout",
     "output_type": "stream",
     "text": [
      "8053708\n"
     ]
    }
   ],
   "source": [
    "unique_tours_df_pos2_all_testing.sort(by=\"move_0\").write_parquet(\n",
    "    f\"../data/final/test_point3_pos2_tours_8x8_{len(unique_tours_df_pos2_all_testing)}.parquet\",\n",
    "    compression=\"zstd\"\n",
    ")\n",
    "\n",
    "print(len(unique_tours_df_pos2_all_testing))"
   ]
  },
  {
   "cell_type": "code",
   "execution_count": 11,
   "id": "05f504ed-489f-48c2-84d5-ef693ed2fcb2",
   "metadata": {},
   "outputs": [],
   "source": [
    "# using the other half for training\n",
    "\n",
    "unique_tours_df_pos2_all_training = unique_tours_df_pos2_all.join(\n",
    "    unique_tours_df_pos2_all_testing,\n",
    "    on=unique_tours_df_pos2_all.columns,  \n",
    "    how=\"anti\"\n",
    ")"
   ]
  },
  {
   "cell_type": "code",
   "execution_count": 12,
   "id": "459a8a88-a78d-4a58-a42b-3e9507e64260",
   "metadata": {},
   "outputs": [
    {
     "data": {
      "text/plain": [
       "False"
      ]
     },
     "execution_count": 12,
     "metadata": {},
     "output_type": "execute_result"
    }
   ],
   "source": [
    "unique_tours_df_pos2_all_training.equals(unique_tours_df_pos2_all_testing)"
   ]
  },
  {
   "cell_type": "code",
   "execution_count": 19,
   "id": "a693060b-2213-43e7-929b-457c21dedb80",
   "metadata": {},
   "outputs": [
    {
     "data": {
      "text/html": [
       "<div><style>\n",
       ".dataframe > thead > tr,\n",
       ".dataframe > tbody > tr {\n",
       "  text-align: right;\n",
       "  white-space: pre-wrap;\n",
       "}\n",
       "</style>\n",
       "<small>shape: (0, 64)</small><table border=\"1\" class=\"dataframe\"><thead><tr><th>move_0</th><th>move_1</th><th>move_2</th><th>move_3</th><th>move_4</th><th>move_5</th><th>move_6</th><th>move_7</th><th>move_8</th><th>move_9</th><th>move_10</th><th>move_11</th><th>move_12</th><th>move_13</th><th>move_14</th><th>move_15</th><th>move_16</th><th>move_17</th><th>move_18</th><th>move_19</th><th>move_20</th><th>move_21</th><th>move_22</th><th>move_23</th><th>move_24</th><th>move_25</th><th>move_26</th><th>move_27</th><th>move_28</th><th>move_29</th><th>move_30</th><th>move_31</th><th>move_32</th><th>move_33</th><th>move_34</th><th>move_35</th><th>move_36</th><th>move_37</th><th>move_38</th><th>move_39</th><th>move_40</th><th>move_41</th><th>move_42</th><th>move_43</th><th>move_44</th><th>move_45</th><th>move_46</th><th>move_47</th><th>move_48</th><th>move_49</th><th>move_50</th><th>move_51</th><th>move_52</th><th>move_53</th><th>move_54</th><th>move_55</th><th>move_56</th><th>move_57</th><th>move_58</th><th>move_59</th><th>move_60</th><th>move_61</th><th>move_62</th><th>move_63</th></tr><tr><td>i8</td><td>i8</td><td>i8</td><td>i8</td><td>i8</td><td>i8</td><td>i8</td><td>i8</td><td>i8</td><td>i8</td><td>i8</td><td>i8</td><td>i8</td><td>i8</td><td>i8</td><td>i8</td><td>i8</td><td>i8</td><td>i8</td><td>i8</td><td>i8</td><td>i8</td><td>i8</td><td>i8</td><td>i8</td><td>i8</td><td>i8</td><td>i8</td><td>i8</td><td>i8</td><td>i8</td><td>i8</td><td>i8</td><td>i8</td><td>i8</td><td>i8</td><td>i8</td><td>i8</td><td>i8</td><td>i8</td><td>i8</td><td>i8</td><td>i8</td><td>i8</td><td>i8</td><td>i8</td><td>i8</td><td>i8</td><td>i8</td><td>i8</td><td>i8</td><td>i8</td><td>i8</td><td>i8</td><td>i8</td><td>i8</td><td>i8</td><td>i8</td><td>i8</td><td>i8</td><td>i8</td><td>i8</td><td>i8</td><td>i8</td></tr></thead><tbody></tbody></table></div>"
      ],
      "text/plain": [
       "shape: (0, 64)\n",
       "┌────────┬────────┬────────┬────────┬───┬─────────┬─────────┬─────────┬─────────┐\n",
       "│ move_0 ┆ move_1 ┆ move_2 ┆ move_3 ┆ … ┆ move_60 ┆ move_61 ┆ move_62 ┆ move_63 │\n",
       "│ ---    ┆ ---    ┆ ---    ┆ ---    ┆   ┆ ---     ┆ ---     ┆ ---     ┆ ---     │\n",
       "│ i8     ┆ i8     ┆ i8     ┆ i8     ┆   ┆ i8      ┆ i8      ┆ i8      ┆ i8      │\n",
       "╞════════╪════════╪════════╪════════╪═══╪═════════╪═════════╪═════════╪═════════╡\n",
       "└────────┴────────┴────────┴────────┴───┴─────────┴─────────┴─────────┴─────────┘"
      ]
     },
     "execution_count": 19,
     "metadata": {},
     "output_type": "execute_result"
    }
   ],
   "source": [
    "# double checking that the testing and training portions of pos 2 dataset are distinct\n",
    "unique_tours_df_pos2_all_training.join(\n",
    "    unique_tours_df_pos2_all_testing,\n",
    "    on=unique_tours_df_pos2_all_training.columns, \n",
    "    how=\"inner\" \n",
    ")"
   ]
  },
  {
   "cell_type": "code",
   "execution_count": 15,
   "id": "988ab388-18c7-4ae6-a4df-86a4a2c26a3d",
   "metadata": {},
   "outputs": [],
   "source": [
    "# saving the training portion of the pos 2 set\n",
    "unique_tours_df_pos2_all_training.sort(by=\"move_0\").write_parquet(\n",
    "    f\"../data/final/train_point3_pos2_tours_8x8_{len(unique_tours_df_pos2_all_training)}.parquet\",\n",
    "    compression=\"zstd\"\n",
    ")"
   ]
  },
  {
   "cell_type": "code",
   "execution_count": 18,
   "id": "d15f95dd-556a-4c3e-b7d4-1bdc98aeeadb",
   "metadata": {},
   "outputs": [
    {
     "data": {
      "text/plain": [
       "103417923.24000001"
      ]
     },
     "execution_count": 18,
     "metadata": {},
     "output_type": "execute_result"
    }
   ],
   "source": [
    "(8 * len(unique_tours_df.filter(~pl.col(\"move_0\").is_in([9, 11, 2]))) + len(unique_tours_df_pos2_all_training) + 8 * len(training_df_2)) * 0.93"
   ]
  },
  {
   "cell_type": "markdown",
   "id": "a2e060ad-2fdd-4243-a4eb-f92ef6c61058",
   "metadata": {},
   "source": [
    "#### Now expanding the main training set \n",
    "Barring the already expanded pos 2 dataset `unique_tours_df_pos2_all_training`"
   ]
  },
  {
   "cell_type": "code",
   "execution_count": null,
   "id": "dd3bb3ee-d675-4303-80b7-d324be6e832a",
   "metadata": {},
   "outputs": [],
   "source": [
    "training_df_2 = pl.read_parquet(\n",
    "    f\"../data/final/train_point2_pos11_tours_8x8_1078882.parquet\",\n",
    ")"
   ]
  },
  {
   "cell_type": "code",
   "execution_count": 3,
   "id": "928b8b32-27d0-46de-8824-33b5cbf4a26b",
   "metadata": {},
   "outputs": [],
   "source": [
    "unique_tours_df_pos2_all_training = pl.read_parquet(\n",
    "    f\"../data/final/train_point3_pos2_tours_8x8_8053708.parquet\",\n",
    ")"
   ]
  },
  {
   "cell_type": "code",
   "execution_count": null,
   "id": "736cb08c-b612-44fd-9e25-c77284c23cc4",
   "metadata": {},
   "outputs": [],
   "source": [
    "unexpanded_training_minus_pos2 = pl.concat([\n",
    "    unique_tours_df.filter(~pl.col(\"move_0\").is_in([9, 11, 2])),\n",
    "    training_df_2 # pos 11 training half\n",
    "])"
   ]
  },
  {
   "cell_type": "code",
   "execution_count": 21,
   "id": "814288df-5b94-4d1b-8617-83d2bc676781",
   "metadata": {},
   "outputs": [
    {
     "data": {
      "text/html": [
       "<div><style>\n",
       ".dataframe > thead > tr,\n",
       ".dataframe > tbody > tr {\n",
       "  text-align: right;\n",
       "  white-space: pre-wrap;\n",
       "}\n",
       "</style>\n",
       "<small>shape: (12_893_545, 64)</small><table border=\"1\" class=\"dataframe\"><thead><tr><th>move_0</th><th>move_1</th><th>move_2</th><th>move_3</th><th>move_4</th><th>move_5</th><th>move_6</th><th>move_7</th><th>move_8</th><th>move_9</th><th>move_10</th><th>move_11</th><th>move_12</th><th>move_13</th><th>move_14</th><th>move_15</th><th>move_16</th><th>move_17</th><th>move_18</th><th>move_19</th><th>move_20</th><th>move_21</th><th>move_22</th><th>move_23</th><th>move_24</th><th>move_25</th><th>move_26</th><th>move_27</th><th>move_28</th><th>move_29</th><th>move_30</th><th>move_31</th><th>move_32</th><th>move_33</th><th>move_34</th><th>move_35</th><th>move_36</th><th>move_37</th><th>move_38</th><th>move_39</th><th>move_40</th><th>move_41</th><th>move_42</th><th>move_43</th><th>move_44</th><th>move_45</th><th>move_46</th><th>move_47</th><th>move_48</th><th>move_49</th><th>move_50</th><th>move_51</th><th>move_52</th><th>move_53</th><th>move_54</th><th>move_55</th><th>move_56</th><th>move_57</th><th>move_58</th><th>move_59</th><th>move_60</th><th>move_61</th><th>move_62</th><th>move_63</th></tr><tr><td>i8</td><td>i8</td><td>i8</td><td>i8</td><td>i8</td><td>i8</td><td>i8</td><td>i8</td><td>i8</td><td>i8</td><td>i8</td><td>i8</td><td>i8</td><td>i8</td><td>i8</td><td>i8</td><td>i8</td><td>i8</td><td>i8</td><td>i8</td><td>i8</td><td>i8</td><td>i8</td><td>i8</td><td>i8</td><td>i8</td><td>i8</td><td>i8</td><td>i8</td><td>i8</td><td>i8</td><td>i8</td><td>i8</td><td>i8</td><td>i8</td><td>i8</td><td>i8</td><td>i8</td><td>i8</td><td>i8</td><td>i8</td><td>i8</td><td>i8</td><td>i8</td><td>i8</td><td>i8</td><td>i8</td><td>i8</td><td>i8</td><td>i8</td><td>i8</td><td>i8</td><td>i8</td><td>i8</td><td>i8</td><td>i8</td><td>i8</td><td>i8</td><td>i8</td><td>i8</td><td>i8</td><td>i8</td><td>i8</td><td>i8</td></tr></thead><tbody><tr><td>0</td><td>10</td><td>16</td><td>1</td><td>11</td><td>5</td><td>15</td><td>30</td><td>47</td><td>62</td><td>52</td><td>58</td><td>48</td><td>33</td><td>50</td><td>56</td><td>41</td><td>24</td><td>9</td><td>3</td><td>13</td><td>7</td><td>22</td><td>39</td><td>54</td><td>60</td><td>45</td><td>55</td><td>61</td><td>51</td><td>57</td><td>40</td><td>25</td><td>8</td><td>18</td><td>35</td><td>20</td><td>14</td><td>4</td><td>19</td><td>2</td><td>17</td><td>27</td><td>42</td><td>36</td><td>21</td><td>6</td><td>12</td><td>29</td><td>23</td><td>38</td><td>28</td><td>34</td><td>49</td><td>32</td><td>26</td><td>43</td><td>37</td><td>31</td><td>46</td><td>63</td><td>53</td><td>59</td><td>44</td></tr><tr><td>0</td><td>10</td><td>16</td><td>1</td><td>11</td><td>5</td><td>15</td><td>30</td><td>47</td><td>62</td><td>52</td><td>58</td><td>48</td><td>33</td><td>50</td><td>56</td><td>41</td><td>24</td><td>9</td><td>3</td><td>13</td><td>7</td><td>22</td><td>39</td><td>54</td><td>60</td><td>45</td><td>55</td><td>61</td><td>51</td><td>57</td><td>40</td><td>25</td><td>8</td><td>18</td><td>35</td><td>20</td><td>37</td><td>43</td><td>28</td><td>38</td><td>23</td><td>6</td><td>21</td><td>4</td><td>19</td><td>36</td><td>26</td><td>32</td><td>42</td><td>27</td><td>12</td><td>2</td><td>17</td><td>34</td><td>49</td><td>59</td><td>53</td><td>63</td><td>46</td><td>31</td><td>14</td><td>29</td><td>44</td></tr><tr><td>0</td><td>10</td><td>16</td><td>1</td><td>11</td><td>5</td><td>15</td><td>30</td><td>47</td><td>62</td><td>52</td><td>58</td><td>48</td><td>33</td><td>50</td><td>56</td><td>41</td><td>24</td><td>9</td><td>3</td><td>13</td><td>7</td><td>22</td><td>39</td><td>54</td><td>60</td><td>45</td><td>55</td><td>61</td><td>51</td><td>57</td><td>40</td><td>25</td><td>8</td><td>18</td><td>35</td><td>20</td><td>37</td><td>27</td><td>42</td><td>59</td><td>44</td><td>34</td><td>49</td><td>32</td><td>17</td><td>2</td><td>12</td><td>6</td><td>23</td><td>38</td><td>28</td><td>43</td><td>26</td><td>36</td><td>53</td><td>63</td><td>46</td><td>31</td><td>21</td><td>4</td><td>19</td><td>29</td><td>14</td></tr><tr><td>0</td><td>10</td><td>16</td><td>1</td><td>11</td><td>5</td><td>15</td><td>30</td><td>47</td><td>62</td><td>52</td><td>58</td><td>48</td><td>33</td><td>50</td><td>56</td><td>41</td><td>24</td><td>9</td><td>3</td><td>13</td><td>7</td><td>22</td><td>39</td><td>54</td><td>60</td><td>45</td><td>55</td><td>61</td><td>51</td><td>57</td><td>40</td><td>25</td><td>8</td><td>18</td><td>35</td><td>29</td><td>46</td><td>63</td><td>53</td><td>59</td><td>49</td><td>43</td><td>28</td><td>38</td><td>23</td><td>6</td><td>12</td><td>2</td><td>19</td><td>34</td><td>44</td><td>27</td><td>17</td><td>32</td><td>26</td><td>20</td><td>37</td><td>31</td><td>14</td><td>4</td><td>21</td><td>36</td><td>42</td></tr><tr><td>0</td><td>10</td><td>16</td><td>1</td><td>11</td><td>5</td><td>15</td><td>30</td><td>47</td><td>62</td><td>52</td><td>58</td><td>48</td><td>33</td><td>50</td><td>56</td><td>41</td><td>24</td><td>9</td><td>3</td><td>13</td><td>7</td><td>22</td><td>39</td><td>54</td><td>60</td><td>45</td><td>55</td><td>61</td><td>51</td><td>57</td><td>40</td><td>25</td><td>8</td><td>18</td><td>35</td><td>29</td><td>23</td><td>6</td><td>12</td><td>27</td><td>37</td><td>20</td><td>14</td><td>31</td><td>46</td><td>63</td><td>53</td><td>59</td><td>44</td><td>38</td><td>28</td><td>34</td><td>49</td><td>43</td><td>26</td><td>32</td><td>17</td><td>2</td><td>19</td><td>4</td><td>21</td><td>36</td><td>42</td></tr><tr><td>&hellip;</td><td>&hellip;</td><td>&hellip;</td><td>&hellip;</td><td>&hellip;</td><td>&hellip;</td><td>&hellip;</td><td>&hellip;</td><td>&hellip;</td><td>&hellip;</td><td>&hellip;</td><td>&hellip;</td><td>&hellip;</td><td>&hellip;</td><td>&hellip;</td><td>&hellip;</td><td>&hellip;</td><td>&hellip;</td><td>&hellip;</td><td>&hellip;</td><td>&hellip;</td><td>&hellip;</td><td>&hellip;</td><td>&hellip;</td><td>&hellip;</td><td>&hellip;</td><td>&hellip;</td><td>&hellip;</td><td>&hellip;</td><td>&hellip;</td><td>&hellip;</td><td>&hellip;</td><td>&hellip;</td><td>&hellip;</td><td>&hellip;</td><td>&hellip;</td><td>&hellip;</td><td>&hellip;</td><td>&hellip;</td><td>&hellip;</td><td>&hellip;</td><td>&hellip;</td><td>&hellip;</td><td>&hellip;</td><td>&hellip;</td><td>&hellip;</td><td>&hellip;</td><td>&hellip;</td><td>&hellip;</td><td>&hellip;</td><td>&hellip;</td><td>&hellip;</td><td>&hellip;</td><td>&hellip;</td><td>&hellip;</td><td>&hellip;</td><td>&hellip;</td><td>&hellip;</td><td>&hellip;</td><td>&hellip;</td><td>&hellip;</td><td>&hellip;</td><td>&hellip;</td><td>&hellip;</td></tr><tr><td>11</td><td>1</td><td>16</td><td>33</td><td>48</td><td>58</td><td>52</td><td>62</td><td>47</td><td>30</td><td>15</td><td>5</td><td>22</td><td>7</td><td>13</td><td>23</td><td>6</td><td>12</td><td>2</td><td>8</td><td>18</td><td>3</td><td>9</td><td>24</td><td>41</td><td>56</td><td>50</td><td>60</td><td>54</td><td>39</td><td>45</td><td>55</td><td>61</td><td>51</td><td>57</td><td>40</td><td>25</td><td>35</td><td>20</td><td>26</td><td>36</td><td>42</td><td>32</td><td>49</td><td>59</td><td>53</td><td>63</td><td>46</td><td>31</td><td>21</td><td>27</td><td>10</td><td>0</td><td>17</td><td>34</td><td>19</td><td>4</td><td>14</td><td>29</td><td>44</td><td>38</td><td>28</td><td>43</td><td>37</td></tr><tr><td>11</td><td>1</td><td>16</td><td>33</td><td>48</td><td>58</td><td>52</td><td>62</td><td>47</td><td>30</td><td>15</td><td>5</td><td>22</td><td>7</td><td>13</td><td>23</td><td>6</td><td>12</td><td>2</td><td>8</td><td>18</td><td>3</td><td>9</td><td>24</td><td>41</td><td>56</td><td>50</td><td>60</td><td>54</td><td>39</td><td>45</td><td>55</td><td>61</td><td>51</td><td>57</td><td>40</td><td>25</td><td>19</td><td>4</td><td>14</td><td>31</td><td>21</td><td>36</td><td>42</td><td>59</td><td>49</td><td>32</td><td>26</td><td>43</td><td>37</td><td>27</td><td>44</td><td>34</td><td>28</td><td>38</td><td>53</td><td>63</td><td>46</td><td>29</td><td>35</td><td>20</td><td>10</td><td>0</td><td>17</td></tr><tr><td>11</td><td>1</td><td>16</td><td>33</td><td>48</td><td>58</td><td>52</td><td>62</td><td>47</td><td>30</td><td>15</td><td>5</td><td>22</td><td>7</td><td>13</td><td>23</td><td>6</td><td>12</td><td>2</td><td>8</td><td>18</td><td>3</td><td>9</td><td>24</td><td>41</td><td>56</td><td>50</td><td>60</td><td>54</td><td>39</td><td>45</td><td>55</td><td>61</td><td>51</td><td>57</td><td>40</td><td>25</td><td>35</td><td>20</td><td>10</td><td>0</td><td>17</td><td>27</td><td>21</td><td>4</td><td>14</td><td>31</td><td>37</td><td>43</td><td>28</td><td>34</td><td>49</td><td>59</td><td>42</td><td>32</td><td>26</td><td>36</td><td>46</td><td>63</td><td>53</td><td>38</td><td>44</td><td>29</td><td>19</td></tr><tr><td>11</td><td>1</td><td>16</td><td>33</td><td>48</td><td>58</td><td>52</td><td>62</td><td>47</td><td>30</td><td>15</td><td>5</td><td>22</td><td>7</td><td>13</td><td>23</td><td>6</td><td>12</td><td>2</td><td>8</td><td>18</td><td>3</td><td>9</td><td>24</td><td>41</td><td>56</td><td>50</td><td>60</td><td>54</td><td>39</td><td>45</td><td>55</td><td>61</td><td>51</td><td>57</td><td>40</td><td>25</td><td>10</td><td>0</td><td>17</td><td>34</td><td>44</td><td>27</td><td>42</td><td>59</td><td>53</td><td>63</td><td>46</td><td>36</td><td>19</td><td>4</td><td>14</td><td>29</td><td>35</td><td>20</td><td>37</td><td>31</td><td>21</td><td>38</td><td>28</td><td>43</td><td>49</td><td>32</td><td>26</td></tr><tr><td>11</td><td>1</td><td>16</td><td>33</td><td>48</td><td>58</td><td>41</td><td>56</td><td>50</td><td>60</td><td>54</td><td>39</td><td>22</td><td>7</td><td>13</td><td>23</td><td>6</td><td>12</td><td>2</td><td>8</td><td>18</td><td>24</td><td>9</td><td>3</td><td>20</td><td>5</td><td>15</td><td>30</td><td>47</td><td>62</td><td>52</td><td>35</td><td>45</td><td>55</td><td>38</td><td>28</td><td>43</td><td>26</td><td>36</td><td>19</td><td>25</td><td>40</td><td>34</td><td>49</td><td>32</td><td>17</td><td>0</td><td>10</td><td>27</td><td>37</td><td>31</td><td>46</td><td>63</td><td>53</td><td>59</td><td>42</td><td>57</td><td>51</td><td>61</td><td>44</td><td>29</td><td>14</td><td>4</td><td>21</td></tr></tbody></table></div>"
      ],
      "text/plain": [
       "shape: (12_893_545, 64)\n",
       "┌────────┬────────┬────────┬────────┬───┬─────────┬─────────┬─────────┬─────────┐\n",
       "│ move_0 ┆ move_1 ┆ move_2 ┆ move_3 ┆ … ┆ move_60 ┆ move_61 ┆ move_62 ┆ move_63 │\n",
       "│ ---    ┆ ---    ┆ ---    ┆ ---    ┆   ┆ ---     ┆ ---     ┆ ---     ┆ ---     │\n",
       "│ i8     ┆ i8     ┆ i8     ┆ i8     ┆   ┆ i8      ┆ i8      ┆ i8      ┆ i8      │\n",
       "╞════════╪════════╪════════╪════════╪═══╪═════════╪═════════╪═════════╪═════════╡\n",
       "│ 0      ┆ 10     ┆ 16     ┆ 1      ┆ … ┆ 63      ┆ 53      ┆ 59      ┆ 44      │\n",
       "│ 0      ┆ 10     ┆ 16     ┆ 1      ┆ … ┆ 31      ┆ 14      ┆ 29      ┆ 44      │\n",
       "│ 0      ┆ 10     ┆ 16     ┆ 1      ┆ … ┆ 4       ┆ 19      ┆ 29      ┆ 14      │\n",
       "│ 0      ┆ 10     ┆ 16     ┆ 1      ┆ … ┆ 4       ┆ 21      ┆ 36      ┆ 42      │\n",
       "│ 0      ┆ 10     ┆ 16     ┆ 1      ┆ … ┆ 4       ┆ 21      ┆ 36      ┆ 42      │\n",
       "│ …      ┆ …      ┆ …      ┆ …      ┆ … ┆ …       ┆ …       ┆ …       ┆ …       │\n",
       "│ 11     ┆ 1      ┆ 16     ┆ 33     ┆ … ┆ 38      ┆ 28      ┆ 43      ┆ 37      │\n",
       "│ 11     ┆ 1      ┆ 16     ┆ 33     ┆ … ┆ 20      ┆ 10      ┆ 0       ┆ 17      │\n",
       "│ 11     ┆ 1      ┆ 16     ┆ 33     ┆ … ┆ 38      ┆ 44      ┆ 29      ┆ 19      │\n",
       "│ 11     ┆ 1      ┆ 16     ┆ 33     ┆ … ┆ 43      ┆ 49      ┆ 32      ┆ 26      │\n",
       "│ 11     ┆ 1      ┆ 16     ┆ 33     ┆ … ┆ 29      ┆ 14      ┆ 4       ┆ 21      │\n",
       "└────────┴────────┴────────┴────────┴───┴─────────┴─────────┴─────────┴─────────┘"
      ]
     },
     "execution_count": 21,
     "metadata": {},
     "output_type": "execute_result"
    }
   ],
   "source": [
    "unexpanded_training_minus_pos2"
   ]
  },
  {
   "cell_type": "code",
   "execution_count": 22,
   "id": "36863e23-661f-4eaa-992a-7a2979d20a93",
   "metadata": {},
   "outputs": [],
   "source": [
    "# finding all symmetric tours for the training set with unique tours (minus pos 2 tours)\n",
    "expanded_training_minus_pos2 = generate_symmetric_tours_vectorized(\n",
    "    unexpanded_training_minus_pos2.to_numpy()\n",
    ")\n",
    "\n",
    "# converting it to a dataframe\n",
    "expanded_training_minus_pos2 = pl.DataFrame(\n",
    "    expanded_training_minus_pos2, \n",
    "    schema={f\"move_{i}\": pl.Int8 for i in range(64)}\n",
    ")"
   ]
  },
  {
   "cell_type": "markdown",
   "id": "3f1ed12f-aa53-4993-96c3-eea55dc488ba",
   "metadata": {},
   "source": [
    "**Note:** The block above is extremely memory intensive. If your system can manage it, however, it should finish running in ~15-20 minutes."
   ]
  },
  {
   "cell_type": "code",
   "execution_count": 23,
   "id": "0fbf4211-ff1d-4d90-8813-88f42dd5edd8",
   "metadata": {},
   "outputs": [],
   "source": [
    "# saving the expanded training set barring the pos 2 portion\n",
    "expanded_training_minus_pos2.sort(by=\"move_0\").write_parquet(\n",
    "    f\"../data/final/training_expanded_minus_pos2_8x8_{len(expanded_training_minus_pos2)}.parquet\",\n",
    "    compression=\"zstd\"\n",
    ")"
   ]
  },
  {
   "cell_type": "code",
   "execution_count": 4,
   "id": "0c4188a0-c8af-4a35-8fa5-90e9efb526ee",
   "metadata": {},
   "outputs": [],
   "source": [
    "# deleting and loading the same file with a different name\n",
    "# del expanded_training_minus_pos2\n",
    "\n",
    "expanded_training_validation = pl.read_parquet(\n",
    "    \"../data/final/training_expanded_minus_pos2_8x8_103148360.parquet\"\n",
    ")"
   ]
  },
  {
   "cell_type": "code",
   "execution_count": 5,
   "id": "425ad21e-30d7-48e2-955f-ffa7656cb2c4",
   "metadata": {},
   "outputs": [],
   "source": [
    "# concatenating with already expanded pos2 training set\n",
    "expanded_training_validation = pl.concat([\n",
    "    expanded_training_validation,\n",
    "    unique_tours_df_pos2_all_training\n",
    "])"
   ]
  },
  {
   "cell_type": "code",
   "execution_count": 6,
   "id": "30e8d94d-9162-4db2-8fb6-342ccce72c5e",
   "metadata": {},
   "outputs": [
    {
     "data": {
      "text/html": [
       "<div><style>\n",
       ".dataframe > thead > tr,\n",
       ".dataframe > tbody > tr {\n",
       "  text-align: right;\n",
       "  white-space: pre-wrap;\n",
       "}\n",
       "</style>\n",
       "<small>shape: (111_202_068, 64)</small><table border=\"1\" class=\"dataframe\"><thead><tr><th>move_0</th><th>move_1</th><th>move_2</th><th>move_3</th><th>move_4</th><th>move_5</th><th>move_6</th><th>move_7</th><th>move_8</th><th>move_9</th><th>move_10</th><th>move_11</th><th>move_12</th><th>move_13</th><th>move_14</th><th>move_15</th><th>move_16</th><th>move_17</th><th>move_18</th><th>move_19</th><th>move_20</th><th>move_21</th><th>move_22</th><th>move_23</th><th>move_24</th><th>move_25</th><th>move_26</th><th>move_27</th><th>move_28</th><th>move_29</th><th>move_30</th><th>move_31</th><th>move_32</th><th>move_33</th><th>move_34</th><th>move_35</th><th>move_36</th><th>move_37</th><th>move_38</th><th>move_39</th><th>move_40</th><th>move_41</th><th>move_42</th><th>move_43</th><th>move_44</th><th>move_45</th><th>move_46</th><th>move_47</th><th>move_48</th><th>move_49</th><th>move_50</th><th>move_51</th><th>move_52</th><th>move_53</th><th>move_54</th><th>move_55</th><th>move_56</th><th>move_57</th><th>move_58</th><th>move_59</th><th>move_60</th><th>move_61</th><th>move_62</th><th>move_63</th></tr><tr><td>i8</td><td>i8</td><td>i8</td><td>i8</td><td>i8</td><td>i8</td><td>i8</td><td>i8</td><td>i8</td><td>i8</td><td>i8</td><td>i8</td><td>i8</td><td>i8</td><td>i8</td><td>i8</td><td>i8</td><td>i8</td><td>i8</td><td>i8</td><td>i8</td><td>i8</td><td>i8</td><td>i8</td><td>i8</td><td>i8</td><td>i8</td><td>i8</td><td>i8</td><td>i8</td><td>i8</td><td>i8</td><td>i8</td><td>i8</td><td>i8</td><td>i8</td><td>i8</td><td>i8</td><td>i8</td><td>i8</td><td>i8</td><td>i8</td><td>i8</td><td>i8</td><td>i8</td><td>i8</td><td>i8</td><td>i8</td><td>i8</td><td>i8</td><td>i8</td><td>i8</td><td>i8</td><td>i8</td><td>i8</td><td>i8</td><td>i8</td><td>i8</td><td>i8</td><td>i8</td><td>i8</td><td>i8</td><td>i8</td><td>i8</td></tr></thead><tbody><tr><td>0</td><td>10</td><td>16</td><td>1</td><td>11</td><td>5</td><td>15</td><td>30</td><td>47</td><td>62</td><td>52</td><td>58</td><td>48</td><td>33</td><td>50</td><td>56</td><td>41</td><td>24</td><td>9</td><td>3</td><td>13</td><td>7</td><td>22</td><td>39</td><td>54</td><td>60</td><td>45</td><td>55</td><td>61</td><td>51</td><td>57</td><td>40</td><td>25</td><td>8</td><td>18</td><td>35</td><td>20</td><td>14</td><td>4</td><td>19</td><td>2</td><td>17</td><td>27</td><td>42</td><td>36</td><td>21</td><td>6</td><td>12</td><td>29</td><td>23</td><td>38</td><td>28</td><td>34</td><td>49</td><td>32</td><td>26</td><td>43</td><td>37</td><td>31</td><td>46</td><td>63</td><td>53</td><td>59</td><td>44</td></tr><tr><td>0</td><td>17</td><td>2</td><td>8</td><td>25</td><td>40</td><td>57</td><td>51</td><td>61</td><td>55</td><td>38</td><td>23</td><td>6</td><td>12</td><td>22</td><td>7</td><td>13</td><td>3</td><td>9</td><td>24</td><td>41</td><td>56</td><td>50</td><td>60</td><td>54</td><td>39</td><td>45</td><td>62</td><td>47</td><td>30</td><td>15</td><td>5</td><td>11</td><td>1</td><td>18</td><td>28</td><td>34</td><td>49</td><td>32</td><td>26</td><td>16</td><td>10</td><td>27</td><td>21</td><td>36</td><td>42</td><td>48</td><td>33</td><td>43</td><td>58</td><td>52</td><td>35</td><td>20</td><td>14</td><td>4</td><td>19</td><td>29</td><td>44</td><td>59</td><td>53</td><td>63</td><td>46</td><td>31</td><td>37</td></tr><tr><td>0</td><td>10</td><td>16</td><td>1</td><td>11</td><td>5</td><td>15</td><td>30</td><td>47</td><td>62</td><td>52</td><td>58</td><td>48</td><td>33</td><td>50</td><td>56</td><td>41</td><td>24</td><td>9</td><td>3</td><td>13</td><td>7</td><td>22</td><td>39</td><td>54</td><td>60</td><td>45</td><td>55</td><td>61</td><td>51</td><td>57</td><td>40</td><td>25</td><td>8</td><td>18</td><td>35</td><td>20</td><td>37</td><td>43</td><td>28</td><td>38</td><td>23</td><td>6</td><td>21</td><td>4</td><td>19</td><td>36</td><td>26</td><td>32</td><td>42</td><td>27</td><td>12</td><td>2</td><td>17</td><td>34</td><td>49</td><td>59</td><td>53</td><td>63</td><td>46</td><td>31</td><td>14</td><td>29</td><td>44</td></tr><tr><td>0</td><td>17</td><td>2</td><td>8</td><td>25</td><td>40</td><td>57</td><td>51</td><td>61</td><td>55</td><td>38</td><td>23</td><td>6</td><td>12</td><td>22</td><td>7</td><td>13</td><td>3</td><td>9</td><td>24</td><td>41</td><td>56</td><td>50</td><td>60</td><td>54</td><td>39</td><td>45</td><td>62</td><td>47</td><td>30</td><td>15</td><td>5</td><td>11</td><td>1</td><td>18</td><td>28</td><td>34</td><td>44</td><td>29</td><td>35</td><td>52</td><td>58</td><td>48</td><td>42</td><td>32</td><td>26</td><td>36</td><td>19</td><td>4</td><td>21</td><td>27</td><td>33</td><td>16</td><td>10</td><td>20</td><td>14</td><td>31</td><td>46</td><td>63</td><td>53</td><td>59</td><td>49</td><td>43</td><td>37</td></tr><tr><td>0</td><td>10</td><td>16</td><td>1</td><td>11</td><td>5</td><td>15</td><td>30</td><td>47</td><td>62</td><td>52</td><td>58</td><td>48</td><td>33</td><td>50</td><td>56</td><td>41</td><td>24</td><td>9</td><td>3</td><td>13</td><td>7</td><td>22</td><td>39</td><td>54</td><td>60</td><td>45</td><td>55</td><td>61</td><td>51</td><td>57</td><td>40</td><td>25</td><td>8</td><td>18</td><td>35</td><td>20</td><td>37</td><td>27</td><td>42</td><td>59</td><td>44</td><td>34</td><td>49</td><td>32</td><td>17</td><td>2</td><td>12</td><td>6</td><td>23</td><td>38</td><td>28</td><td>43</td><td>26</td><td>36</td><td>53</td><td>63</td><td>46</td><td>31</td><td>21</td><td>4</td><td>19</td><td>29</td><td>14</td></tr><tr><td>&hellip;</td><td>&hellip;</td><td>&hellip;</td><td>&hellip;</td><td>&hellip;</td><td>&hellip;</td><td>&hellip;</td><td>&hellip;</td><td>&hellip;</td><td>&hellip;</td><td>&hellip;</td><td>&hellip;</td><td>&hellip;</td><td>&hellip;</td><td>&hellip;</td><td>&hellip;</td><td>&hellip;</td><td>&hellip;</td><td>&hellip;</td><td>&hellip;</td><td>&hellip;</td><td>&hellip;</td><td>&hellip;</td><td>&hellip;</td><td>&hellip;</td><td>&hellip;</td><td>&hellip;</td><td>&hellip;</td><td>&hellip;</td><td>&hellip;</td><td>&hellip;</td><td>&hellip;</td><td>&hellip;</td><td>&hellip;</td><td>&hellip;</td><td>&hellip;</td><td>&hellip;</td><td>&hellip;</td><td>&hellip;</td><td>&hellip;</td><td>&hellip;</td><td>&hellip;</td><td>&hellip;</td><td>&hellip;</td><td>&hellip;</td><td>&hellip;</td><td>&hellip;</td><td>&hellip;</td><td>&hellip;</td><td>&hellip;</td><td>&hellip;</td><td>&hellip;</td><td>&hellip;</td><td>&hellip;</td><td>&hellip;</td><td>&hellip;</td><td>&hellip;</td><td>&hellip;</td><td>&hellip;</td><td>&hellip;</td><td>&hellip;</td><td>&hellip;</td><td>&hellip;</td><td>&hellip;</td></tr><tr><td>61</td><td>55</td><td>38</td><td>23</td><td>6</td><td>12</td><td>2</td><td>8</td><td>25</td><td>40</td><td>57</td><td>51</td><td>41</td><td>56</td><td>50</td><td>60</td><td>54</td><td>39</td><td>22</td><td>7</td><td>13</td><td>3</td><td>9</td><td>24</td><td>18</td><td>1</td><td>16</td><td>33</td><td>48</td><td>58</td><td>52</td><td>62</td><td>45</td><td>35</td><td>29</td><td>46</td><td>63</td><td>53</td><td>43</td><td>49</td><td>34</td><td>28</td><td>11</td><td>17</td><td>0</td><td>10</td><td>27</td><td>44</td><td>59</td><td>42</td><td>32</td><td>26</td><td>36</td><td>19</td><td>4</td><td>21</td><td>15</td><td>5</td><td>20</td><td>30</td><td>47</td><td>37</td><td>31</td><td>14</td></tr><tr><td>61</td><td>55</td><td>38</td><td>23</td><td>6</td><td>12</td><td>2</td><td>8</td><td>25</td><td>40</td><td>57</td><td>51</td><td>41</td><td>56</td><td>50</td><td>60</td><td>54</td><td>39</td><td>22</td><td>7</td><td>13</td><td>3</td><td>9</td><td>24</td><td>18</td><td>1</td><td>16</td><td>33</td><td>48</td><td>58</td><td>43</td><td>28</td><td>45</td><td>62</td><td>47</td><td>37</td><td>20</td><td>14</td><td>4</td><td>19</td><td>29</td><td>35</td><td>52</td><td>42</td><td>59</td><td>49</td><td>34</td><td>44</td><td>27</td><td>10</td><td>0</td><td>17</td><td>32</td><td>26</td><td>36</td><td>53</td><td>63</td><td>46</td><td>31</td><td>21</td><td>11</td><td>5</td><td>15</td><td>30</td></tr><tr><td>61</td><td>55</td><td>38</td><td>23</td><td>6</td><td>12</td><td>2</td><td>8</td><td>25</td><td>40</td><td>57</td><td>51</td><td>41</td><td>56</td><td>50</td><td>60</td><td>54</td><td>39</td><td>22</td><td>7</td><td>13</td><td>3</td><td>9</td><td>24</td><td>18</td><td>1</td><td>16</td><td>33</td><td>48</td><td>58</td><td>43</td><td>28</td><td>45</td><td>62</td><td>47</td><td>37</td><td>31</td><td>14</td><td>4</td><td>21</td><td>11</td><td>26</td><td>32</td><td>49</td><td>34</td><td>19</td><td>36</td><td>30</td><td>15</td><td>5</td><td>20</td><td>10</td><td>0</td><td>17</td><td>27</td><td>42</td><td>52</td><td>46</td><td>63</td><td>53</td><td>59</td><td>44</td><td>29</td><td>35</td></tr><tr><td>61</td><td>55</td><td>38</td><td>23</td><td>6</td><td>12</td><td>2</td><td>8</td><td>25</td><td>40</td><td>57</td><td>51</td><td>41</td><td>56</td><td>50</td><td>60</td><td>54</td><td>39</td><td>22</td><td>7</td><td>13</td><td>3</td><td>9</td><td>24</td><td>18</td><td>1</td><td>16</td><td>33</td><td>48</td><td>58</td><td>43</td><td>28</td><td>45</td><td>62</td><td>47</td><td>37</td><td>31</td><td>21</td><td>11</td><td>5</td><td>15</td><td>30</td><td>36</td><td>42</td><td>32</td><td>26</td><td>20</td><td>35</td><td>52</td><td>46</td><td>63</td><td>53</td><td>59</td><td>49</td><td>34</td><td>19</td><td>4</td><td>14</td><td>29</td><td>44</td><td>27</td><td>10</td><td>0</td><td>17</td></tr><tr><td>61</td><td>55</td><td>38</td><td>23</td><td>6</td><td>12</td><td>2</td><td>8</td><td>25</td><td>40</td><td>57</td><td>51</td><td>41</td><td>56</td><td>50</td><td>60</td><td>54</td><td>39</td><td>22</td><td>7</td><td>13</td><td>3</td><td>9</td><td>24</td><td>18</td><td>1</td><td>16</td><td>33</td><td>48</td><td>58</td><td>52</td><td>62</td><td>45</td><td>35</td><td>29</td><td>14</td><td>4</td><td>10</td><td>0</td><td>17</td><td>32</td><td>49</td><td>34</td><td>19</td><td>36</td><td>30</td><td>47</td><td>53</td><td>63</td><td>46</td><td>31</td><td>37</td><td>20</td><td>26</td><td>43</td><td>28</td><td>11</td><td>5</td><td>15</td><td>21</td><td>27</td><td>42</td><td>59</td><td>44</td></tr></tbody></table></div>"
      ],
      "text/plain": [
       "shape: (111_202_068, 64)\n",
       "┌────────┬────────┬────────┬────────┬───┬─────────┬─────────┬─────────┬─────────┐\n",
       "│ move_0 ┆ move_1 ┆ move_2 ┆ move_3 ┆ … ┆ move_60 ┆ move_61 ┆ move_62 ┆ move_63 │\n",
       "│ ---    ┆ ---    ┆ ---    ┆ ---    ┆   ┆ ---     ┆ ---     ┆ ---     ┆ ---     │\n",
       "│ i8     ┆ i8     ┆ i8     ┆ i8     ┆   ┆ i8      ┆ i8      ┆ i8      ┆ i8      │\n",
       "╞════════╪════════╪════════╪════════╪═══╪═════════╪═════════╪═════════╪═════════╡\n",
       "│ 0      ┆ 10     ┆ 16     ┆ 1      ┆ … ┆ 63      ┆ 53      ┆ 59      ┆ 44      │\n",
       "│ 0      ┆ 17     ┆ 2      ┆ 8      ┆ … ┆ 63      ┆ 46      ┆ 31      ┆ 37      │\n",
       "│ 0      ┆ 10     ┆ 16     ┆ 1      ┆ … ┆ 31      ┆ 14      ┆ 29      ┆ 44      │\n",
       "│ 0      ┆ 17     ┆ 2      ┆ 8      ┆ … ┆ 59      ┆ 49      ┆ 43      ┆ 37      │\n",
       "│ 0      ┆ 10     ┆ 16     ┆ 1      ┆ … ┆ 4       ┆ 19      ┆ 29      ┆ 14      │\n",
       "│ …      ┆ …      ┆ …      ┆ …      ┆ … ┆ …       ┆ …       ┆ …       ┆ …       │\n",
       "│ 61     ┆ 55     ┆ 38     ┆ 23     ┆ … ┆ 47      ┆ 37      ┆ 31      ┆ 14      │\n",
       "│ 61     ┆ 55     ┆ 38     ┆ 23     ┆ … ┆ 11      ┆ 5       ┆ 15      ┆ 30      │\n",
       "│ 61     ┆ 55     ┆ 38     ┆ 23     ┆ … ┆ 59      ┆ 44      ┆ 29      ┆ 35      │\n",
       "│ 61     ┆ 55     ┆ 38     ┆ 23     ┆ … ┆ 27      ┆ 10      ┆ 0       ┆ 17      │\n",
       "│ 61     ┆ 55     ┆ 38     ┆ 23     ┆ … ┆ 27      ┆ 42      ┆ 59      ┆ 44      │\n",
       "└────────┴────────┴────────┴────────┴───┴─────────┴─────────┴─────────┴─────────┘"
      ]
     },
     "execution_count": 6,
     "metadata": {},
     "output_type": "execute_result"
    }
   ],
   "source": [
    "expanded_training_validation"
   ]
  },
  {
   "cell_type": "code",
   "execution_count": 7,
   "id": "c2fd9127-a4ee-4b24-a066-2979b99c595b",
   "metadata": {},
   "outputs": [],
   "source": [
    "# shuffling the dataset \n",
    "expanded_training_validation = expanded_training_validation.sample(fraction=1, shuffle=True, seed=821378259)"
   ]
  },
  {
   "cell_type": "code",
   "execution_count": null,
   "id": "15678938-fc17-431c-87ca-2c56371eab22",
   "metadata": {},
   "outputs": [],
   "source": [
    "# sampling 93% of the this for training \n",
    "# expanded_training_only = expanded_training_validation.sample(fraction=0.93, seed=821378259)"
   ]
  },
  {
   "cell_type": "code",
   "execution_count": 12,
   "id": "65504a8e-d7fe-4baa-8433-fd8093f41e50",
   "metadata": {},
   "outputs": [
    {
     "data": {
      "text/plain": [
       "0.9299999978417668"
      ]
     },
     "execution_count": 12,
     "metadata": {},
     "output_type": "execute_result"
    }
   ],
   "source": [
    "len(expanded_training_only) / 111_202_068"
   ]
  },
  {
   "cell_type": "code",
   "execution_count": 8,
   "id": "c40d80f4-0a9a-4fdf-962e-5dc89841d4cd",
   "metadata": {},
   "outputs": [],
   "source": [
    "# using the remaining 7% for validation\n",
    "total_rows = expanded_training_validation.height\n",
    "\n",
    "# Generate random indices for the training set\n",
    "train_indices = np.random.default_rng(seed=821378259).choice(\n",
    "    total_rows, size=int(0.93 * total_rows), replace=False\n",
    ")\n",
    "\n",
    "# Create a mask\n",
    "train_mask = np.zeros(total_rows, dtype=bool)\n",
    "train_mask[train_indices] = True\n",
    "\n",
    "# Use the mask for splitting\n",
    "expanded_training_only = expanded_training_validation.filter(pl.Series(train_mask))\n",
    "expanded_validation_only = expanded_training_validation.filter(pl.Series(~train_mask))"
   ]
  },
  {
   "cell_type": "code",
   "execution_count": 18,
   "id": "372667d2-6e9b-4e59-be97-1751897623b8",
   "metadata": {},
   "outputs": [
    {
     "name": "stdout",
     "output_type": "stream",
     "text": [
      "92.99999978417668\n"
     ]
    },
    {
     "data": {
      "text/html": [
       "<div><style>\n",
       ".dataframe > thead > tr,\n",
       ".dataframe > tbody > tr {\n",
       "  text-align: right;\n",
       "  white-space: pre-wrap;\n",
       "}\n",
       "</style>\n",
       "<small>shape: (103_417_923, 64)</small><table border=\"1\" class=\"dataframe\"><thead><tr><th>move_0</th><th>move_1</th><th>move_2</th><th>move_3</th><th>move_4</th><th>move_5</th><th>move_6</th><th>move_7</th><th>move_8</th><th>move_9</th><th>move_10</th><th>move_11</th><th>move_12</th><th>move_13</th><th>move_14</th><th>move_15</th><th>move_16</th><th>move_17</th><th>move_18</th><th>move_19</th><th>move_20</th><th>move_21</th><th>move_22</th><th>move_23</th><th>move_24</th><th>move_25</th><th>move_26</th><th>move_27</th><th>move_28</th><th>move_29</th><th>move_30</th><th>move_31</th><th>move_32</th><th>move_33</th><th>move_34</th><th>move_35</th><th>move_36</th><th>move_37</th><th>move_38</th><th>move_39</th><th>move_40</th><th>move_41</th><th>move_42</th><th>move_43</th><th>move_44</th><th>move_45</th><th>move_46</th><th>move_47</th><th>move_48</th><th>move_49</th><th>move_50</th><th>move_51</th><th>move_52</th><th>move_53</th><th>move_54</th><th>move_55</th><th>move_56</th><th>move_57</th><th>move_58</th><th>move_59</th><th>move_60</th><th>move_61</th><th>move_62</th><th>move_63</th></tr><tr><td>i8</td><td>i8</td><td>i8</td><td>i8</td><td>i8</td><td>i8</td><td>i8</td><td>i8</td><td>i8</td><td>i8</td><td>i8</td><td>i8</td><td>i8</td><td>i8</td><td>i8</td><td>i8</td><td>i8</td><td>i8</td><td>i8</td><td>i8</td><td>i8</td><td>i8</td><td>i8</td><td>i8</td><td>i8</td><td>i8</td><td>i8</td><td>i8</td><td>i8</td><td>i8</td><td>i8</td><td>i8</td><td>i8</td><td>i8</td><td>i8</td><td>i8</td><td>i8</td><td>i8</td><td>i8</td><td>i8</td><td>i8</td><td>i8</td><td>i8</td><td>i8</td><td>i8</td><td>i8</td><td>i8</td><td>i8</td><td>i8</td><td>i8</td><td>i8</td><td>i8</td><td>i8</td><td>i8</td><td>i8</td><td>i8</td><td>i8</td><td>i8</td><td>i8</td><td>i8</td><td>i8</td><td>i8</td><td>i8</td><td>i8</td></tr></thead><tbody><tr><td>13</td><td>7</td><td>22</td><td>39</td><td>54</td><td>60</td><td>50</td><td>56</td><td>41</td><td>58</td><td>48</td><td>33</td><td>16</td><td>1</td><td>11</td><td>5</td><td>15</td><td>30</td><td>47</td><td>62</td><td>45</td><td>55</td><td>61</td><td>51</td><td>57</td><td>40</td><td>25</td><td>8</td><td>2</td><td>17</td><td>0</td><td>10</td><td>4</td><td>14</td><td>31</td><td>37</td><td>52</td><td>42</td><td>27</td><td>12</td><td>29</td><td>23</td><td>6</td><td>21</td><td>36</td><td>46</td><td>63</td><td>53</td><td>43</td><td>28</td><td>38</td><td>44</td><td>59</td><td>49</td><td>32</td><td>26</td><td>20</td><td>35</td><td>18</td><td>3</td><td>9</td><td>19</td><td>34</td><td>24</td></tr><tr><td>23</td><td>6</td><td>12</td><td>2</td><td>8</td><td>25</td><td>40</td><td>57</td><td>51</td><td>61</td><td>55</td><td>38</td><td>53</td><td>63</td><td>46</td><td>31</td><td>14</td><td>4</td><td>10</td><td>0</td><td>17</td><td>32</td><td>49</td><td>59</td><td>42</td><td>48</td><td>58</td><td>52</td><td>62</td><td>47</td><td>30</td><td>15</td><td>21</td><td>36</td><td>19</td><td>29</td><td>39</td><td>45</td><td>60</td><td>50</td><td>56</td><td>41</td><td>24</td><td>9</td><td>3</td><td>13</td><td>7</td><td>22</td><td>5</td><td>11</td><td>26</td><td>16</td><td>1</td><td>18</td><td>35</td><td>20</td><td>37</td><td>54</td><td>44</td><td>34</td><td>28</td><td>43</td><td>33</td><td>27</td></tr><tr><td>0</td><td>10</td><td>16</td><td>1</td><td>11</td><td>5</td><td>15</td><td>30</td><td>47</td><td>62</td><td>52</td><td>58</td><td>48</td><td>33</td><td>50</td><td>56</td><td>41</td><td>24</td><td>9</td><td>3</td><td>13</td><td>7</td><td>22</td><td>39</td><td>54</td><td>60</td><td>45</td><td>55</td><td>61</td><td>51</td><td>57</td><td>40</td><td>25</td><td>8</td><td>18</td><td>35</td><td>20</td><td>37</td><td>43</td><td>49</td><td>59</td><td>53</td><td>63</td><td>46</td><td>29</td><td>14</td><td>31</td><td>21</td><td>4</td><td>19</td><td>34</td><td>28</td><td>38</td><td>23</td><td>6</td><td>12</td><td>2</td><td>17</td><td>32</td><td>26</td><td>36</td><td>42</td><td>27</td><td>44</td></tr><tr><td>43</td><td>60</td><td>54</td><td>39</td><td>22</td><td>7</td><td>13</td><td>23</td><td>6</td><td>12</td><td>2</td><td>8</td><td>25</td><td>40</td><td>57</td><td>51</td><td>61</td><td>55</td><td>45</td><td>62</td><td>47</td><td>30</td><td>15</td><td>5</td><td>11</td><td>1</td><td>16</td><td>10</td><td>0</td><td>17</td><td>32</td><td>49</td><td>59</td><td>53</td><td>63</td><td>46</td><td>29</td><td>14</td><td>31</td><td>37</td><td>27</td><td>44</td><td>38</td><td>28</td><td>34</td><td>19</td><td>4</td><td>21</td><td>36</td><td>42</td><td>48</td><td>58</td><td>52</td><td>35</td><td>50</td><td>33</td><td>18</td><td>3</td><td>20</td><td>26</td><td>9</td><td>24</td><td>41</td><td>56</td></tr><tr><td>10</td><td>0</td><td>17</td><td>2</td><td>8</td><td>25</td><td>40</td><td>57</td><td>51</td><td>61</td><td>55</td><td>38</td><td>23</td><td>6</td><td>12</td><td>22</td><td>7</td><td>13</td><td>3</td><td>9</td><td>24</td><td>41</td><td>56</td><td>50</td><td>60</td><td>54</td><td>39</td><td>45</td><td>62</td><td>47</td><td>30</td><td>15</td><td>5</td><td>11</td><td>1</td><td>16</td><td>33</td><td>18</td><td>28</td><td>34</td><td>49</td><td>43</td><td>37</td><td>31</td><td>14</td><td>4</td><td>21</td><td>27</td><td>44</td><td>59</td><td>53</td><td>36</td><td>19</td><td>29</td><td>35</td><td>20</td><td>26</td><td>32</td><td>42</td><td>48</td><td>58</td><td>52</td><td>46</td><td>63</td></tr><tr><td>&hellip;</td><td>&hellip;</td><td>&hellip;</td><td>&hellip;</td><td>&hellip;</td><td>&hellip;</td><td>&hellip;</td><td>&hellip;</td><td>&hellip;</td><td>&hellip;</td><td>&hellip;</td><td>&hellip;</td><td>&hellip;</td><td>&hellip;</td><td>&hellip;</td><td>&hellip;</td><td>&hellip;</td><td>&hellip;</td><td>&hellip;</td><td>&hellip;</td><td>&hellip;</td><td>&hellip;</td><td>&hellip;</td><td>&hellip;</td><td>&hellip;</td><td>&hellip;</td><td>&hellip;</td><td>&hellip;</td><td>&hellip;</td><td>&hellip;</td><td>&hellip;</td><td>&hellip;</td><td>&hellip;</td><td>&hellip;</td><td>&hellip;</td><td>&hellip;</td><td>&hellip;</td><td>&hellip;</td><td>&hellip;</td><td>&hellip;</td><td>&hellip;</td><td>&hellip;</td><td>&hellip;</td><td>&hellip;</td><td>&hellip;</td><td>&hellip;</td><td>&hellip;</td><td>&hellip;</td><td>&hellip;</td><td>&hellip;</td><td>&hellip;</td><td>&hellip;</td><td>&hellip;</td><td>&hellip;</td><td>&hellip;</td><td>&hellip;</td><td>&hellip;</td><td>&hellip;</td><td>&hellip;</td><td>&hellip;</td><td>&hellip;</td><td>&hellip;</td><td>&hellip;</td><td>&hellip;</td></tr><tr><td>2</td><td>8</td><td>25</td><td>40</td><td>57</td><td>51</td><td>61</td><td>55</td><td>38</td><td>23</td><td>6</td><td>12</td><td>22</td><td>7</td><td>13</td><td>3</td><td>9</td><td>24</td><td>41</td><td>56</td><td>50</td><td>60</td><td>54</td><td>39</td><td>45</td><td>62</td><td>47</td><td>30</td><td>15</td><td>5</td><td>11</td><td>1</td><td>18</td><td>28</td><td>34</td><td>49</td><td>32</td><td>17</td><td>0</td><td>10</td><td>16</td><td>26</td><td>43</td><td>33</td><td>48</td><td>58</td><td>52</td><td>35</td><td>20</td><td>14</td><td>29</td><td>19</td><td>4</td><td>21</td><td>31</td><td>37</td><td>27</td><td>44</td><td>59</td><td>42</td><td>36</td><td>46</td><td>63</td><td>53</td></tr><tr><td>3</td><td>9</td><td>24</td><td>41</td><td>56</td><td>50</td><td>60</td><td>54</td><td>39</td><td>22</td><td>7</td><td>13</td><td>23</td><td>6</td><td>12</td><td>2</td><td>8</td><td>18</td><td>1</td><td>16</td><td>33</td><td>48</td><td>58</td><td>43</td><td>49</td><td>59</td><td>53</td><td>63</td><td>46</td><td>61</td><td>55</td><td>38</td><td>44</td><td>29</td><td>35</td><td>45</td><td>28</td><td>11</td><td>5</td><td>15</td><td>21</td><td>4</td><td>10</td><td>0</td><td>17</td><td>27</td><td>37</td><td>31</td><td>14</td><td>20</td><td>26</td><td>32</td><td>42</td><td>25</td><td>40</td><td>57</td><td>51</td><td>34</td><td>19</td><td>36</td><td>30</td><td>47</td><td>62</td><td>52</td></tr><tr><td>23</td><td>6</td><td>12</td><td>2</td><td>8</td><td>25</td><td>40</td><td>57</td><td>51</td><td>61</td><td>55</td><td>38</td><td>53</td><td>63</td><td>46</td><td>31</td><td>14</td><td>4</td><td>10</td><td>0</td><td>17</td><td>32</td><td>49</td><td>59</td><td>42</td><td>48</td><td>58</td><td>52</td><td>62</td><td>47</td><td>37</td><td>27</td><td>21</td><td>15</td><td>5</td><td>11</td><td>1</td><td>16</td><td>33</td><td>50</td><td>56</td><td>41</td><td>24</td><td>18</td><td>3</td><td>9</td><td>26</td><td>43</td><td>60</td><td>45</td><td>35</td><td>20</td><td>30</td><td>36</td><td>19</td><td>29</td><td>44</td><td>34</td><td>28</td><td>13</td><td>7</td><td>22</td><td>39</td><td>54</td></tr><tr><td>29</td><td>14</td><td>4</td><td>10</td><td>0</td><td>17</td><td>32</td><td>49</td><td>59</td><td>53</td><td>63</td><td>46</td><td>31</td><td>21</td><td>6</td><td>23</td><td>38</td><td>55</td><td>61</td><td>44</td><td>54</td><td>39</td><td>22</td><td>7</td><td>13</td><td>3</td><td>9</td><td>24</td><td>34</td><td>40</td><td>57</td><td>51</td><td>41</td><td>56</td><td>50</td><td>33</td><td>27</td><td>37</td><td>20</td><td>5</td><td>15</td><td>30</td><td>47</td><td>62</td><td>52</td><td>35</td><td>25</td><td>8</td><td>18</td><td>12</td><td>2</td><td>19</td><td>36</td><td>42</td><td>48</td><td>58</td><td>43</td><td>26</td><td>16</td><td>1</td><td>11</td><td>28</td><td>45</td><td>60</td></tr><tr><td>20</td><td>3</td><td>9</td><td>24</td><td>41</td><td>56</td><td>50</td><td>40</td><td>57</td><td>51</td><td>61</td><td>55</td><td>38</td><td>23</td><td>6</td><td>12</td><td>2</td><td>8</td><td>18</td><td>1</td><td>16</td><td>33</td><td>48</td><td>58</td><td>52</td><td>62</td><td>47</td><td>53</td><td>63</td><td>46</td><td>31</td><td>14</td><td>4</td><td>21</td><td>15</td><td>5</td><td>11</td><td>17</td><td>0</td><td>10</td><td>27</td><td>37</td><td>43</td><td>28</td><td>22</td><td>7</td><td>13</td><td>30</td><td>36</td><td>19</td><td>34</td><td>49</td><td>59</td><td>44</td><td>29</td><td>39</td><td>54</td><td>60</td><td>45</td><td>35</td><td>25</td><td>42</td><td>32</td><td>26</td></tr></tbody></table></div>"
      ],
      "text/plain": [
       "shape: (103_417_923, 64)\n",
       "┌────────┬────────┬────────┬────────┬───┬─────────┬─────────┬─────────┬─────────┐\n",
       "│ move_0 ┆ move_1 ┆ move_2 ┆ move_3 ┆ … ┆ move_60 ┆ move_61 ┆ move_62 ┆ move_63 │\n",
       "│ ---    ┆ ---    ┆ ---    ┆ ---    ┆   ┆ ---     ┆ ---     ┆ ---     ┆ ---     │\n",
       "│ i8     ┆ i8     ┆ i8     ┆ i8     ┆   ┆ i8      ┆ i8      ┆ i8      ┆ i8      │\n",
       "╞════════╪════════╪════════╪════════╪═══╪═════════╪═════════╪═════════╪═════════╡\n",
       "│ 13     ┆ 7      ┆ 22     ┆ 39     ┆ … ┆ 9       ┆ 19      ┆ 34      ┆ 24      │\n",
       "│ 23     ┆ 6      ┆ 12     ┆ 2      ┆ … ┆ 28      ┆ 43      ┆ 33      ┆ 27      │\n",
       "│ 0      ┆ 10     ┆ 16     ┆ 1      ┆ … ┆ 36      ┆ 42      ┆ 27      ┆ 44      │\n",
       "│ 43     ┆ 60     ┆ 54     ┆ 39     ┆ … ┆ 9       ┆ 24      ┆ 41      ┆ 56      │\n",
       "│ 10     ┆ 0      ┆ 17     ┆ 2      ┆ … ┆ 58      ┆ 52      ┆ 46      ┆ 63      │\n",
       "│ …      ┆ …      ┆ …      ┆ …      ┆ … ┆ …       ┆ …       ┆ …       ┆ …       │\n",
       "│ 2      ┆ 8      ┆ 25     ┆ 40     ┆ … ┆ 36      ┆ 46      ┆ 63      ┆ 53      │\n",
       "│ 3      ┆ 9      ┆ 24     ┆ 41     ┆ … ┆ 30      ┆ 47      ┆ 62      ┆ 52      │\n",
       "│ 23     ┆ 6      ┆ 12     ┆ 2      ┆ … ┆ 7       ┆ 22      ┆ 39      ┆ 54      │\n",
       "│ 29     ┆ 14     ┆ 4      ┆ 10     ┆ … ┆ 11      ┆ 28      ┆ 45      ┆ 60      │\n",
       "│ 20     ┆ 3      ┆ 9      ┆ 24     ┆ … ┆ 25      ┆ 42      ┆ 32      ┆ 26      │\n",
       "└────────┴────────┴────────┴────────┴───┴─────────┴─────────┴─────────┴─────────┘"
      ]
     },
     "execution_count": 18,
     "metadata": {},
     "output_type": "execute_result"
    }
   ],
   "source": [
    "print(100 * len(expanded_training_only) / len(expanded_training_validation))\n",
    "expanded_training_only"
   ]
  },
  {
   "cell_type": "code",
   "execution_count": 17,
   "id": "27308e1e-3da3-4fe2-a189-7c0cc65df147",
   "metadata": {},
   "outputs": [
    {
     "name": "stdout",
     "output_type": "stream",
     "text": [
      "7.0000002158233245\n"
     ]
    },
    {
     "data": {
      "text/html": [
       "<div><style>\n",
       ".dataframe > thead > tr,\n",
       ".dataframe > tbody > tr {\n",
       "  text-align: right;\n",
       "  white-space: pre-wrap;\n",
       "}\n",
       "</style>\n",
       "<small>shape: (7_784_145, 64)</small><table border=\"1\" class=\"dataframe\"><thead><tr><th>move_0</th><th>move_1</th><th>move_2</th><th>move_3</th><th>move_4</th><th>move_5</th><th>move_6</th><th>move_7</th><th>move_8</th><th>move_9</th><th>move_10</th><th>move_11</th><th>move_12</th><th>move_13</th><th>move_14</th><th>move_15</th><th>move_16</th><th>move_17</th><th>move_18</th><th>move_19</th><th>move_20</th><th>move_21</th><th>move_22</th><th>move_23</th><th>move_24</th><th>move_25</th><th>move_26</th><th>move_27</th><th>move_28</th><th>move_29</th><th>move_30</th><th>move_31</th><th>move_32</th><th>move_33</th><th>move_34</th><th>move_35</th><th>move_36</th><th>move_37</th><th>move_38</th><th>move_39</th><th>move_40</th><th>move_41</th><th>move_42</th><th>move_43</th><th>move_44</th><th>move_45</th><th>move_46</th><th>move_47</th><th>move_48</th><th>move_49</th><th>move_50</th><th>move_51</th><th>move_52</th><th>move_53</th><th>move_54</th><th>move_55</th><th>move_56</th><th>move_57</th><th>move_58</th><th>move_59</th><th>move_60</th><th>move_61</th><th>move_62</th><th>move_63</th></tr><tr><td>i8</td><td>i8</td><td>i8</td><td>i8</td><td>i8</td><td>i8</td><td>i8</td><td>i8</td><td>i8</td><td>i8</td><td>i8</td><td>i8</td><td>i8</td><td>i8</td><td>i8</td><td>i8</td><td>i8</td><td>i8</td><td>i8</td><td>i8</td><td>i8</td><td>i8</td><td>i8</td><td>i8</td><td>i8</td><td>i8</td><td>i8</td><td>i8</td><td>i8</td><td>i8</td><td>i8</td><td>i8</td><td>i8</td><td>i8</td><td>i8</td><td>i8</td><td>i8</td><td>i8</td><td>i8</td><td>i8</td><td>i8</td><td>i8</td><td>i8</td><td>i8</td><td>i8</td><td>i8</td><td>i8</td><td>i8</td><td>i8</td><td>i8</td><td>i8</td><td>i8</td><td>i8</td><td>i8</td><td>i8</td><td>i8</td><td>i8</td><td>i8</td><td>i8</td><td>i8</td><td>i8</td><td>i8</td><td>i8</td><td>i8</td></tr></thead><tbody><tr><td>7</td><td>22</td><td>5</td><td>15</td><td>30</td><td>47</td><td>62</td><td>52</td><td>58</td><td>48</td><td>33</td><td>16</td><td>1</td><td>11</td><td>17</td><td>0</td><td>10</td><td>4</td><td>14</td><td>31</td><td>46</td><td>63</td><td>53</td><td>59</td><td>49</td><td>32</td><td>42</td><td>57</td><td>40</td><td>25</td><td>8</td><td>2</td><td>12</td><td>6</td><td>21</td><td>27</td><td>37</td><td>20</td><td>35</td><td>50</td><td>56</td><td>41</td><td>26</td><td>36</td><td>51</td><td>34</td><td>28</td><td>38</td><td>23</td><td>13</td><td>3</td><td>18</td><td>24</td><td>9</td><td>19</td><td>29</td><td>39</td><td>54</td><td>44</td><td>61</td><td>55</td><td>45</td><td>60</td><td>43</td></tr><tr><td>21</td><td>6</td><td>23</td><td>38</td><td>55</td><td>61</td><td>51</td><td>57</td><td>40</td><td>25</td><td>8</td><td>2</td><td>12</td><td>22</td><td>7</td><td>13</td><td>3</td><td>9</td><td>24</td><td>18</td><td>1</td><td>16</td><td>10</td><td>0</td><td>17</td><td>32</td><td>49</td><td>34</td><td>28</td><td>11</td><td>5</td><td>15</td><td>30</td><td>47</td><td>62</td><td>45</td><td>39</td><td>29</td><td>44</td><td>59</td><td>42</td><td>48</td><td>33</td><td>27</td><td>37</td><td>54</td><td>60</td><td>50</td><td>56</td><td>41</td><td>58</td><td>52</td><td>35</td><td>20</td><td>14</td><td>4</td><td>19</td><td>36</td><td>26</td><td>43</td><td>53</td><td>63</td><td>46</td><td>31</td></tr><tr><td>16</td><td>1</td><td>11</td><td>5</td><td>15</td><td>30</td><td>47</td><td>62</td><td>52</td><td>58</td><td>48</td><td>33</td><td>50</td><td>56</td><td>41</td><td>24</td><td>9</td><td>3</td><td>13</td><td>7</td><td>22</td><td>39</td><td>54</td><td>60</td><td>45</td><td>55</td><td>61</td><td>51</td><td>57</td><td>40</td><td>25</td><td>8</td><td>18</td><td>35</td><td>20</td><td>37</td><td>31</td><td>46</td><td>63</td><td>53</td><td>59</td><td>49</td><td>43</td><td>26</td><td>32</td><td>42</td><td>36</td><td>19</td><td>2</td><td>12</td><td>6</td><td>21</td><td>4</td><td>10</td><td>0</td><td>17</td><td>27</td><td>44</td><td>34</td><td>28</td><td>38</td><td>23</td><td>29</td><td>14</td></tr><tr><td>44</td><td>59</td><td>49</td><td>32</td><td>17</td><td>0</td><td>10</td><td>16</td><td>1</td><td>11</td><td>5</td><td>15</td><td>30</td><td>47</td><td>62</td><td>52</td><td>58</td><td>48</td><td>42</td><td>57</td><td>40</td><td>25</td><td>8</td><td>2</td><td>12</td><td>6</td><td>23</td><td>13</td><td>7</td><td>22</td><td>39</td><td>54</td><td>60</td><td>50</td><td>56</td><td>41</td><td>24</td><td>9</td><td>3</td><td>18</td><td>35</td><td>29</td><td>19</td><td>4</td><td>14</td><td>31</td><td>37</td><td>20</td><td>26</td><td>36</td><td>21</td><td>27</td><td>33</td><td>43</td><td>53</td><td>63</td><td>46</td><td>61</td><td>55</td><td>38</td><td>28</td><td>45</td><td>51</td><td>34</td></tr><tr><td>5</td><td>15</td><td>30</td><td>47</td><td>62</td><td>52</td><td>58</td><td>48</td><td>33</td><td>16</td><td>1</td><td>11</td><td>17</td><td>0</td><td>10</td><td>4</td><td>14</td><td>31</td><td>46</td><td>63</td><td>53</td><td>59</td><td>49</td><td>32</td><td>42</td><td>57</td><td>40</td><td>25</td><td>8</td><td>2</td><td>19</td><td>36</td><td>21</td><td>6</td><td>23</td><td>38</td><td>28</td><td>18</td><td>12</td><td>27</td><td>44</td><td>54</td><td>37</td><td>43</td><td>60</td><td>50</td><td>56</td><td>41</td><td>26</td><td>20</td><td>3</td><td>9</td><td>24</td><td>34</td><td>51</td><td>61</td><td>55</td><td>45</td><td>35</td><td>29</td><td>39</td><td>22</td><td>7</td><td>13</td></tr><tr><td>&hellip;</td><td>&hellip;</td><td>&hellip;</td><td>&hellip;</td><td>&hellip;</td><td>&hellip;</td><td>&hellip;</td><td>&hellip;</td><td>&hellip;</td><td>&hellip;</td><td>&hellip;</td><td>&hellip;</td><td>&hellip;</td><td>&hellip;</td><td>&hellip;</td><td>&hellip;</td><td>&hellip;</td><td>&hellip;</td><td>&hellip;</td><td>&hellip;</td><td>&hellip;</td><td>&hellip;</td><td>&hellip;</td><td>&hellip;</td><td>&hellip;</td><td>&hellip;</td><td>&hellip;</td><td>&hellip;</td><td>&hellip;</td><td>&hellip;</td><td>&hellip;</td><td>&hellip;</td><td>&hellip;</td><td>&hellip;</td><td>&hellip;</td><td>&hellip;</td><td>&hellip;</td><td>&hellip;</td><td>&hellip;</td><td>&hellip;</td><td>&hellip;</td><td>&hellip;</td><td>&hellip;</td><td>&hellip;</td><td>&hellip;</td><td>&hellip;</td><td>&hellip;</td><td>&hellip;</td><td>&hellip;</td><td>&hellip;</td><td>&hellip;</td><td>&hellip;</td><td>&hellip;</td><td>&hellip;</td><td>&hellip;</td><td>&hellip;</td><td>&hellip;</td><td>&hellip;</td><td>&hellip;</td><td>&hellip;</td><td>&hellip;</td><td>&hellip;</td><td>&hellip;</td><td>&hellip;</td></tr><tr><td>2</td><td>8</td><td>25</td><td>40</td><td>57</td><td>51</td><td>61</td><td>55</td><td>38</td><td>23</td><td>6</td><td>12</td><td>22</td><td>7</td><td>13</td><td>3</td><td>9</td><td>24</td><td>41</td><td>56</td><td>50</td><td>60</td><td>54</td><td>39</td><td>45</td><td>62</td><td>47</td><td>30</td><td>15</td><td>5</td><td>11</td><td>1</td><td>18</td><td>28</td><td>34</td><td>17</td><td>0</td><td>10</td><td>20</td><td>37</td><td>31</td><td>21</td><td>27</td><td>33</td><td>16</td><td>26</td><td>32</td><td>49</td><td>43</td><td>58</td><td>48</td><td>42</td><td>36</td><td>19</td><td>4</td><td>14</td><td>29</td><td>44</td><td>59</td><td>53</td><td>63</td><td>46</td><td>52</td><td>35</td></tr><tr><td>4</td><td>14</td><td>31</td><td>46</td><td>63</td><td>53</td><td>59</td><td>49</td><td>32</td><td>17</td><td>0</td><td>10</td><td>16</td><td>1</td><td>11</td><td>5</td><td>15</td><td>21</td><td>6</td><td>23</td><td>38</td><td>55</td><td>61</td><td>44</td><td>54</td><td>60</td><td>50</td><td>56</td><td>41</td><td>58</td><td>48</td><td>33</td><td>43</td><td>26</td><td>9</td><td>24</td><td>34</td><td>19</td><td>36</td><td>30</td><td>47</td><td>37</td><td>27</td><td>42</td><td>52</td><td>62</td><td>45</td><td>51</td><td>57</td><td>40</td><td>25</td><td>35</td><td>20</td><td>3</td><td>18</td><td>8</td><td>2</td><td>12</td><td>29</td><td>39</td><td>22</td><td>7</td><td>13</td><td>28</td></tr><tr><td>31</td><td>14</td><td>4</td><td>10</td><td>0</td><td>17</td><td>32</td><td>49</td><td>59</td><td>53</td><td>63</td><td>46</td><td>61</td><td>55</td><td>38</td><td>23</td><td>6</td><td>21</td><td>15</td><td>5</td><td>11</td><td>1</td><td>16</td><td>26</td><td>9</td><td>24</td><td>41</td><td>56</td><td>50</td><td>40</td><td>57</td><td>51</td><td>34</td><td>44</td><td>54</td><td>39</td><td>29</td><td>12</td><td>27</td><td>42</td><td>36</td><td>30</td><td>47</td><td>62</td><td>45</td><td>60</td><td>43</td><td>33</td><td>48</td><td>58</td><td>52</td><td>37</td><td>20</td><td>35</td><td>25</td><td>19</td><td>2</td><td>8</td><td>18</td><td>3</td><td>13</td><td>28</td><td>22</td><td>7</td></tr><tr><td>50</td><td>56</td><td>41</td><td>24</td><td>9</td><td>3</td><td>13</td><td>7</td><td>22</td><td>5</td><td>15</td><td>30</td><td>47</td><td>62</td><td>52</td><td>58</td><td>48</td><td>33</td><td>16</td><td>1</td><td>18</td><td>8</td><td>2</td><td>12</td><td>6</td><td>23</td><td>38</td><td>55</td><td>61</td><td>46</td><td>63</td><td>53</td><td>59</td><td>49</td><td>32</td><td>26</td><td>11</td><td>17</td><td>0</td><td>10</td><td>4</td><td>14</td><td>20</td><td>35</td><td>45</td><td>51</td><td>57</td><td>42</td><td>36</td><td>21</td><td>31</td><td>37</td><td>27</td><td>44</td><td>54</td><td>39</td><td>29</td><td>19</td><td>25</td><td>40</td><td>34</td><td>28</td><td>43</td><td>60</td></tr><tr><td>7</td><td>22</td><td>5</td><td>15</td><td>30</td><td>47</td><td>62</td><td>52</td><td>58</td><td>48</td><td>33</td><td>16</td><td>1</td><td>11</td><td>17</td><td>0</td><td>10</td><td>4</td><td>14</td><td>31</td><td>46</td><td>63</td><td>53</td><td>59</td><td>49</td><td>32</td><td>42</td><td>57</td><td>40</td><td>25</td><td>8</td><td>2</td><td>12</td><td>6</td><td>21</td><td>27</td><td>37</td><td>20</td><td>35</td><td>50</td><td>56</td><td>41</td><td>51</td><td>36</td><td>26</td><td>9</td><td>19</td><td>13</td><td>3</td><td>18</td><td>24</td><td>34</td><td>44</td><td>38</td><td>23</td><td>29</td><td>39</td><td>54</td><td>60</td><td>43</td><td>28</td><td>45</td><td>55</td><td>61</td></tr></tbody></table></div>"
      ],
      "text/plain": [
       "shape: (7_784_145, 64)\n",
       "┌────────┬────────┬────────┬────────┬───┬─────────┬─────────┬─────────┬─────────┐\n",
       "│ move_0 ┆ move_1 ┆ move_2 ┆ move_3 ┆ … ┆ move_60 ┆ move_61 ┆ move_62 ┆ move_63 │\n",
       "│ ---    ┆ ---    ┆ ---    ┆ ---    ┆   ┆ ---     ┆ ---     ┆ ---     ┆ ---     │\n",
       "│ i8     ┆ i8     ┆ i8     ┆ i8     ┆   ┆ i8      ┆ i8      ┆ i8      ┆ i8      │\n",
       "╞════════╪════════╪════════╪════════╪═══╪═════════╪═════════╪═════════╪═════════╡\n",
       "│ 7      ┆ 22     ┆ 5      ┆ 15     ┆ … ┆ 55      ┆ 45      ┆ 60      ┆ 43      │\n",
       "│ 21     ┆ 6      ┆ 23     ┆ 38     ┆ … ┆ 53      ┆ 63      ┆ 46      ┆ 31      │\n",
       "│ 16     ┆ 1      ┆ 11     ┆ 5      ┆ … ┆ 38      ┆ 23      ┆ 29      ┆ 14      │\n",
       "│ 44     ┆ 59     ┆ 49     ┆ 32     ┆ … ┆ 28      ┆ 45      ┆ 51      ┆ 34      │\n",
       "│ 5      ┆ 15     ┆ 30     ┆ 47     ┆ … ┆ 39      ┆ 22      ┆ 7       ┆ 13      │\n",
       "│ …      ┆ …      ┆ …      ┆ …      ┆ … ┆ …       ┆ …       ┆ …       ┆ …       │\n",
       "│ 2      ┆ 8      ┆ 25     ┆ 40     ┆ … ┆ 63      ┆ 46      ┆ 52      ┆ 35      │\n",
       "│ 4      ┆ 14     ┆ 31     ┆ 46     ┆ … ┆ 22      ┆ 7       ┆ 13      ┆ 28      │\n",
       "│ 31     ┆ 14     ┆ 4      ┆ 10     ┆ … ┆ 13      ┆ 28      ┆ 22      ┆ 7       │\n",
       "│ 50     ┆ 56     ┆ 41     ┆ 24     ┆ … ┆ 34      ┆ 28      ┆ 43      ┆ 60      │\n",
       "│ 7      ┆ 22     ┆ 5      ┆ 15     ┆ … ┆ 28      ┆ 45      ┆ 55      ┆ 61      │\n",
       "└────────┴────────┴────────┴────────┴───┴─────────┴─────────┴─────────┴─────────┘"
      ]
     },
     "execution_count": 17,
     "metadata": {},
     "output_type": "execute_result"
    }
   ],
   "source": [
    "print(100 * len(expanded_validation_only) / len(expanded_training_validation))\n",
    "expanded_validation_only"
   ]
  },
  {
   "cell_type": "code",
   "execution_count": 20,
   "id": "5de97f36-6b6f-467c-bce8-d7feb9f12bf7",
   "metadata": {},
   "outputs": [
    {
     "data": {
      "text/html": [
       "<div><style>\n",
       ".dataframe > thead > tr,\n",
       ".dataframe > tbody > tr {\n",
       "  text-align: right;\n",
       "  white-space: pre-wrap;\n",
       "}\n",
       "</style>\n",
       "<small>shape: (0, 64)</small><table border=\"1\" class=\"dataframe\"><thead><tr><th>move_0</th><th>move_1</th><th>move_2</th><th>move_3</th><th>move_4</th><th>move_5</th><th>move_6</th><th>move_7</th><th>move_8</th><th>move_9</th><th>move_10</th><th>move_11</th><th>move_12</th><th>move_13</th><th>move_14</th><th>move_15</th><th>move_16</th><th>move_17</th><th>move_18</th><th>move_19</th><th>move_20</th><th>move_21</th><th>move_22</th><th>move_23</th><th>move_24</th><th>move_25</th><th>move_26</th><th>move_27</th><th>move_28</th><th>move_29</th><th>move_30</th><th>move_31</th><th>move_32</th><th>move_33</th><th>move_34</th><th>move_35</th><th>move_36</th><th>move_37</th><th>move_38</th><th>move_39</th><th>move_40</th><th>move_41</th><th>move_42</th><th>move_43</th><th>move_44</th><th>move_45</th><th>move_46</th><th>move_47</th><th>move_48</th><th>move_49</th><th>move_50</th><th>move_51</th><th>move_52</th><th>move_53</th><th>move_54</th><th>move_55</th><th>move_56</th><th>move_57</th><th>move_58</th><th>move_59</th><th>move_60</th><th>move_61</th><th>move_62</th><th>move_63</th></tr><tr><td>i8</td><td>i8</td><td>i8</td><td>i8</td><td>i8</td><td>i8</td><td>i8</td><td>i8</td><td>i8</td><td>i8</td><td>i8</td><td>i8</td><td>i8</td><td>i8</td><td>i8</td><td>i8</td><td>i8</td><td>i8</td><td>i8</td><td>i8</td><td>i8</td><td>i8</td><td>i8</td><td>i8</td><td>i8</td><td>i8</td><td>i8</td><td>i8</td><td>i8</td><td>i8</td><td>i8</td><td>i8</td><td>i8</td><td>i8</td><td>i8</td><td>i8</td><td>i8</td><td>i8</td><td>i8</td><td>i8</td><td>i8</td><td>i8</td><td>i8</td><td>i8</td><td>i8</td><td>i8</td><td>i8</td><td>i8</td><td>i8</td><td>i8</td><td>i8</td><td>i8</td><td>i8</td><td>i8</td><td>i8</td><td>i8</td><td>i8</td><td>i8</td><td>i8</td><td>i8</td><td>i8</td><td>i8</td><td>i8</td><td>i8</td></tr></thead><tbody></tbody></table></div>"
      ],
      "text/plain": [
       "shape: (0, 64)\n",
       "┌────────┬────────┬────────┬────────┬───┬─────────┬─────────┬─────────┬─────────┐\n",
       "│ move_0 ┆ move_1 ┆ move_2 ┆ move_3 ┆ … ┆ move_60 ┆ move_61 ┆ move_62 ┆ move_63 │\n",
       "│ ---    ┆ ---    ┆ ---    ┆ ---    ┆   ┆ ---     ┆ ---     ┆ ---     ┆ ---     │\n",
       "│ i8     ┆ i8     ┆ i8     ┆ i8     ┆   ┆ i8      ┆ i8      ┆ i8      ┆ i8      │\n",
       "╞════════╪════════╪════════╪════════╪═══╪═════════╪═════════╪═════════╪═════════╡\n",
       "└────────┴────────┴────────┴────────┴───┴─────────┴─────────┴─────────┴─────────┘"
      ]
     },
     "execution_count": 20,
     "metadata": {},
     "output_type": "execute_result"
    }
   ],
   "source": [
    "# double checking that there is no overlap between training and validation\n",
    "expanded_validation_only.join(\n",
    "    expanded_training_only,\n",
    "    on=expanded_validation_only.columns, \n",
    "    how=\"inner\" \n",
    ")"
   ]
  },
  {
   "cell_type": "code",
   "execution_count": 21,
   "id": "5e7cc6a9-7898-4e45-bf62-de55e96a67ba",
   "metadata": {},
   "outputs": [],
   "source": [
    "# saving both the training and validation sets\n",
    "expanded_training_only.sort(by=\"move_0\").write_parquet(\n",
    "    f\"../data/final/training_final_8x8_{len(expanded_training_only)}.parquet\",\n",
    "    compression=\"zstd\"\n",
    ")\n",
    "\n",
    "expanded_validation_only.sort(by=\"move_0\").write_parquet(\n",
    "    f\"../data/final/validation_final_8x8_{len(expanded_validation_only)}.parquet\",\n",
    "    compression=\"zstd\"\n",
    ")"
   ]
  },
  {
   "cell_type": "markdown",
   "id": "6095b80c-88b2-4aee-b410-d6845bed3e91",
   "metadata": {},
   "source": [
    "## Final checks"
   ]
  },
  {
   "cell_type": "code",
   "execution_count": 52,
   "id": "9b198e05-f2ed-440d-a220-1844c82296a9",
   "metadata": {},
   "outputs": [],
   "source": [
    "def knight_move(\n",
    "        board, \n",
    "        start_index\n",
    "):\n",
    "    start_index_x, start_index_y = start_index\n",
    "    \n",
    "    possible_steps = {\n",
    "        \"up_and_right\": [start_index_x + 1, start_index_y - 2],\n",
    "        \"up_and_left\": [start_index_x - 1, start_index_y - 2],\n",
    "        \n",
    "        \"right_and_up\": [start_index_x + 2, start_index_y - 1],\n",
    "        \"right_and_down\": [start_index_x + 2, start_index_y + 1],\n",
    "        \n",
    "        \"left_and_up\": [start_index_x - 2, start_index_y - 1],\n",
    "        \"left_and_down\": [start_index_x - 2, start_index_y + 1],\n",
    "        \n",
    "        \"down_and_right\": [start_index_x + 1, start_index_y + 2],\n",
    "        \"down_and_left\": [start_index_x - 1, start_index_y + 2],\n",
    "    }\n",
    "    \n",
    "    possible_moves = []\n",
    "    \n",
    "    for step in possible_steps.keys():\n",
    "        index_x, index_y = possible_steps.get(step)\n",
    "        \n",
    "        if index_x >= 0 and index_y >= 0:\n",
    "            try:\n",
    "                possible_moves.append(board[index_x][index_y])\n",
    "            except IndexError:\n",
    "                pass\n",
    "            \n",
    "    return possible_moves\n",
    "\n",
    "board_size = 8\n",
    "\n",
    "chessboard_nxn = [\n",
    "    [i for i in range(n, n + board_size)] \n",
    "    for n in range(0, board_size ** 2, board_size)\n",
    "]\n",
    "\n",
    "chessboard_nxn_indices = [\n",
    "    [i, j] for i in range(board_size) \n",
    "    for j in range(board_size)\n",
    "]\n",
    "\n",
    "adjacency_list = {\n",
    "    i: j for i, j in zip(\n",
    "        range(board_size ** 2), \n",
    "        list(\n",
    "            knight_move(chessboard_nxn, index) \n",
    "            for index in chessboard_nxn_indices)\n",
    "    )\n",
    "}\n",
    "\n",
    "def solution_check(tour):\n",
    "    return True if tour and len(tour) == len(set(tour)) else False \n",
    "\n",
    "def tour_check(tour, adjacency_grid=adjacency_list):\n",
    "    for i in range(len(tour) - 1):\n",
    "        if tour[i + 1] not in adjacency_grid[tour[i]]:\n",
    "            return False\n",
    "        # print(tour[i], tour[i + 1], i)\n",
    "    return True\n",
    "\n",
    "def check_if_tour_closed(tour, adjacency_grid=adjacency_list):\n",
    "    return True if tour[-1] in adjacency_grid[tour[0]] else False"
   ]
  },
  {
   "cell_type": "code",
   "execution_count": 83,
   "id": "27bcedc4-ae6f-4560-a5f8-3893ecf29611",
   "metadata": {},
   "outputs": [
    {
     "name": "stdout",
     "output_type": "stream",
     "text": [
      "shape: (64, 2)\n",
      "┌─────┬────────────────┐\n",
      "│ key ┆ value          │\n",
      "│ --- ┆ ---            │\n",
      "│ i64 ┆ list[i64]      │\n",
      "╞═════╪════════════════╡\n",
      "│ 0   ┆ [17, 10]       │\n",
      "│ 1   ┆ [16, 18, 11]   │\n",
      "│ 2   ┆ [8, 17, … 12]  │\n",
      "│ 3   ┆ [9, 18, … 13]  │\n",
      "│ 4   ┆ [10, 19, … 14] │\n",
      "│ …   ┆ …              │\n",
      "│ 59  ┆ [49, 42, … 53] │\n",
      "│ 60  ┆ [50, 43, … 54] │\n",
      "│ 61  ┆ [51, 44, … 55] │\n",
      "│ 62  ┆ [52, 45, 47]   │\n",
      "│ 63  ┆ [53, 46]       │\n",
      "└─────┴────────────────┘\n"
     ]
    }
   ],
   "source": [
    "# converting adjacency_list to a Polars DataFrame\n",
    "adjacency_df = (\n",
    "    pl.DataFrame([(key, val) for key, val in adjacency_list.items()],\n",
    "                 schema=[\"key\", \"value\"],\n",
    "                 orient=\"row\") \n",
    ")\n",
    "\n",
    "print(adjacency_df)"
   ]
  },
  {
   "cell_type": "code",
   "execution_count": 84,
   "id": "f0b5cc80-cb08-4b9c-b61f-99ac6c45d110",
   "metadata": {},
   "outputs": [
    {
     "name": "stderr",
     "output_type": "stream",
     "text": [
      "/var/folders/25/8pnrgwt571b68wq6t25hql4w0000gn/T/ipykernel_99987/230990902.py:13: MapWithoutReturnDtypeWarning: Calling `map_elements` without specifying `return_dtype` can lead to unpredictable results. Specify `return_dtype` to silence this warning.\n",
      "  }).select(\n",
      "/var/folders/25/8pnrgwt571b68wq6t25hql4w0000gn/T/ipykernel_99987/230990902.py:13: MapWithoutReturnDtypeWarning: Calling `map_elements` without specifying `return_dtype` can lead to unpredictable results. Specify `return_dtype` to silence this warning.\n",
      "  }).select(\n",
      "/var/folders/25/8pnrgwt571b68wq6t25hql4w0000gn/T/ipykernel_99987/230990902.py:13: MapWithoutReturnDtypeWarning: Calling `map_elements` without specifying `return_dtype` can lead to unpredictable results. Specify `return_dtype` to silence this warning.\n",
      "  }).select(\n",
      "/var/folders/25/8pnrgwt571b68wq6t25hql4w0000gn/T/ipykernel_99987/230990902.py:13: MapWithoutReturnDtypeWarning: Calling `map_elements` without specifying `return_dtype` can lead to unpredictable results. Specify `return_dtype` to silence this warning.\n",
      "  }).select(\n",
      "/var/folders/25/8pnrgwt571b68wq6t25hql4w0000gn/T/ipykernel_99987/230990902.py:13: MapWithoutReturnDtypeWarning: Calling `map_elements` without specifying `return_dtype` can lead to unpredictable results. Specify `return_dtype` to silence this warning.\n",
      "  }).select(\n",
      "/var/folders/25/8pnrgwt571b68wq6t25hql4w0000gn/T/ipykernel_99987/230990902.py:13: MapWithoutReturnDtypeWarning: Calling `map_elements` without specifying `return_dtype` can lead to unpredictable results. Specify `return_dtype` to silence this warning.\n",
      "  }).select(\n",
      "/var/folders/25/8pnrgwt571b68wq6t25hql4w0000gn/T/ipykernel_99987/230990902.py:13: MapWithoutReturnDtypeWarning: Calling `map_elements` without specifying `return_dtype` can lead to unpredictable results. Specify `return_dtype` to silence this warning.\n",
      "  }).select(\n",
      "/var/folders/25/8pnrgwt571b68wq6t25hql4w0000gn/T/ipykernel_99987/230990902.py:13: MapWithoutReturnDtypeWarning: Calling `map_elements` without specifying `return_dtype` can lead to unpredictable results. Specify `return_dtype` to silence this warning.\n",
      "  }).select(\n",
      "/var/folders/25/8pnrgwt571b68wq6t25hql4w0000gn/T/ipykernel_99987/230990902.py:13: MapWithoutReturnDtypeWarning: Calling `map_elements` without specifying `return_dtype` can lead to unpredictable results. Specify `return_dtype` to silence this warning.\n",
      "  }).select(\n",
      "/var/folders/25/8pnrgwt571b68wq6t25hql4w0000gn/T/ipykernel_99987/230990902.py:13: MapWithoutReturnDtypeWarning: Calling `map_elements` without specifying `return_dtype` can lead to unpredictable results. Specify `return_dtype` to silence this warning.\n",
      "  }).select(\n",
      "/var/folders/25/8pnrgwt571b68wq6t25hql4w0000gn/T/ipykernel_99987/230990902.py:13: MapWithoutReturnDtypeWarning: Calling `map_elements` without specifying `return_dtype` can lead to unpredictable results. Specify `return_dtype` to silence this warning.\n",
      "  }).select(\n",
      "/var/folders/25/8pnrgwt571b68wq6t25hql4w0000gn/T/ipykernel_99987/230990902.py:13: MapWithoutReturnDtypeWarning: Calling `map_elements` without specifying `return_dtype` can lead to unpredictable results. Specify `return_dtype` to silence this warning.\n",
      "  }).select(\n",
      "/var/folders/25/8pnrgwt571b68wq6t25hql4w0000gn/T/ipykernel_99987/230990902.py:13: MapWithoutReturnDtypeWarning: Calling `map_elements` without specifying `return_dtype` can lead to unpredictable results. Specify `return_dtype` to silence this warning.\n",
      "  }).select(\n",
      "/var/folders/25/8pnrgwt571b68wq6t25hql4w0000gn/T/ipykernel_99987/230990902.py:13: MapWithoutReturnDtypeWarning: Calling `map_elements` without specifying `return_dtype` can lead to unpredictable results. Specify `return_dtype` to silence this warning.\n",
      "  }).select(\n",
      "/var/folders/25/8pnrgwt571b68wq6t25hql4w0000gn/T/ipykernel_99987/230990902.py:13: MapWithoutReturnDtypeWarning: Calling `map_elements` without specifying `return_dtype` can lead to unpredictable results. Specify `return_dtype` to silence this warning.\n",
      "  }).select(\n",
      "/var/folders/25/8pnrgwt571b68wq6t25hql4w0000gn/T/ipykernel_99987/230990902.py:13: MapWithoutReturnDtypeWarning: Calling `map_elements` without specifying `return_dtype` can lead to unpredictable results. Specify `return_dtype` to silence this warning.\n",
      "  }).select(\n",
      "/var/folders/25/8pnrgwt571b68wq6t25hql4w0000gn/T/ipykernel_99987/230990902.py:13: MapWithoutReturnDtypeWarning: Calling `map_elements` without specifying `return_dtype` can lead to unpredictable results. Specify `return_dtype` to silence this warning.\n",
      "  }).select(\n",
      "/var/folders/25/8pnrgwt571b68wq6t25hql4w0000gn/T/ipykernel_99987/230990902.py:13: MapWithoutReturnDtypeWarning: Calling `map_elements` without specifying `return_dtype` can lead to unpredictable results. Specify `return_dtype` to silence this warning.\n",
      "  }).select(\n",
      "/var/folders/25/8pnrgwt571b68wq6t25hql4w0000gn/T/ipykernel_99987/230990902.py:13: MapWithoutReturnDtypeWarning: Calling `map_elements` without specifying `return_dtype` can lead to unpredictable results. Specify `return_dtype` to silence this warning.\n",
      "  }).select(\n",
      "/var/folders/25/8pnrgwt571b68wq6t25hql4w0000gn/T/ipykernel_99987/230990902.py:13: MapWithoutReturnDtypeWarning: Calling `map_elements` without specifying `return_dtype` can lead to unpredictable results. Specify `return_dtype` to silence this warning.\n",
      "  }).select(\n",
      "/var/folders/25/8pnrgwt571b68wq6t25hql4w0000gn/T/ipykernel_99987/230990902.py:13: MapWithoutReturnDtypeWarning: Calling `map_elements` without specifying `return_dtype` can lead to unpredictable results. Specify `return_dtype` to silence this warning.\n",
      "  }).select(\n",
      "/var/folders/25/8pnrgwt571b68wq6t25hql4w0000gn/T/ipykernel_99987/230990902.py:13: MapWithoutReturnDtypeWarning: Calling `map_elements` without specifying `return_dtype` can lead to unpredictable results. Specify `return_dtype` to silence this warning.\n",
      "  }).select(\n",
      "/var/folders/25/8pnrgwt571b68wq6t25hql4w0000gn/T/ipykernel_99987/230990902.py:13: MapWithoutReturnDtypeWarning: Calling `map_elements` without specifying `return_dtype` can lead to unpredictable results. Specify `return_dtype` to silence this warning.\n",
      "  }).select(\n",
      "/var/folders/25/8pnrgwt571b68wq6t25hql4w0000gn/T/ipykernel_99987/230990902.py:13: MapWithoutReturnDtypeWarning: Calling `map_elements` without specifying `return_dtype` can lead to unpredictable results. Specify `return_dtype` to silence this warning.\n",
      "  }).select(\n",
      "/var/folders/25/8pnrgwt571b68wq6t25hql4w0000gn/T/ipykernel_99987/230990902.py:13: MapWithoutReturnDtypeWarning: Calling `map_elements` without specifying `return_dtype` can lead to unpredictable results. Specify `return_dtype` to silence this warning.\n",
      "  }).select(\n",
      "/var/folders/25/8pnrgwt571b68wq6t25hql4w0000gn/T/ipykernel_99987/230990902.py:13: MapWithoutReturnDtypeWarning: Calling `map_elements` without specifying `return_dtype` can lead to unpredictable results. Specify `return_dtype` to silence this warning.\n",
      "  }).select(\n",
      "/var/folders/25/8pnrgwt571b68wq6t25hql4w0000gn/T/ipykernel_99987/230990902.py:13: MapWithoutReturnDtypeWarning: Calling `map_elements` without specifying `return_dtype` can lead to unpredictable results. Specify `return_dtype` to silence this warning.\n",
      "  }).select(\n",
      "/var/folders/25/8pnrgwt571b68wq6t25hql4w0000gn/T/ipykernel_99987/230990902.py:13: MapWithoutReturnDtypeWarning: Calling `map_elements` without specifying `return_dtype` can lead to unpredictable results. Specify `return_dtype` to silence this warning.\n",
      "  }).select(\n",
      "/var/folders/25/8pnrgwt571b68wq6t25hql4w0000gn/T/ipykernel_99987/230990902.py:13: MapWithoutReturnDtypeWarning: Calling `map_elements` without specifying `return_dtype` can lead to unpredictable results. Specify `return_dtype` to silence this warning.\n",
      "  }).select(\n",
      "/var/folders/25/8pnrgwt571b68wq6t25hql4w0000gn/T/ipykernel_99987/230990902.py:13: MapWithoutReturnDtypeWarning: Calling `map_elements` without specifying `return_dtype` can lead to unpredictable results. Specify `return_dtype` to silence this warning.\n",
      "  }).select(\n",
      "/var/folders/25/8pnrgwt571b68wq6t25hql4w0000gn/T/ipykernel_99987/230990902.py:13: MapWithoutReturnDtypeWarning: Calling `map_elements` without specifying `return_dtype` can lead to unpredictable results. Specify `return_dtype` to silence this warning.\n",
      "  }).select(\n",
      "/var/folders/25/8pnrgwt571b68wq6t25hql4w0000gn/T/ipykernel_99987/230990902.py:13: MapWithoutReturnDtypeWarning: Calling `map_elements` without specifying `return_dtype` can lead to unpredictable results. Specify `return_dtype` to silence this warning.\n",
      "  }).select(\n",
      "/var/folders/25/8pnrgwt571b68wq6t25hql4w0000gn/T/ipykernel_99987/230990902.py:13: MapWithoutReturnDtypeWarning: Calling `map_elements` without specifying `return_dtype` can lead to unpredictable results. Specify `return_dtype` to silence this warning.\n",
      "  }).select(\n",
      "/var/folders/25/8pnrgwt571b68wq6t25hql4w0000gn/T/ipykernel_99987/230990902.py:13: MapWithoutReturnDtypeWarning: Calling `map_elements` without specifying `return_dtype` can lead to unpredictable results. Specify `return_dtype` to silence this warning.\n",
      "  }).select(\n",
      "/var/folders/25/8pnrgwt571b68wq6t25hql4w0000gn/T/ipykernel_99987/230990902.py:13: MapWithoutReturnDtypeWarning: Calling `map_elements` without specifying `return_dtype` can lead to unpredictable results. Specify `return_dtype` to silence this warning.\n",
      "  }).select(\n",
      "/var/folders/25/8pnrgwt571b68wq6t25hql4w0000gn/T/ipykernel_99987/230990902.py:13: MapWithoutReturnDtypeWarning: Calling `map_elements` without specifying `return_dtype` can lead to unpredictable results. Specify `return_dtype` to silence this warning.\n",
      "  }).select(\n",
      "/var/folders/25/8pnrgwt571b68wq6t25hql4w0000gn/T/ipykernel_99987/230990902.py:13: MapWithoutReturnDtypeWarning: Calling `map_elements` without specifying `return_dtype` can lead to unpredictable results. Specify `return_dtype` to silence this warning.\n",
      "  }).select(\n",
      "/var/folders/25/8pnrgwt571b68wq6t25hql4w0000gn/T/ipykernel_99987/230990902.py:13: MapWithoutReturnDtypeWarning: Calling `map_elements` without specifying `return_dtype` can lead to unpredictable results. Specify `return_dtype` to silence this warning.\n",
      "  }).select(\n",
      "/var/folders/25/8pnrgwt571b68wq6t25hql4w0000gn/T/ipykernel_99987/230990902.py:13: MapWithoutReturnDtypeWarning: Calling `map_elements` without specifying `return_dtype` can lead to unpredictable results. Specify `return_dtype` to silence this warning.\n",
      "  }).select(\n",
      "/var/folders/25/8pnrgwt571b68wq6t25hql4w0000gn/T/ipykernel_99987/230990902.py:13: MapWithoutReturnDtypeWarning: Calling `map_elements` without specifying `return_dtype` can lead to unpredictable results. Specify `return_dtype` to silence this warning.\n",
      "  }).select(\n",
      "/var/folders/25/8pnrgwt571b68wq6t25hql4w0000gn/T/ipykernel_99987/230990902.py:13: MapWithoutReturnDtypeWarning: Calling `map_elements` without specifying `return_dtype` can lead to unpredictable results. Specify `return_dtype` to silence this warning.\n",
      "  }).select(\n",
      "/var/folders/25/8pnrgwt571b68wq6t25hql4w0000gn/T/ipykernel_99987/230990902.py:13: MapWithoutReturnDtypeWarning: Calling `map_elements` without specifying `return_dtype` can lead to unpredictable results. Specify `return_dtype` to silence this warning.\n",
      "  }).select(\n",
      "/var/folders/25/8pnrgwt571b68wq6t25hql4w0000gn/T/ipykernel_99987/230990902.py:13: MapWithoutReturnDtypeWarning: Calling `map_elements` without specifying `return_dtype` can lead to unpredictable results. Specify `return_dtype` to silence this warning.\n",
      "  }).select(\n",
      "/var/folders/25/8pnrgwt571b68wq6t25hql4w0000gn/T/ipykernel_99987/230990902.py:13: MapWithoutReturnDtypeWarning: Calling `map_elements` without specifying `return_dtype` can lead to unpredictable results. Specify `return_dtype` to silence this warning.\n",
      "  }).select(\n",
      "/var/folders/25/8pnrgwt571b68wq6t25hql4w0000gn/T/ipykernel_99987/230990902.py:13: MapWithoutReturnDtypeWarning: Calling `map_elements` without specifying `return_dtype` can lead to unpredictable results. Specify `return_dtype` to silence this warning.\n",
      "  }).select(\n",
      "/var/folders/25/8pnrgwt571b68wq6t25hql4w0000gn/T/ipykernel_99987/230990902.py:13: MapWithoutReturnDtypeWarning: Calling `map_elements` without specifying `return_dtype` can lead to unpredictable results. Specify `return_dtype` to silence this warning.\n",
      "  }).select(\n",
      "/var/folders/25/8pnrgwt571b68wq6t25hql4w0000gn/T/ipykernel_99987/230990902.py:13: MapWithoutReturnDtypeWarning: Calling `map_elements` without specifying `return_dtype` can lead to unpredictable results. Specify `return_dtype` to silence this warning.\n",
      "  }).select(\n",
      "/var/folders/25/8pnrgwt571b68wq6t25hql4w0000gn/T/ipykernel_99987/230990902.py:13: MapWithoutReturnDtypeWarning: Calling `map_elements` without specifying `return_dtype` can lead to unpredictable results. Specify `return_dtype` to silence this warning.\n",
      "  }).select(\n",
      "/var/folders/25/8pnrgwt571b68wq6t25hql4w0000gn/T/ipykernel_99987/230990902.py:13: MapWithoutReturnDtypeWarning: Calling `map_elements` without specifying `return_dtype` can lead to unpredictable results. Specify `return_dtype` to silence this warning.\n",
      "  }).select(\n",
      "/var/folders/25/8pnrgwt571b68wq6t25hql4w0000gn/T/ipykernel_99987/230990902.py:13: MapWithoutReturnDtypeWarning: Calling `map_elements` without specifying `return_dtype` can lead to unpredictable results. Specify `return_dtype` to silence this warning.\n",
      "  }).select(\n",
      "/var/folders/25/8pnrgwt571b68wq6t25hql4w0000gn/T/ipykernel_99987/230990902.py:13: MapWithoutReturnDtypeWarning: Calling `map_elements` without specifying `return_dtype` can lead to unpredictable results. Specify `return_dtype` to silence this warning.\n",
      "  }).select(\n",
      "/var/folders/25/8pnrgwt571b68wq6t25hql4w0000gn/T/ipykernel_99987/230990902.py:13: MapWithoutReturnDtypeWarning: Calling `map_elements` without specifying `return_dtype` can lead to unpredictable results. Specify `return_dtype` to silence this warning.\n",
      "  }).select(\n",
      "/var/folders/25/8pnrgwt571b68wq6t25hql4w0000gn/T/ipykernel_99987/230990902.py:13: MapWithoutReturnDtypeWarning: Calling `map_elements` without specifying `return_dtype` can lead to unpredictable results. Specify `return_dtype` to silence this warning.\n",
      "  }).select(\n",
      "/var/folders/25/8pnrgwt571b68wq6t25hql4w0000gn/T/ipykernel_99987/230990902.py:13: MapWithoutReturnDtypeWarning: Calling `map_elements` without specifying `return_dtype` can lead to unpredictable results. Specify `return_dtype` to silence this warning.\n",
      "  }).select(\n",
      "/var/folders/25/8pnrgwt571b68wq6t25hql4w0000gn/T/ipykernel_99987/230990902.py:13: MapWithoutReturnDtypeWarning: Calling `map_elements` without specifying `return_dtype` can lead to unpredictable results. Specify `return_dtype` to silence this warning.\n",
      "  }).select(\n",
      "/var/folders/25/8pnrgwt571b68wq6t25hql4w0000gn/T/ipykernel_99987/230990902.py:13: MapWithoutReturnDtypeWarning: Calling `map_elements` without specifying `return_dtype` can lead to unpredictable results. Specify `return_dtype` to silence this warning.\n",
      "  }).select(\n",
      "/var/folders/25/8pnrgwt571b68wq6t25hql4w0000gn/T/ipykernel_99987/230990902.py:13: MapWithoutReturnDtypeWarning: Calling `map_elements` without specifying `return_dtype` can lead to unpredictable results. Specify `return_dtype` to silence this warning.\n",
      "  }).select(\n",
      "/var/folders/25/8pnrgwt571b68wq6t25hql4w0000gn/T/ipykernel_99987/230990902.py:13: MapWithoutReturnDtypeWarning: Calling `map_elements` without specifying `return_dtype` can lead to unpredictable results. Specify `return_dtype` to silence this warning.\n",
      "  }).select(\n",
      "/var/folders/25/8pnrgwt571b68wq6t25hql4w0000gn/T/ipykernel_99987/230990902.py:13: MapWithoutReturnDtypeWarning: Calling `map_elements` without specifying `return_dtype` can lead to unpredictable results. Specify `return_dtype` to silence this warning.\n",
      "  }).select(\n",
      "/var/folders/25/8pnrgwt571b68wq6t25hql4w0000gn/T/ipykernel_99987/230990902.py:13: MapWithoutReturnDtypeWarning: Calling `map_elements` without specifying `return_dtype` can lead to unpredictable results. Specify `return_dtype` to silence this warning.\n",
      "  }).select(\n",
      "/var/folders/25/8pnrgwt571b68wq6t25hql4w0000gn/T/ipykernel_99987/230990902.py:13: MapWithoutReturnDtypeWarning: Calling `map_elements` without specifying `return_dtype` can lead to unpredictable results. Specify `return_dtype` to silence this warning.\n",
      "  }).select(\n",
      "/var/folders/25/8pnrgwt571b68wq6t25hql4w0000gn/T/ipykernel_99987/230990902.py:13: MapWithoutReturnDtypeWarning: Calling `map_elements` without specifying `return_dtype` can lead to unpredictable results. Specify `return_dtype` to silence this warning.\n",
      "  }).select(\n",
      "/var/folders/25/8pnrgwt571b68wq6t25hql4w0000gn/T/ipykernel_99987/230990902.py:13: MapWithoutReturnDtypeWarning: Calling `map_elements` without specifying `return_dtype` can lead to unpredictable results. Specify `return_dtype` to silence this warning.\n",
      "  }).select(\n"
     ]
    }
   ],
   "source": [
    "def validate_tours(df, adjacency_list):\n",
    "    \"\"\"\n",
    "    This function validates if all the tours in a dataset are valid;\n",
    "    i.e., that they are complete tours that follow the knight's movement pattern.\n",
    "    \"\"\"\n",
    "    is_valid = pl.Series([True] * df.shape[0]) \n",
    "\n",
    "    # looping over each column\n",
    "    for i in range(len(df.columns) - 1):\n",
    "        current_col = df[:, i]\n",
    "        next_col = df[:, i + 1]\n",
    "\n",
    "        # mapping the adjacency list to check if the next column is valid\n",
    "        current_valid = pl.DataFrame({\n",
    "            \"current\": current_col,\n",
    "            \"next\": next_col\n",
    "        }).select(\n",
    "            pl.struct([\"current\", \"next\"]).map_elements(\n",
    "                lambda x: x[\"next\"] in adjacency_list.get(x[\"current\"], []) if x[\"next\"] is not None else True\n",
    "            ).alias(f\"valid_{i}\")\n",
    "        )\n",
    "\n",
    "        is_valid &= current_valid[f\"valid_{i}\"]\n",
    "\n",
    "    return is_valid\n",
    "\n",
    "# validating all the tours\n",
    "valid_tours = validate_tours(expanded_validation_only, adjacency_list)"
   ]
  },
  {
   "cell_type": "code",
   "execution_count": 88,
   "id": "0b12e780-3526-40e7-b445-68ed49bba348",
   "metadata": {},
   "outputs": [
    {
     "data": {
      "text/plain": [
       "True"
      ]
     },
     "execution_count": 88,
     "metadata": {},
     "output_type": "execute_result"
    }
   ],
   "source": [
    "all(valid_tours.to_list())"
   ]
  },
  {
   "cell_type": "markdown",
   "id": "20a2ccc0-679f-48cf-8132-288da1bcf13c",
   "metadata": {},
   "source": [
    "#### Check 1: If all tour indices are unique"
   ]
  },
  {
   "cell_type": "code",
   "execution_count": 169,
   "id": "1b91c939-e719-4881-84a5-b5e7802dcf51",
   "metadata": {},
   "outputs": [
    {
     "data": {
      "text/plain": [
       "True"
      ]
     },
     "execution_count": 169,
     "metadata": {},
     "output_type": "execute_result"
    }
   ],
   "source": [
    "tour_validator(expanded_validation_only, func=solution_check)"
   ]
  },
  {
   "cell_type": "code",
   "execution_count": 173,
   "id": "bdaf7d34-432e-48cb-bbcc-d4fb0af09fd9",
   "metadata": {},
   "outputs": [
    {
     "data": {
      "text/plain": [
       "True"
      ]
     },
     "execution_count": 173,
     "metadata": {},
     "output_type": "execute_result"
    }
   ],
   "source": [
    "tour_validator(expanded_training_only, func=solution_check)"
   ]
  },
  {
   "cell_type": "markdown",
   "id": "95132e18-bcab-4d21-be8d-ea6774a74970",
   "metadata": {},
   "source": [
    "## rando tests"
   ]
  },
  {
   "cell_type": "code",
   "execution_count": 22,
   "id": "66923b81-0c13-42c6-9cfd-8a5c2dd9b892",
   "metadata": {},
   "outputs": [],
   "source": [
    "np.random.seed(139746178)"
   ]
  },
  {
   "cell_type": "code",
   "execution_count": 21,
   "id": "f844f0f9-2f12-4144-b8d8-3829b6bcbf96",
   "metadata": {},
   "outputs": [],
   "source": [
    "train = pl.read_parquet(\"../data/final/training_final_8x8_103417923.parquet\")\n",
    "val = pl.read_parquet(\"../data/final/validation_final_8x8_7784145.parquet\")"
   ]
  },
  {
   "cell_type": "code",
   "execution_count": 22,
   "id": "db6fc87c-e22c-40d1-baff-0e6ff5cefd02",
   "metadata": {},
   "outputs": [],
   "source": [
    "train = train.sample(fraction=1, shuffle=True, seed=139746178)\n",
    "val = val.sample(fraction=1, shuffle=True, seed=139746178)"
   ]
  },
  {
   "cell_type": "code",
   "execution_count": 23,
   "id": "a2f0f373-bbcd-41c3-b09e-253a3fe34489",
   "metadata": {},
   "outputs": [],
   "source": [
    "def sample_train_and_val(frac_to_sample):\n",
    "    train_small = train.sample(fraction=frac_to_sample, shuffle=True, seed=139746178)\n",
    "    val_small = val.sample(fraction=frac_to_sample, shuffle=True, seed=139746178)\n",
    "\n",
    "    # saving the sequences as lists for hf streaming\n",
    "    train_small = pl.DataFrame(train_small.with_columns(pl.concat_list(train_small.columns).alias(\"input_ids\"))[\"input_ids\"])\n",
    "    train_small = train_small.with_columns(pl.col(\"input_ids\").alias(\"labels\"))\n",
    "\n",
    "    val_small = pl.DataFrame(val_small.with_columns(pl.concat_list(val_small.columns).alias(\"input_ids\"))[\"input_ids\"])\n",
    "    val_small = val_small.with_columns(pl.col(\"input_ids\").alias(\"labels\"))\n",
    "\n",
    "    # saving the files with percentanges in the file name\n",
    "    train_small.write_parquet(f\"../data/final/sampled/training_final_8x8_{int(frac_to_sample * 100)}_percent.parquet\")\n",
    "    val_small.write_parquet(f\"../data/final/sampled/val_final_8x8_{int(frac_to_sample * 100)}_percent.parquet\")"
   ]
  },
  {
   "cell_type": "code",
   "execution_count": 24,
   "id": "ae1c8d85-87d6-45f4-9c4f-736b74cf11d8",
   "metadata": {},
   "outputs": [],
   "source": [
    "sample_train_and_val(0.1)"
   ]
  },
  {
   "cell_type": "code",
   "execution_count": 25,
   "id": "6aa08301-7117-4d4c-a05d-c5bb5d32f0c5",
   "metadata": {},
   "outputs": [],
   "source": [
    "sample_train_and_val(0.25)"
   ]
  },
  {
   "cell_type": "code",
   "execution_count": 26,
   "id": "02f4f2df-46e0-468c-8519-b78cb79d14d8",
   "metadata": {},
   "outputs": [],
   "source": [
    "sample_train_and_val(0.5)"
   ]
  },
  {
   "cell_type": "code",
   "execution_count": 51,
   "id": "95d999f7-f4a0-4359-916b-a93f441f0824",
   "metadata": {},
   "outputs": [],
   "source": [
    "from datasets import load_dataset, Dataset"
   ]
  },
  {
   "cell_type": "code",
   "execution_count": 45,
   "id": "bf414fc2-1e62-42d7-a268-9f2a6e1a27e3",
   "metadata": {},
   "outputs": [],
   "source": [
    "hftest = load_dataset(\n",
    "    \"parquet\", \n",
    "    data_files=f\"../data/final/sampled/val_final_8x8_10_percent.parquet\", \n",
    "    split=\"train\", \n",
    "    streaming=True\n",
    ")\n",
    "\n",
    "\n"
   ]
  },
  {
   "cell_type": "code",
   "execution_count": 64,
   "id": "1ba0afd2-f371-41e5-a4f4-9e14c1746959",
   "metadata": {},
   "outputs": [
    {
     "name": "stdout",
     "output_type": "stream",
     "text": [
      "{'input_ids': [48, 58, 52, 62, 47, 53, 63, 46, 31, 14, 4, 10, 0, 17, 2, 8, 25, 40, 57, 42, 59, 49, 32, 26, 16, 1, 11, 5, 15, 30, 36, 21, 6, 23, 38, 55, 61, 51, 34, 28, 18, 24, 41, 35, 45, 60, 43, 33, 27, 37, 20, 3, 9, 19, 13, 7, 22, 12, 29, 39, 54, 44, 50, 56], 'labels': [48, 58, 52, 62, 47, 53, 63, 46, 31, 14, 4, 10, 0, 17, 2, 8, 25, 40, 57, 42, 59, 49, 32, 26, 16, 1, 11, 5, 15, 30, 36, 21, 6, 23, 38, 55, 61, 51, 34, 28, 18, 24, 41, 35, 45, 60, 43, 33, 27, 37, 20, 3, 9, 19, 13, 7, 22, 12, 29, 39, 54, 44, 50, 56]}\n"
     ]
    }
   ],
   "source": [
    "for example in hftest:\n",
    "    print(example)\n",
    "    break"
   ]
  },
  {
   "cell_type": "code",
   "execution_count": 44,
   "id": "106400fc-5cbf-4c18-a60b-b6034b7d1256",
   "metadata": {},
   "outputs": [
    {
     "data": {
      "text/plain": [
       "IterableDatasetDict({\n",
       "    train: IterableDataset({\n",
       "        features: ['input_ids', 'labels'],\n",
       "        num_shards: 1\n",
       "    })\n",
       "})"
      ]
     },
     "execution_count": 44,
     "metadata": {},
     "output_type": "execute_result"
    }
   ],
   "source": [
    "hftest"
   ]
  },
  {
   "cell_type": "code",
   "execution_count": 19,
   "id": "cbf0268d-084a-473a-8d6b-2da62f3e6a18",
   "metadata": {},
   "outputs": [],
   "source": [
    "tdf = pl.DataFrame({\n",
    "    \"a\": [1, 2, 3],\n",
    "    \"b\": [4, 5, 6]\n",
    "})"
   ]
  },
  {
   "cell_type": "code",
   "execution_count": 17,
   "id": "212c1d3c-18fb-4098-a0f5-940f0aad99ab",
   "metadata": {},
   "outputs": [],
   "source": [
    "tdf = pl.DataFrame(tdf.with_columns(pl.concat_list(tdf.columns).alias(\"input_ids\"))[\"input_ids\"])\n",
    "tdf = tdf.with_columns(pl.col(\"input_ids\").alias(\"labels\"))"
   ]
  },
  {
   "cell_type": "code",
   "execution_count": 18,
   "id": "e368093e-90be-4f1c-ba57-f4516e8a4cc6",
   "metadata": {},
   "outputs": [
    {
     "data": {
      "text/html": [
       "<div><style>\n",
       ".dataframe > thead > tr,\n",
       ".dataframe > tbody > tr {\n",
       "  text-align: right;\n",
       "  white-space: pre-wrap;\n",
       "}\n",
       "</style>\n",
       "<small>shape: (3, 2)</small><table border=\"1\" class=\"dataframe\"><thead><tr><th>input_ids</th><th>labels</th></tr><tr><td>list[i64]</td><td>list[i64]</td></tr></thead><tbody><tr><td>[1, 4]</td><td>[1, 4]</td></tr><tr><td>[2, 5]</td><td>[2, 5]</td></tr><tr><td>[3, 6]</td><td>[3, 6]</td></tr></tbody></table></div>"
      ],
      "text/plain": [
       "shape: (3, 2)\n",
       "┌───────────┬───────────┐\n",
       "│ input_ids ┆ labels    │\n",
       "│ ---       ┆ ---       │\n",
       "│ list[i64] ┆ list[i64] │\n",
       "╞═══════════╪═══════════╡\n",
       "│ [1, 4]    ┆ [1, 4]    │\n",
       "│ [2, 5]    ┆ [2, 5]    │\n",
       "│ [3, 6]    ┆ [3, 6]    │\n",
       "└───────────┴───────────┘"
      ]
     },
     "execution_count": 18,
     "metadata": {},
     "output_type": "execute_result"
    }
   ],
   "source": [
    "tdf"
   ]
  },
  {
   "cell_type": "code",
   "execution_count": 20,
   "id": "8faf283d-fa63-4893-8c33-fc9a0d889040",
   "metadata": {},
   "outputs": [
    {
     "data": {
      "text/html": [
       "<div><style>\n",
       ".dataframe > thead > tr,\n",
       ".dataframe > tbody > tr {\n",
       "  text-align: right;\n",
       "  white-space: pre-wrap;\n",
       "}\n",
       "</style>\n",
       "<small>shape: (3, 2)</small><table border=\"1\" class=\"dataframe\"><thead><tr><th>a</th><th>b</th></tr><tr><td>i64</td><td>i64</td></tr></thead><tbody><tr><td>1</td><td>4</td></tr><tr><td>2</td><td>5</td></tr><tr><td>3</td><td>6</td></tr></tbody></table></div>"
      ],
      "text/plain": [
       "shape: (3, 2)\n",
       "┌─────┬─────┐\n",
       "│ a   ┆ b   │\n",
       "│ --- ┆ --- │\n",
       "│ i64 ┆ i64 │\n",
       "╞═════╪═════╡\n",
       "│ 1   ┆ 4   │\n",
       "│ 2   ┆ 5   │\n",
       "│ 3   ┆ 6   │\n",
       "└─────┴─────┘"
      ]
     },
     "execution_count": 20,
     "metadata": {},
     "output_type": "execute_result"
    }
   ],
   "source": [
    "tdf"
   ]
  },
  {
   "cell_type": "code",
   "execution_count": 50,
   "id": "cdefa4fa-22dc-4470-8f9d-f5973a8d4713",
   "metadata": {},
   "outputs": [],
   "source": [
    "def prepare_knights_tour_data(sequences):\n",
    "    # creating a Hugging Face dataset\n",
    "\n",
    "    \n",
    "    return hf_dataset"
   ]
  },
  {
   "cell_type": "code",
   "execution_count": 68,
   "id": "43322f9b-6e1f-4e58-a4bc-fddb81588b7f",
   "metadata": {},
   "outputs": [],
   "source": [
    "val10 = pl.read_parquet(\"../data/final/sampled/val_final_8x8_10_percent.parquet\")"
   ]
  },
  {
   "cell_type": "code",
   "execution_count": 69,
   "id": "18b0416f-67af-4459-83c9-f37977b01dcf",
   "metadata": {},
   "outputs": [
    {
     "data": {
      "text/html": [
       "<div><style>\n",
       ".dataframe > thead > tr,\n",
       ".dataframe > tbody > tr {\n",
       "  text-align: right;\n",
       "  white-space: pre-wrap;\n",
       "}\n",
       "</style>\n",
       "<small>shape: (778_414, 2)</small><table border=\"1\" class=\"dataframe\"><thead><tr><th>input_ids</th><th>labels</th></tr><tr><td>list[i8]</td><td>list[i8]</td></tr></thead><tbody><tr><td>[48, 58, … 56]</td><td>[48, 58, … 56]</td></tr><tr><td>[0, 10, … 21]</td><td>[0, 10, … 21]</td></tr><tr><td>[23, 6, … 11]</td><td>[23, 6, … 11]</td></tr><tr><td>[44, 59, … 61]</td><td>[44, 59, … 61]</td></tr><tr><td>[31, 14, … 37]</td><td>[31, 14, … 37]</td></tr><tr><td>&hellip;</td><td>&hellip;</td></tr><tr><td>[59, 49, … 28]</td><td>[59, 49, … 28]</td></tr><tr><td>[44, 59, … 63]</td><td>[44, 59, … 63]</td></tr><tr><td>[45, 62, … 23]</td><td>[45, 62, … 23]</td></tr><tr><td>[35, 25, … 27]</td><td>[35, 25, … 27]</td></tr><tr><td>[36, 30, … 12]</td><td>[36, 30, … 12]</td></tr></tbody></table></div>"
      ],
      "text/plain": [
       "shape: (778_414, 2)\n",
       "┌────────────────┬────────────────┐\n",
       "│ input_ids      ┆ labels         │\n",
       "│ ---            ┆ ---            │\n",
       "│ list[i8]       ┆ list[i8]       │\n",
       "╞════════════════╪════════════════╡\n",
       "│ [48, 58, … 56] ┆ [48, 58, … 56] │\n",
       "│ [0, 10, … 21]  ┆ [0, 10, … 21]  │\n",
       "│ [23, 6, … 11]  ┆ [23, 6, … 11]  │\n",
       "│ [44, 59, … 61] ┆ [44, 59, … 61] │\n",
       "│ [31, 14, … 37] ┆ [31, 14, … 37] │\n",
       "│ …              ┆ …              │\n",
       "│ [59, 49, … 28] ┆ [59, 49, … 28] │\n",
       "│ [44, 59, … 63] ┆ [44, 59, … 63] │\n",
       "│ [45, 62, … 23] ┆ [45, 62, … 23] │\n",
       "│ [35, 25, … 27] ┆ [35, 25, … 27] │\n",
       "│ [36, 30, … 12] ┆ [36, 30, … 12] │\n",
       "└────────────────┴────────────────┘"
      ]
     },
     "execution_count": 69,
     "metadata": {},
     "output_type": "execute_result"
    }
   ],
   "source": [
    "val10"
   ]
  },
  {
   "cell_type": "code",
   "execution_count": 66,
   "id": "2f3896c2-1ea1-4992-b120-4e46418067a9",
   "metadata": {},
   "outputs": [],
   "source": [
    "val10_hf = Dataset(val10.to_arrow())"
   ]
  },
  {
   "cell_type": "code",
   "execution_count": 70,
   "id": "26288fdb-ff7c-48ec-a35c-2860324a05ff",
   "metadata": {},
   "outputs": [],
   "source": [
    "#val10_hf[0]"
   ]
  },
  {
   "cell_type": "code",
   "execution_count": 102,
   "id": "32cbb9cd-a1b0-4d6a-a987-06580fecdc20",
   "metadata": {},
   "outputs": [],
   "source": [
    "train50 = pl.read_parquet(\"../data/final/sampled/training_final_8x8_50_percent.parquet\")"
   ]
  },
  {
   "cell_type": "code",
   "execution_count": 103,
   "id": "9359ea0c-304b-48d4-8344-28eeb9736d0a",
   "metadata": {},
   "outputs": [
    {
     "data": {
      "text/html": [
       "<div><style>\n",
       ".dataframe > thead > tr,\n",
       ".dataframe > tbody > tr {\n",
       "  text-align: right;\n",
       "  white-space: pre-wrap;\n",
       "}\n",
       "</style>\n",
       "<small>shape: (51_708_961, 2)</small><table border=\"1\" class=\"dataframe\"><thead><tr><th>input_ids</th><th>labels</th></tr><tr><td>list[i8]</td><td>list[i8]</td></tr></thead><tbody><tr><td>[22, 7, … 60]</td><td>[22, 7, … 60]</td></tr><tr><td>[12, 6, … 27]</td><td>[12, 6, … 27]</td></tr><tr><td>[41, 56, … 44]</td><td>[41, 56, … 44]</td></tr><tr><td>[52, 62, … 12]</td><td>[52, 62, … 12]</td></tr><tr><td>[52, 62, … 14]</td><td>[52, 62, … 14]</td></tr><tr><td>&hellip;</td><td>&hellip;</td></tr><tr><td>[42, 57, … 4]</td><td>[42, 57, … 4]</td></tr><tr><td>[31, 14, … 7]</td><td>[31, 14, … 7]</td></tr><tr><td>[24, 9, … 31]</td><td>[24, 9, … 31]</td></tr><tr><td>[41, 56, … 26]</td><td>[41, 56, … 26]</td></tr><tr><td>[8, 2, … 31]</td><td>[8, 2, … 31]</td></tr></tbody></table></div>"
      ],
      "text/plain": [
       "shape: (51_708_961, 2)\n",
       "┌────────────────┬────────────────┐\n",
       "│ input_ids      ┆ labels         │\n",
       "│ ---            ┆ ---            │\n",
       "│ list[i8]       ┆ list[i8]       │\n",
       "╞════════════════╪════════════════╡\n",
       "│ [22, 7, … 60]  ┆ [22, 7, … 60]  │\n",
       "│ [12, 6, … 27]  ┆ [12, 6, … 27]  │\n",
       "│ [41, 56, … 44] ┆ [41, 56, … 44] │\n",
       "│ [52, 62, … 12] ┆ [52, 62, … 12] │\n",
       "│ [52, 62, … 14] ┆ [52, 62, … 14] │\n",
       "│ …              ┆ …              │\n",
       "│ [42, 57, … 4]  ┆ [42, 57, … 4]  │\n",
       "│ [31, 14, … 7]  ┆ [31, 14, … 7]  │\n",
       "│ [24, 9, … 31]  ┆ [24, 9, … 31]  │\n",
       "│ [41, 56, … 26] ┆ [41, 56, … 26] │\n",
       "│ [8, 2, … 31]   ┆ [8, 2, … 31]   │\n",
       "└────────────────┴────────────────┘"
      ]
     },
     "execution_count": 103,
     "metadata": {},
     "output_type": "execute_result"
    }
   ],
   "source": [
    "train50"
   ]
  },
  {
   "cell_type": "code",
   "execution_count": 99,
   "id": "feda8ce0-ebb5-4cf0-8c76-5289c5ac7f2b",
   "metadata": {},
   "outputs": [
    {
     "data": {
      "text/plain": [
       "10099"
      ]
     },
     "execution_count": 99,
     "metadata": {},
     "output_type": "execute_result"
    }
   ],
   "source": [
    "(steps := (10_341_792 // (2 * 128)) * 1) // 4"
   ]
  },
  {
   "cell_type": "code",
   "execution_count": 96,
   "id": "556c0b31-34d1-4f2c-9eb3-9a850ba611ee",
   "metadata": {},
   "outputs": [
    {
     "data": {
      "text/plain": [
       "int"
      ]
     },
     "execution_count": 96,
     "metadata": {},
     "output_type": "execute_result"
    }
   ],
   "source": [
    "type(10_341_792)"
   ]
  },
  {
   "cell_type": "code",
   "execution_count": 97,
   "id": "35212951-454b-475f-9f2c-6b21078c77db",
   "metadata": {},
   "outputs": [],
   "source": [
    "steps //= 4"
   ]
  },
  {
   "cell_type": "code",
   "execution_count": 98,
   "id": "17d84c64-d279-4513-82c0-257ddff27996",
   "metadata": {},
   "outputs": [
    {
     "data": {
      "text/plain": [
       "10099"
      ]
     },
     "execution_count": 98,
     "metadata": {},
     "output_type": "execute_result"
    }
   ],
   "source": [
    "steps"
   ]
  },
  {
   "cell_type": "code",
   "execution_count": 165,
   "id": "5ee25459-55a8-45f6-b4ba-46352b015082",
   "metadata": {},
   "outputs": [
    {
     "data": {
      "text/html": [
       "<div><style>\n",
       ".dataframe > thead > tr,\n",
       ".dataframe > tbody > tr {\n",
       "  text-align: right;\n",
       "  white-space: pre-wrap;\n",
       "}\n",
       "</style>\n",
       "<small>shape: (8_350_322, 64)</small><table border=\"1\" class=\"dataframe\"><thead><tr><th>move_0</th><th>move_1</th><th>move_2</th><th>move_3</th><th>move_4</th><th>move_5</th><th>move_6</th><th>move_7</th><th>move_8</th><th>move_9</th><th>move_10</th><th>move_11</th><th>move_12</th><th>move_13</th><th>move_14</th><th>move_15</th><th>move_16</th><th>move_17</th><th>move_18</th><th>move_19</th><th>move_20</th><th>move_21</th><th>move_22</th><th>move_23</th><th>move_24</th><th>move_25</th><th>move_26</th><th>move_27</th><th>move_28</th><th>move_29</th><th>move_30</th><th>move_31</th><th>move_32</th><th>move_33</th><th>move_34</th><th>move_35</th><th>move_36</th><th>move_37</th><th>move_38</th><th>move_39</th><th>move_40</th><th>move_41</th><th>move_42</th><th>move_43</th><th>move_44</th><th>move_45</th><th>move_46</th><th>move_47</th><th>move_48</th><th>move_49</th><th>move_50</th><th>move_51</th><th>move_52</th><th>move_53</th><th>move_54</th><th>move_55</th><th>move_56</th><th>move_57</th><th>move_58</th><th>move_59</th><th>move_60</th><th>move_61</th><th>move_62</th><th>move_63</th></tr><tr><td>i8</td><td>i8</td><td>i8</td><td>i8</td><td>i8</td><td>i8</td><td>i8</td><td>i8</td><td>i8</td><td>i8</td><td>i8</td><td>i8</td><td>i8</td><td>i8</td><td>i8</td><td>i8</td><td>i8</td><td>i8</td><td>i8</td><td>i8</td><td>i8</td><td>i8</td><td>i8</td><td>i8</td><td>i8</td><td>i8</td><td>i8</td><td>i8</td><td>i8</td><td>i8</td><td>i8</td><td>i8</td><td>i8</td><td>i8</td><td>i8</td><td>i8</td><td>i8</td><td>i8</td><td>i8</td><td>i8</td><td>i8</td><td>i8</td><td>i8</td><td>i8</td><td>i8</td><td>i8</td><td>i8</td><td>i8</td><td>i8</td><td>i8</td><td>i8</td><td>i8</td><td>i8</td><td>i8</td><td>i8</td><td>i8</td><td>i8</td><td>i8</td><td>i8</td><td>i8</td><td>i8</td><td>i8</td><td>i8</td><td>i8</td></tr></thead><tbody><tr><td>2</td><td>8</td><td>25</td><td>40</td><td>57</td><td>51</td><td>61</td><td>55</td><td>38</td><td>23</td><td>6</td><td>12</td><td>22</td><td>7</td><td>13</td><td>3</td><td>9</td><td>24</td><td>41</td><td>56</td><td>50</td><td>60</td><td>54</td><td>39</td><td>45</td><td>62</td><td>47</td><td>30</td><td>15</td><td>5</td><td>20</td><td>35</td><td>18</td><td>1</td><td>16</td><td>33</td><td>48</td><td>58</td><td>52</td><td>46</td><td>63</td><td>53</td><td>36</td><td>19</td><td>34</td><td>44</td><td>29</td><td>14</td><td>4</td><td>21</td><td>31</td><td>37</td><td>27</td><td>10</td><td>0</td><td>17</td><td>32</td><td>42</td><td>59</td><td>49</td><td>43</td><td>26</td><td>11</td><td>28</td></tr><tr><td>2</td><td>8</td><td>25</td><td>40</td><td>57</td><td>51</td><td>61</td><td>55</td><td>38</td><td>23</td><td>6</td><td>12</td><td>22</td><td>7</td><td>13</td><td>3</td><td>9</td><td>24</td><td>41</td><td>56</td><td>50</td><td>60</td><td>54</td><td>39</td><td>45</td><td>62</td><td>47</td><td>30</td><td>15</td><td>5</td><td>11</td><td>1</td><td>18</td><td>28</td><td>34</td><td>19</td><td>36</td><td>53</td><td>63</td><td>46</td><td>31</td><td>14</td><td>20</td><td>37</td><td>52</td><td>35</td><td>29</td><td>44</td><td>59</td><td>49</td><td>32</td><td>17</td><td>0</td><td>10</td><td>4</td><td>21</td><td>27</td><td>42</td><td>48</td><td>58</td><td>43</td><td>33</td><td>16</td><td>26</td></tr><tr><td>2</td><td>8</td><td>25</td><td>40</td><td>57</td><td>51</td><td>61</td><td>55</td><td>38</td><td>23</td><td>6</td><td>12</td><td>22</td><td>7</td><td>13</td><td>3</td><td>9</td><td>24</td><td>41</td><td>56</td><td>50</td><td>60</td><td>54</td><td>39</td><td>45</td><td>62</td><td>47</td><td>30</td><td>15</td><td>5</td><td>20</td><td>35</td><td>18</td><td>1</td><td>16</td><td>26</td><td>32</td><td>17</td><td>0</td><td>10</td><td>4</td><td>19</td><td>29</td><td>46</td><td>63</td><td>53</td><td>36</td><td>21</td><td>11</td><td>28</td><td>34</td><td>49</td><td>43</td><td>58</td><td>48</td><td>33</td><td>27</td><td>44</td><td>59</td><td>42</td><td>52</td><td>37</td><td>31</td><td>14</td></tr><tr><td>2</td><td>8</td><td>25</td><td>40</td><td>57</td><td>51</td><td>61</td><td>55</td><td>38</td><td>23</td><td>6</td><td>12</td><td>22</td><td>7</td><td>13</td><td>3</td><td>9</td><td>24</td><td>41</td><td>56</td><td>50</td><td>60</td><td>54</td><td>39</td><td>45</td><td>62</td><td>47</td><td>30</td><td>15</td><td>5</td><td>11</td><td>1</td><td>18</td><td>28</td><td>34</td><td>19</td><td>36</td><td>26</td><td>16</td><td>33</td><td>48</td><td>58</td><td>52</td><td>35</td><td>20</td><td>37</td><td>27</td><td>17</td><td>0</td><td>10</td><td>4</td><td>21</td><td>31</td><td>14</td><td>29</td><td>44</td><td>59</td><td>42</td><td>32</td><td>49</td><td>43</td><td>53</td><td>63</td><td>46</td></tr><tr><td>2</td><td>8</td><td>25</td><td>40</td><td>57</td><td>51</td><td>61</td><td>55</td><td>38</td><td>23</td><td>6</td><td>12</td><td>22</td><td>7</td><td>13</td><td>3</td><td>9</td><td>24</td><td>41</td><td>56</td><td>50</td><td>60</td><td>54</td><td>39</td><td>45</td><td>62</td><td>47</td><td>30</td><td>15</td><td>5</td><td>20</td><td>35</td><td>18</td><td>1</td><td>16</td><td>10</td><td>0</td><td>17</td><td>27</td><td>37</td><td>52</td><td>58</td><td>43</td><td>53</td><td>63</td><td>46</td><td>31</td><td>14</td><td>29</td><td>19</td><td>4</td><td>21</td><td>36</td><td>26</td><td>11</td><td>28</td><td>34</td><td>44</td><td>59</td><td>49</td><td>32</td><td>42</td><td>48</td><td>33</td></tr><tr><td>&hellip;</td><td>&hellip;</td><td>&hellip;</td><td>&hellip;</td><td>&hellip;</td><td>&hellip;</td><td>&hellip;</td><td>&hellip;</td><td>&hellip;</td><td>&hellip;</td><td>&hellip;</td><td>&hellip;</td><td>&hellip;</td><td>&hellip;</td><td>&hellip;</td><td>&hellip;</td><td>&hellip;</td><td>&hellip;</td><td>&hellip;</td><td>&hellip;</td><td>&hellip;</td><td>&hellip;</td><td>&hellip;</td><td>&hellip;</td><td>&hellip;</td><td>&hellip;</td><td>&hellip;</td><td>&hellip;</td><td>&hellip;</td><td>&hellip;</td><td>&hellip;</td><td>&hellip;</td><td>&hellip;</td><td>&hellip;</td><td>&hellip;</td><td>&hellip;</td><td>&hellip;</td><td>&hellip;</td><td>&hellip;</td><td>&hellip;</td><td>&hellip;</td><td>&hellip;</td><td>&hellip;</td><td>&hellip;</td><td>&hellip;</td><td>&hellip;</td><td>&hellip;</td><td>&hellip;</td><td>&hellip;</td><td>&hellip;</td><td>&hellip;</td><td>&hellip;</td><td>&hellip;</td><td>&hellip;</td><td>&hellip;</td><td>&hellip;</td><td>&hellip;</td><td>&hellip;</td><td>&hellip;</td><td>&hellip;</td><td>&hellip;</td><td>&hellip;</td><td>&hellip;</td><td>&hellip;</td></tr><tr><td>27</td><td>12</td><td>6</td><td>23</td><td>38</td><td>55</td><td>61</td><td>44</td><td>54</td><td>60</td><td>50</td><td>56</td><td>41</td><td>24</td><td>9</td><td>3</td><td>13</td><td>7</td><td>22</td><td>39</td><td>29</td><td>14</td><td>4</td><td>19</td><td>2</td><td>8</td><td>25</td><td>40</td><td>57</td><td>51</td><td>34</td><td>17</td><td>0</td><td>10</td><td>16</td><td>1</td><td>18</td><td>33</td><td>48</td><td>58</td><td>43</td><td>49</td><td>32</td><td>26</td><td>11</td><td>28</td><td>45</td><td>35</td><td>20</td><td>5</td><td>15</td><td>30</td><td>47</td><td>62</td><td>52</td><td>37</td><td>31</td><td>21</td><td>36</td><td>42</td><td>59</td><td>53</td><td>63</td><td>46</td></tr><tr><td>27</td><td>12</td><td>6</td><td>23</td><td>13</td><td>7</td><td>22</td><td>39</td><td>54</td><td>60</td><td>50</td><td>56</td><td>41</td><td>58</td><td>48</td><td>33</td><td>16</td><td>1</td><td>18</td><td>3</td><td>9</td><td>24</td><td>34</td><td>40</td><td>57</td><td>51</td><td>61</td><td>55</td><td>38</td><td>44</td><td>59</td><td>49</td><td>32</td><td>26</td><td>43</td><td>37</td><td>31</td><td>46</td><td>63</td><td>53</td><td>47</td><td>30</td><td>15</td><td>5</td><td>20</td><td>14</td><td>29</td><td>19</td><td>2</td><td>8</td><td>25</td><td>35</td><td>45</td><td>28</td><td>11</td><td>17</td><td>0</td><td>10</td><td>4</td><td>21</td><td>36</td><td>42</td><td>52</td><td>62</td></tr><tr><td>27</td><td>12</td><td>6</td><td>23</td><td>13</td><td>7</td><td>22</td><td>39</td><td>54</td><td>60</td><td>50</td><td>56</td><td>41</td><td>58</td><td>48</td><td>33</td><td>16</td><td>1</td><td>18</td><td>3</td><td>9</td><td>24</td><td>34</td><td>40</td><td>57</td><td>51</td><td>61</td><td>55</td><td>38</td><td>44</td><td>59</td><td>49</td><td>32</td><td>42</td><td>52</td><td>35</td><td>29</td><td>14</td><td>31</td><td>46</td><td>63</td><td>53</td><td>47</td><td>62</td><td>45</td><td>28</td><td>43</td><td>37</td><td>20</td><td>30</td><td>15</td><td>5</td><td>11</td><td>26</td><td>36</td><td>21</td><td>4</td><td>10</td><td>0</td><td>17</td><td>2</td><td>19</td><td>25</td><td>8</td></tr><tr><td>27</td><td>12</td><td>6</td><td>23</td><td>13</td><td>7</td><td>22</td><td>39</td><td>54</td><td>60</td><td>50</td><td>56</td><td>41</td><td>58</td><td>48</td><td>33</td><td>16</td><td>1</td><td>18</td><td>3</td><td>9</td><td>24</td><td>34</td><td>40</td><td>57</td><td>51</td><td>61</td><td>55</td><td>38</td><td>44</td><td>59</td><td>49</td><td>32</td><td>42</td><td>52</td><td>62</td><td>45</td><td>28</td><td>43</td><td>26</td><td>36</td><td>53</td><td>63</td><td>46</td><td>29</td><td>19</td><td>2</td><td>8</td><td>25</td><td>35</td><td>20</td><td>10</td><td>0</td><td>17</td><td>11</td><td>5</td><td>15</td><td>30</td><td>47</td><td>37</td><td>31</td><td>21</td><td>4</td><td>14</td></tr><tr><td>27</td><td>12</td><td>6</td><td>23</td><td>38</td><td>55</td><td>61</td><td>44</td><td>54</td><td>39</td><td>29</td><td>14</td><td>31</td><td>46</td><td>63</td><td>53</td><td>59</td><td>49</td><td>32</td><td>17</td><td>0</td><td>10</td><td>4</td><td>21</td><td>15</td><td>5</td><td>11</td><td>1</td><td>16</td><td>33</td><td>48</td><td>58</td><td>43</td><td>60</td><td>50</td><td>56</td><td>41</td><td>24</td><td>9</td><td>26</td><td>20</td><td>3</td><td>18</td><td>8</td><td>2</td><td>19</td><td>36</td><td>30</td><td>13</td><td>7</td><td>22</td><td>28</td><td>34</td><td>40</td><td>57</td><td>51</td><td>45</td><td>35</td><td>25</td><td>42</td><td>52</td><td>62</td><td>47</td><td>37</td></tr></tbody></table></div>"
      ],
      "text/plain": [
       "shape: (8_350_322, 64)\n",
       "┌────────┬────────┬────────┬────────┬───┬─────────┬─────────┬─────────┬─────────┐\n",
       "│ move_0 ┆ move_1 ┆ move_2 ┆ move_3 ┆ … ┆ move_60 ┆ move_61 ┆ move_62 ┆ move_63 │\n",
       "│ ---    ┆ ---    ┆ ---    ┆ ---    ┆   ┆ ---     ┆ ---     ┆ ---     ┆ ---     │\n",
       "│ i8     ┆ i8     ┆ i8     ┆ i8     ┆   ┆ i8      ┆ i8      ┆ i8      ┆ i8      │\n",
       "╞════════╪════════╪════════╪════════╪═══╪═════════╪═════════╪═════════╪═════════╡\n",
       "│ 2      ┆ 8      ┆ 25     ┆ 40     ┆ … ┆ 43      ┆ 26      ┆ 11      ┆ 28      │\n",
       "│ 2      ┆ 8      ┆ 25     ┆ 40     ┆ … ┆ 43      ┆ 33      ┆ 16      ┆ 26      │\n",
       "│ 2      ┆ 8      ┆ 25     ┆ 40     ┆ … ┆ 52      ┆ 37      ┆ 31      ┆ 14      │\n",
       "│ 2      ┆ 8      ┆ 25     ┆ 40     ┆ … ┆ 43      ┆ 53      ┆ 63      ┆ 46      │\n",
       "│ 2      ┆ 8      ┆ 25     ┆ 40     ┆ … ┆ 32      ┆ 42      ┆ 48      ┆ 33      │\n",
       "│ …      ┆ …      ┆ …      ┆ …      ┆ … ┆ …       ┆ …       ┆ …       ┆ …       │\n",
       "│ 27     ┆ 12     ┆ 6      ┆ 23     ┆ … ┆ 59      ┆ 53      ┆ 63      ┆ 46      │\n",
       "│ 27     ┆ 12     ┆ 6      ┆ 23     ┆ … ┆ 36      ┆ 42      ┆ 52      ┆ 62      │\n",
       "│ 27     ┆ 12     ┆ 6      ┆ 23     ┆ … ┆ 2       ┆ 19      ┆ 25      ┆ 8       │\n",
       "│ 27     ┆ 12     ┆ 6      ┆ 23     ┆ … ┆ 31      ┆ 21      ┆ 4       ┆ 14      │\n",
       "│ 27     ┆ 12     ┆ 6      ┆ 23     ┆ … ┆ 52      ┆ 62      ┆ 47      ┆ 37      │\n",
       "└────────┴────────┴────────┴────────┴───┴─────────┴─────────┴─────────┴─────────┘"
      ]
     },
     "execution_count": 165,
     "metadata": {},
     "output_type": "execute_result"
    }
   ],
   "source": [
    "unique_tours_df.filter(\n",
    "    ~(\n",
    "        pl.col(\"move_0\").is_in([0, 10, 16]) | \n",
    "        pl.col(\"move_1\").is_in([0, 10, 16]) |\n",
    "        pl.col(\"move_2\").is_in([0, 10, 16]) |\n",
    "        pl.col(\"move_3\").is_in([0, 10, 16])\n",
    "    )\n",
    ")"
   ]
  },
  {
   "cell_type": "code",
   "execution_count": 157,
   "id": "f725a8dc-28c9-46c1-998f-c9b3acf2922e",
   "metadata": {},
   "outputs": [
    {
     "name": "stdout",
     "output_type": "stream",
     "text": [
      "shape: (10, 2)\n",
      "┌────────┬─────────┐\n",
      "│ move_0 ┆ count   │\n",
      "│ ---    ┆ ---     │\n",
      "│ i8     ┆ u32     │\n",
      "╞════════╪═════════╡\n",
      "│ 9      ┆ 1036807 │\n",
      "│ 11     ┆ 2157764 │\n",
      "│ 19     ┆ 2100434 │\n",
      "│ 27     ┆ 1263386 │\n",
      "│ 10     ┆ 2086483 │\n",
      "│ 3      ┆ 2054016 │\n",
      "│ 0      ┆ 1069015 │\n",
      "│ 1      ┆ 2208646 │\n",
      "│ 2      ┆ 2013427 │\n",
      "│ 18     ┆ 1032683 │\n",
      "└────────┴─────────┘\n"
     ]
    }
   ],
   "source": [
    "# Example: Assume `df` is your Polars DataFrame\n",
    "m = 50  # Number of columns to consider\n",
    "\n",
    "# Step 1: Select the first `m` columns\n",
    "selected_columns = unique_tours_df[:, :m]  # Select first `m` columns\n",
    "\n",
    "# Step 2: Stack all columns into a single Series\n",
    "flattened_values = selected_columns.to_series().explode()\n",
    "\n",
    "# Step 3: Count occurrences of each unique value\n",
    "value_counts = flattened_values.value_counts()\n",
    "\n",
    "# Step 4: Sort by count (already sorted by default in `value_counts()`)\n",
    "print(value_counts)"
   ]
  },
  {
   "cell_type": "code",
   "execution_count": 166,
   "id": "4efae489-012c-4684-a4a7-cfdba74b1997",
   "metadata": {},
   "outputs": [
    {
     "data": {
      "text/html": [
       "<div><style>\n",
       ".dataframe > thead > tr,\n",
       ".dataframe > tbody > tr {\n",
       "  text-align: right;\n",
       "  white-space: pre-wrap;\n",
       "}\n",
       "</style>\n",
       "<small>shape: (1_069_015, 64)</small><table border=\"1\" class=\"dataframe\"><thead><tr><th>move_0</th><th>move_1</th><th>move_2</th><th>move_3</th><th>move_4</th><th>move_5</th><th>move_6</th><th>move_7</th><th>move_8</th><th>move_9</th><th>move_10</th><th>move_11</th><th>move_12</th><th>move_13</th><th>move_14</th><th>move_15</th><th>move_16</th><th>move_17</th><th>move_18</th><th>move_19</th><th>move_20</th><th>move_21</th><th>move_22</th><th>move_23</th><th>move_24</th><th>move_25</th><th>move_26</th><th>move_27</th><th>move_28</th><th>move_29</th><th>move_30</th><th>move_31</th><th>move_32</th><th>move_33</th><th>move_34</th><th>move_35</th><th>move_36</th><th>move_37</th><th>move_38</th><th>move_39</th><th>move_40</th><th>move_41</th><th>move_42</th><th>move_43</th><th>move_44</th><th>move_45</th><th>move_46</th><th>move_47</th><th>move_48</th><th>move_49</th><th>move_50</th><th>move_51</th><th>move_52</th><th>move_53</th><th>move_54</th><th>move_55</th><th>move_56</th><th>move_57</th><th>move_58</th><th>move_59</th><th>move_60</th><th>move_61</th><th>move_62</th><th>move_63</th></tr><tr><td>i8</td><td>i8</td><td>i8</td><td>i8</td><td>i8</td><td>i8</td><td>i8</td><td>i8</td><td>i8</td><td>i8</td><td>i8</td><td>i8</td><td>i8</td><td>i8</td><td>i8</td><td>i8</td><td>i8</td><td>i8</td><td>i8</td><td>i8</td><td>i8</td><td>i8</td><td>i8</td><td>i8</td><td>i8</td><td>i8</td><td>i8</td><td>i8</td><td>i8</td><td>i8</td><td>i8</td><td>i8</td><td>i8</td><td>i8</td><td>i8</td><td>i8</td><td>i8</td><td>i8</td><td>i8</td><td>i8</td><td>i8</td><td>i8</td><td>i8</td><td>i8</td><td>i8</td><td>i8</td><td>i8</td><td>i8</td><td>i8</td><td>i8</td><td>i8</td><td>i8</td><td>i8</td><td>i8</td><td>i8</td><td>i8</td><td>i8</td><td>i8</td><td>i8</td><td>i8</td><td>i8</td><td>i8</td><td>i8</td><td>i8</td></tr></thead><tbody><tr><td>0</td><td>10</td><td>16</td><td>1</td><td>11</td><td>5</td><td>15</td><td>30</td><td>47</td><td>62</td><td>52</td><td>58</td><td>48</td><td>33</td><td>50</td><td>56</td><td>41</td><td>24</td><td>9</td><td>3</td><td>13</td><td>7</td><td>22</td><td>39</td><td>54</td><td>60</td><td>45</td><td>55</td><td>61</td><td>51</td><td>57</td><td>40</td><td>25</td><td>8</td><td>18</td><td>35</td><td>20</td><td>14</td><td>4</td><td>19</td><td>2</td><td>17</td><td>27</td><td>42</td><td>36</td><td>21</td><td>6</td><td>12</td><td>29</td><td>23</td><td>38</td><td>28</td><td>34</td><td>49</td><td>32</td><td>26</td><td>43</td><td>37</td><td>31</td><td>46</td><td>63</td><td>53</td><td>59</td><td>44</td></tr><tr><td>0</td><td>10</td><td>16</td><td>1</td><td>11</td><td>5</td><td>15</td><td>30</td><td>47</td><td>62</td><td>52</td><td>58</td><td>48</td><td>33</td><td>50</td><td>56</td><td>41</td><td>24</td><td>9</td><td>3</td><td>13</td><td>7</td><td>22</td><td>39</td><td>54</td><td>60</td><td>45</td><td>55</td><td>61</td><td>51</td><td>57</td><td>40</td><td>25</td><td>8</td><td>18</td><td>35</td><td>20</td><td>37</td><td>43</td><td>28</td><td>38</td><td>23</td><td>6</td><td>21</td><td>4</td><td>19</td><td>36</td><td>26</td><td>32</td><td>42</td><td>27</td><td>12</td><td>2</td><td>17</td><td>34</td><td>49</td><td>59</td><td>53</td><td>63</td><td>46</td><td>31</td><td>14</td><td>29</td><td>44</td></tr><tr><td>0</td><td>10</td><td>16</td><td>1</td><td>11</td><td>5</td><td>15</td><td>30</td><td>47</td><td>62</td><td>52</td><td>58</td><td>48</td><td>33</td><td>50</td><td>56</td><td>41</td><td>24</td><td>9</td><td>3</td><td>13</td><td>7</td><td>22</td><td>39</td><td>54</td><td>60</td><td>45</td><td>55</td><td>61</td><td>51</td><td>57</td><td>40</td><td>25</td><td>8</td><td>18</td><td>35</td><td>20</td><td>37</td><td>27</td><td>42</td><td>59</td><td>44</td><td>34</td><td>49</td><td>32</td><td>17</td><td>2</td><td>12</td><td>6</td><td>23</td><td>38</td><td>28</td><td>43</td><td>26</td><td>36</td><td>53</td><td>63</td><td>46</td><td>31</td><td>21</td><td>4</td><td>19</td><td>29</td><td>14</td></tr><tr><td>0</td><td>10</td><td>16</td><td>1</td><td>11</td><td>5</td><td>15</td><td>30</td><td>47</td><td>62</td><td>52</td><td>58</td><td>48</td><td>33</td><td>50</td><td>56</td><td>41</td><td>24</td><td>9</td><td>3</td><td>13</td><td>7</td><td>22</td><td>39</td><td>54</td><td>60</td><td>45</td><td>55</td><td>61</td><td>51</td><td>57</td><td>40</td><td>25</td><td>8</td><td>18</td><td>35</td><td>29</td><td>46</td><td>63</td><td>53</td><td>59</td><td>49</td><td>43</td><td>28</td><td>38</td><td>23</td><td>6</td><td>12</td><td>2</td><td>19</td><td>34</td><td>44</td><td>27</td><td>17</td><td>32</td><td>26</td><td>20</td><td>37</td><td>31</td><td>14</td><td>4</td><td>21</td><td>36</td><td>42</td></tr><tr><td>0</td><td>10</td><td>16</td><td>1</td><td>11</td><td>5</td><td>15</td><td>30</td><td>47</td><td>62</td><td>52</td><td>58</td><td>48</td><td>33</td><td>50</td><td>56</td><td>41</td><td>24</td><td>9</td><td>3</td><td>13</td><td>7</td><td>22</td><td>39</td><td>54</td><td>60</td><td>45</td><td>55</td><td>61</td><td>51</td><td>57</td><td>40</td><td>25</td><td>8</td><td>18</td><td>35</td><td>29</td><td>23</td><td>6</td><td>12</td><td>27</td><td>37</td><td>20</td><td>14</td><td>31</td><td>46</td><td>63</td><td>53</td><td>59</td><td>44</td><td>38</td><td>28</td><td>34</td><td>49</td><td>43</td><td>26</td><td>32</td><td>17</td><td>2</td><td>19</td><td>4</td><td>21</td><td>36</td><td>42</td></tr><tr><td>&hellip;</td><td>&hellip;</td><td>&hellip;</td><td>&hellip;</td><td>&hellip;</td><td>&hellip;</td><td>&hellip;</td><td>&hellip;</td><td>&hellip;</td><td>&hellip;</td><td>&hellip;</td><td>&hellip;</td><td>&hellip;</td><td>&hellip;</td><td>&hellip;</td><td>&hellip;</td><td>&hellip;</td><td>&hellip;</td><td>&hellip;</td><td>&hellip;</td><td>&hellip;</td><td>&hellip;</td><td>&hellip;</td><td>&hellip;</td><td>&hellip;</td><td>&hellip;</td><td>&hellip;</td><td>&hellip;</td><td>&hellip;</td><td>&hellip;</td><td>&hellip;</td><td>&hellip;</td><td>&hellip;</td><td>&hellip;</td><td>&hellip;</td><td>&hellip;</td><td>&hellip;</td><td>&hellip;</td><td>&hellip;</td><td>&hellip;</td><td>&hellip;</td><td>&hellip;</td><td>&hellip;</td><td>&hellip;</td><td>&hellip;</td><td>&hellip;</td><td>&hellip;</td><td>&hellip;</td><td>&hellip;</td><td>&hellip;</td><td>&hellip;</td><td>&hellip;</td><td>&hellip;</td><td>&hellip;</td><td>&hellip;</td><td>&hellip;</td><td>&hellip;</td><td>&hellip;</td><td>&hellip;</td><td>&hellip;</td><td>&hellip;</td><td>&hellip;</td><td>&hellip;</td><td>&hellip;</td></tr><tr><td>0</td><td>10</td><td>16</td><td>1</td><td>11</td><td>5</td><td>15</td><td>30</td><td>47</td><td>62</td><td>52</td><td>58</td><td>48</td><td>33</td><td>50</td><td>56</td><td>41</td><td>24</td><td>9</td><td>3</td><td>13</td><td>7</td><td>22</td><td>39</td><td>54</td><td>60</td><td>45</td><td>55</td><td>61</td><td>51</td><td>57</td><td>40</td><td>25</td><td>8</td><td>18</td><td>35</td><td>20</td><td>37</td><td>31</td><td>14</td><td>4</td><td>21</td><td>36</td><td>53</td><td>63</td><td>46</td><td>29</td><td>12</td><td>6</td><td>23</td><td>38</td><td>28</td><td>43</td><td>26</td><td>32</td><td>42</td><td>59</td><td>44</td><td>27</td><td>17</td><td>2</td><td>19</td><td>34</td><td>49</td></tr><tr><td>0</td><td>10</td><td>16</td><td>1</td><td>11</td><td>5</td><td>15</td><td>30</td><td>47</td><td>62</td><td>52</td><td>58</td><td>48</td><td>33</td><td>50</td><td>56</td><td>41</td><td>24</td><td>9</td><td>3</td><td>13</td><td>7</td><td>22</td><td>39</td><td>54</td><td>60</td><td>45</td><td>55</td><td>61</td><td>51</td><td>57</td><td>40</td><td>25</td><td>8</td><td>18</td><td>35</td><td>20</td><td>26</td><td>36</td><td>21</td><td>6</td><td>23</td><td>38</td><td>28</td><td>43</td><td>49</td><td>34</td><td>17</td><td>32</td><td>42</td><td>27</td><td>37</td><td>31</td><td>14</td><td>4</td><td>19</td><td>2</td><td>12</td><td>29</td><td>46</td><td>63</td><td>53</td><td>59</td><td>44</td></tr><tr><td>0</td><td>10</td><td>16</td><td>1</td><td>11</td><td>5</td><td>15</td><td>30</td><td>47</td><td>62</td><td>52</td><td>58</td><td>48</td><td>33</td><td>50</td><td>56</td><td>41</td><td>24</td><td>9</td><td>3</td><td>13</td><td>7</td><td>22</td><td>39</td><td>54</td><td>60</td><td>45</td><td>55</td><td>61</td><td>51</td><td>57</td><td>40</td><td>25</td><td>8</td><td>18</td><td>35</td><td>20</td><td>37</td><td>27</td><td>21</td><td>4</td><td>19</td><td>36</td><td>42</td><td>59</td><td>49</td><td>32</td><td>26</td><td>43</td><td>53</td><td>63</td><td>46</td><td>31</td><td>14</td><td>29</td><td>44</td><td>34</td><td>28</td><td>38</td><td>23</td><td>6</td><td>12</td><td>2</td><td>17</td></tr><tr><td>0</td><td>10</td><td>16</td><td>1</td><td>11</td><td>5</td><td>15</td><td>30</td><td>47</td><td>62</td><td>52</td><td>58</td><td>48</td><td>33</td><td>50</td><td>56</td><td>41</td><td>24</td><td>9</td><td>3</td><td>13</td><td>7</td><td>22</td><td>39</td><td>54</td><td>60</td><td>45</td><td>55</td><td>61</td><td>51</td><td>57</td><td>40</td><td>25</td><td>8</td><td>18</td><td>35</td><td>20</td><td>26</td><td>36</td><td>19</td><td>4</td><td>14</td><td>29</td><td>46</td><td>63</td><td>53</td><td>59</td><td>44</td><td>34</td><td>28</td><td>38</td><td>23</td><td>6</td><td>21</td><td>31</td><td>37</td><td>43</td><td>49</td><td>32</td><td>42</td><td>27</td><td>12</td><td>2</td><td>17</td></tr><tr><td>0</td><td>10</td><td>16</td><td>1</td><td>11</td><td>5</td><td>15</td><td>30</td><td>47</td><td>62</td><td>52</td><td>58</td><td>48</td><td>33</td><td>50</td><td>56</td><td>41</td><td>24</td><td>9</td><td>3</td><td>13</td><td>7</td><td>22</td><td>39</td><td>54</td><td>60</td><td>45</td><td>55</td><td>61</td><td>51</td><td>57</td><td>40</td><td>25</td><td>8</td><td>18</td><td>35</td><td>20</td><td>26</td><td>32</td><td>49</td><td>59</td><td>42</td><td>36</td><td>53</td><td>63</td><td>46</td><td>29</td><td>14</td><td>4</td><td>19</td><td>2</td><td>12</td><td>6</td><td>21</td><td>31</td><td>37</td><td>43</td><td>28</td><td>34</td><td>17</td><td>27</td><td>44</td><td>38</td><td>23</td></tr></tbody></table></div>"
      ],
      "text/plain": [
       "shape: (1_069_015, 64)\n",
       "┌────────┬────────┬────────┬────────┬───┬─────────┬─────────┬─────────┬─────────┐\n",
       "│ move_0 ┆ move_1 ┆ move_2 ┆ move_3 ┆ … ┆ move_60 ┆ move_61 ┆ move_62 ┆ move_63 │\n",
       "│ ---    ┆ ---    ┆ ---    ┆ ---    ┆   ┆ ---     ┆ ---     ┆ ---     ┆ ---     │\n",
       "│ i8     ┆ i8     ┆ i8     ┆ i8     ┆   ┆ i8      ┆ i8      ┆ i8      ┆ i8      │\n",
       "╞════════╪════════╪════════╪════════╪═══╪═════════╪═════════╪═════════╪═════════╡\n",
       "│ 0      ┆ 10     ┆ 16     ┆ 1      ┆ … ┆ 63      ┆ 53      ┆ 59      ┆ 44      │\n",
       "│ 0      ┆ 10     ┆ 16     ┆ 1      ┆ … ┆ 31      ┆ 14      ┆ 29      ┆ 44      │\n",
       "│ 0      ┆ 10     ┆ 16     ┆ 1      ┆ … ┆ 4       ┆ 19      ┆ 29      ┆ 14      │\n",
       "│ 0      ┆ 10     ┆ 16     ┆ 1      ┆ … ┆ 4       ┆ 21      ┆ 36      ┆ 42      │\n",
       "│ 0      ┆ 10     ┆ 16     ┆ 1      ┆ … ┆ 4       ┆ 21      ┆ 36      ┆ 42      │\n",
       "│ …      ┆ …      ┆ …      ┆ …      ┆ … ┆ …       ┆ …       ┆ …       ┆ …       │\n",
       "│ 0      ┆ 10     ┆ 16     ┆ 1      ┆ … ┆ 2       ┆ 19      ┆ 34      ┆ 49      │\n",
       "│ 0      ┆ 10     ┆ 16     ┆ 1      ┆ … ┆ 63      ┆ 53      ┆ 59      ┆ 44      │\n",
       "│ 0      ┆ 10     ┆ 16     ┆ 1      ┆ … ┆ 6       ┆ 12      ┆ 2       ┆ 17      │\n",
       "│ 0      ┆ 10     ┆ 16     ┆ 1      ┆ … ┆ 27      ┆ 12      ┆ 2       ┆ 17      │\n",
       "│ 0      ┆ 10     ┆ 16     ┆ 1      ┆ … ┆ 27      ┆ 44      ┆ 38      ┆ 23      │\n",
       "└────────┴────────┴────────┴────────┴───┴─────────┴─────────┴─────────┴─────────┘"
      ]
     },
     "execution_count": 166,
     "metadata": {},
     "output_type": "execute_result"
    }
   ],
   "source": [
    "unique_tours_df.filter((pl.col(\"move_0\") == 0))"
   ]
  },
  {
   "cell_type": "code",
   "execution_count": 112,
   "id": "70e05350-056c-4d31-8ea4-2eb595a413fb",
   "metadata": {},
   "outputs": [
    {
     "name": "stderr",
     "output_type": "stream",
     "text": [
      "100%|█████████████████████████████████████████████████████████| 5230000/5230000 [03:34<00:00, 24383.75it/s]\n"
     ]
    }
   ],
   "source": [
    "unique_tours_warnsdorff = find_unique_tours(\n",
    "    pl.read_parquet(\"../data/tours_8x8_100000000_20241127_mac.parquet\").rows()\n",
    ")"
   ]
  },
  {
   "cell_type": "code",
   "execution_count": 113,
   "id": "57790ec6-4f13-48ca-ba8b-4f7ffe774907",
   "metadata": {},
   "outputs": [],
   "source": [
    "unique_tours_warnsdorff_tuple = tuple(unique_tours_warnsdorff)"
   ]
  },
  {
   "cell_type": "code",
   "execution_count": 115,
   "id": "ae9f1df1-32cd-4ed8-83e9-7033dbb071dc",
   "metadata": {},
   "outputs": [],
   "source": [
    "unique_tours_warnsdorff_dict = {\n",
    "    f\"move_{i}\": [\n",
    "        unique_tours_warnsdorff_tuple[j][i] for j in range(len(unique_tours_warnsdorff_tuple))\n",
    "    ] for i in range(len(unique_tours_warnsdorff_tuple[0]))\n",
    "}"
   ]
  },
  {
   "cell_type": "code",
   "execution_count": 116,
   "id": "538514e8-4e90-4ec0-aa07-47af33af97e7",
   "metadata": {},
   "outputs": [],
   "source": [
    "unique_tours_warnsdorff_df = pl.DataFrame(\n",
    "    unique_tours_warnsdorff_dict,\n",
    "    schema={f\"move_{i}\": pl.Int8 for i in range(64)},\n",
    ").sort(by=\"move_0\")"
   ]
  },
  {
   "cell_type": "code",
   "execution_count": 117,
   "id": "0f1cb8a7-8db4-4727-b6af-6d4d253ccc5a",
   "metadata": {},
   "outputs": [
    {
     "data": {
      "text/html": [
       "<div><style>\n",
       ".dataframe > thead > tr,\n",
       ".dataframe > tbody > tr {\n",
       "  text-align: right;\n",
       "  white-space: pre-wrap;\n",
       "}\n",
       "</style>\n",
       "<small>shape: (950_679, 64)</small><table border=\"1\" class=\"dataframe\"><thead><tr><th>move_0</th><th>move_1</th><th>move_2</th><th>move_3</th><th>move_4</th><th>move_5</th><th>move_6</th><th>move_7</th><th>move_8</th><th>move_9</th><th>move_10</th><th>move_11</th><th>move_12</th><th>move_13</th><th>move_14</th><th>move_15</th><th>move_16</th><th>move_17</th><th>move_18</th><th>move_19</th><th>move_20</th><th>move_21</th><th>move_22</th><th>move_23</th><th>move_24</th><th>move_25</th><th>move_26</th><th>move_27</th><th>move_28</th><th>move_29</th><th>move_30</th><th>move_31</th><th>move_32</th><th>move_33</th><th>move_34</th><th>move_35</th><th>move_36</th><th>move_37</th><th>move_38</th><th>move_39</th><th>move_40</th><th>move_41</th><th>move_42</th><th>move_43</th><th>move_44</th><th>move_45</th><th>move_46</th><th>move_47</th><th>move_48</th><th>move_49</th><th>move_50</th><th>move_51</th><th>move_52</th><th>move_53</th><th>move_54</th><th>move_55</th><th>move_56</th><th>move_57</th><th>move_58</th><th>move_59</th><th>move_60</th><th>move_61</th><th>move_62</th><th>move_63</th></tr><tr><td>i8</td><td>i8</td><td>i8</td><td>i8</td><td>i8</td><td>i8</td><td>i8</td><td>i8</td><td>i8</td><td>i8</td><td>i8</td><td>i8</td><td>i8</td><td>i8</td><td>i8</td><td>i8</td><td>i8</td><td>i8</td><td>i8</td><td>i8</td><td>i8</td><td>i8</td><td>i8</td><td>i8</td><td>i8</td><td>i8</td><td>i8</td><td>i8</td><td>i8</td><td>i8</td><td>i8</td><td>i8</td><td>i8</td><td>i8</td><td>i8</td><td>i8</td><td>i8</td><td>i8</td><td>i8</td><td>i8</td><td>i8</td><td>i8</td><td>i8</td><td>i8</td><td>i8</td><td>i8</td><td>i8</td><td>i8</td><td>i8</td><td>i8</td><td>i8</td><td>i8</td><td>i8</td><td>i8</td><td>i8</td><td>i8</td><td>i8</td><td>i8</td><td>i8</td><td>i8</td><td>i8</td><td>i8</td><td>i8</td><td>i8</td></tr></thead><tbody><tr><td>0</td><td>10</td><td>16</td><td>1</td><td>11</td><td>5</td><td>15</td><td>30</td><td>47</td><td>62</td><td>52</td><td>58</td><td>48</td><td>33</td><td>50</td><td>56</td><td>41</td><td>24</td><td>9</td><td>3</td><td>18</td><td>8</td><td>2</td><td>17</td><td>32</td><td>49</td><td>59</td><td>53</td><td>63</td><td>46</td><td>61</td><td>55</td><td>38</td><td>23</td><td>6</td><td>12</td><td>27</td><td>44</td><td>54</td><td>60</td><td>43</td><td>26</td><td>20</td><td>37</td><td>31</td><td>14</td><td>4</td><td>21</td><td>36</td><td>42</td><td>57</td><td>51</td><td>45</td><td>35</td><td>25</td><td>40</td><td>34</td><td>28</td><td>22</td><td>39</td><td>29</td><td>19</td><td>13</td><td>7</td></tr><tr><td>0</td><td>10</td><td>4</td><td>14</td><td>31</td><td>46</td><td>63</td><td>53</td><td>47</td><td>62</td><td>52</td><td>58</td><td>48</td><td>33</td><td>16</td><td>1</td><td>11</td><td>5</td><td>15</td><td>30</td><td>20</td><td>3</td><td>9</td><td>24</td><td>41</td><td>56</td><td>50</td><td>40</td><td>57</td><td>51</td><td>61</td><td>55</td><td>38</td><td>21</td><td>6</td><td>23</td><td>13</td><td>7</td><td>22</td><td>39</td><td>54</td><td>60</td><td>45</td><td>35</td><td>18</td><td>8</td><td>25</td><td>19</td><td>29</td><td>12</td><td>2</td><td>17</td><td>32</td><td>26</td><td>36</td><td>42</td><td>27</td><td>37</td><td>43</td><td>28</td><td>34</td><td>49</td><td>59</td><td>44</td></tr><tr><td>0</td><td>10</td><td>4</td><td>14</td><td>31</td><td>46</td><td>63</td><td>53</td><td>47</td><td>62</td><td>52</td><td>58</td><td>48</td><td>33</td><td>16</td><td>1</td><td>11</td><td>5</td><td>15</td><td>30</td><td>20</td><td>3</td><td>9</td><td>24</td><td>18</td><td>8</td><td>2</td><td>17</td><td>32</td><td>49</td><td>59</td><td>42</td><td>57</td><td>40</td><td>25</td><td>35</td><td>50</td><td>56</td><td>41</td><td>26</td><td>36</td><td>19</td><td>13</td><td>7</td><td>22</td><td>12</td><td>6</td><td>23</td><td>29</td><td>39</td><td>54</td><td>37</td><td>27</td><td>21</td><td>38</td><td>55</td><td>61</td><td>44</td><td>34</td><td>51</td><td>45</td><td>28</td><td>43</td><td>60</td></tr><tr><td>0</td><td>10</td><td>4</td><td>14</td><td>31</td><td>46</td><td>63</td><td>53</td><td>47</td><td>62</td><td>52</td><td>58</td><td>48</td><td>33</td><td>16</td><td>1</td><td>11</td><td>5</td><td>15</td><td>21</td><td>6</td><td>23</td><td>38</td><td>55</td><td>61</td><td>51</td><td>57</td><td>40</td><td>25</td><td>8</td><td>2</td><td>17</td><td>32</td><td>49</td><td>59</td><td>42</td><td>36</td><td>30</td><td>20</td><td>26</td><td>43</td><td>37</td><td>27</td><td>12</td><td>22</td><td>7</td><td>13</td><td>3</td><td>9</td><td>19</td><td>34</td><td>24</td><td>41</td><td>56</td><td>50</td><td>44</td><td>54</td><td>60</td><td>45</td><td>28</td><td>18</td><td>35</td><td>29</td><td>39</td></tr><tr><td>0</td><td>10</td><td>4</td><td>14</td><td>31</td><td>46</td><td>63</td><td>53</td><td>59</td><td>49</td><td>32</td><td>17</td><td>2</td><td>8</td><td>25</td><td>40</td><td>57</td><td>42</td><td>48</td><td>58</td><td>52</td><td>62</td><td>47</td><td>30</td><td>15</td><td>5</td><td>20</td><td>3</td><td>9</td><td>24</td><td>41</td><td>56</td><td>50</td><td>60</td><td>54</td><td>39</td><td>45</td><td>35</td><td>29</td><td>19</td><td>36</td><td>51</td><td>61</td><td>55</td><td>38</td><td>23</td><td>6</td><td>21</td><td>11</td><td>26</td><td>16</td><td>1</td><td>18</td><td>33</td><td>43</td><td>37</td><td>27</td><td>44</td><td>34</td><td>28</td><td>13</td><td>7</td><td>22</td><td>12</td></tr><tr><td>&hellip;</td><td>&hellip;</td><td>&hellip;</td><td>&hellip;</td><td>&hellip;</td><td>&hellip;</td><td>&hellip;</td><td>&hellip;</td><td>&hellip;</td><td>&hellip;</td><td>&hellip;</td><td>&hellip;</td><td>&hellip;</td><td>&hellip;</td><td>&hellip;</td><td>&hellip;</td><td>&hellip;</td><td>&hellip;</td><td>&hellip;</td><td>&hellip;</td><td>&hellip;</td><td>&hellip;</td><td>&hellip;</td><td>&hellip;</td><td>&hellip;</td><td>&hellip;</td><td>&hellip;</td><td>&hellip;</td><td>&hellip;</td><td>&hellip;</td><td>&hellip;</td><td>&hellip;</td><td>&hellip;</td><td>&hellip;</td><td>&hellip;</td><td>&hellip;</td><td>&hellip;</td><td>&hellip;</td><td>&hellip;</td><td>&hellip;</td><td>&hellip;</td><td>&hellip;</td><td>&hellip;</td><td>&hellip;</td><td>&hellip;</td><td>&hellip;</td><td>&hellip;</td><td>&hellip;</td><td>&hellip;</td><td>&hellip;</td><td>&hellip;</td><td>&hellip;</td><td>&hellip;</td><td>&hellip;</td><td>&hellip;</td><td>&hellip;</td><td>&hellip;</td><td>&hellip;</td><td>&hellip;</td><td>&hellip;</td><td>&hellip;</td><td>&hellip;</td><td>&hellip;</td><td>&hellip;</td></tr><tr><td>27</td><td>12</td><td>6</td><td>23</td><td>38</td><td>55</td><td>61</td><td>44</td><td>54</td><td>39</td><td>29</td><td>14</td><td>31</td><td>46</td><td>63</td><td>53</td><td>59</td><td>49</td><td>32</td><td>17</td><td>0</td><td>10</td><td>4</td><td>21</td><td>15</td><td>5</td><td>11</td><td>1</td><td>16</td><td>33</td><td>48</td><td>58</td><td>43</td><td>60</td><td>50</td><td>56</td><td>41</td><td>24</td><td>9</td><td>26</td><td>20</td><td>3</td><td>18</td><td>8</td><td>2</td><td>19</td><td>36</td><td>30</td><td>13</td><td>7</td><td>22</td><td>28</td><td>34</td><td>40</td><td>57</td><td>51</td><td>45</td><td>35</td><td>25</td><td>42</td><td>52</td><td>62</td><td>47</td><td>37</td></tr><tr><td>27</td><td>10</td><td>0</td><td>17</td><td>32</td><td>49</td><td>59</td><td>53</td><td>63</td><td>46</td><td>61</td><td>55</td><td>38</td><td>23</td><td>6</td><td>12</td><td>2</td><td>8</td><td>25</td><td>40</td><td>57</td><td>42</td><td>48</td><td>58</td><td>52</td><td>62</td><td>47</td><td>30</td><td>15</td><td>5</td><td>11</td><td>1</td><td>16</td><td>33</td><td>18</td><td>24</td><td>9</td><td>3</td><td>13</td><td>7</td><td>22</td><td>28</td><td>34</td><td>19</td><td>4</td><td>21</td><td>36</td><td>51</td><td>41</td><td>56</td><td>50</td><td>44</td><td>54</td><td>39</td><td>29</td><td>35</td><td>45</td><td>60</td><td>43</td><td>26</td><td>20</td><td>37</td><td>31</td><td>14</td></tr><tr><td>27</td><td>12</td><td>6</td><td>23</td><td>38</td><td>55</td><td>61</td><td>46</td><td>63</td><td>53</td><td>47</td><td>62</td><td>52</td><td>58</td><td>48</td><td>33</td><td>16</td><td>1</td><td>11</td><td>5</td><td>15</td><td>21</td><td>31</td><td>14</td><td>4</td><td>10</td><td>0</td><td>17</td><td>2</td><td>8</td><td>25</td><td>40</td><td>57</td><td>42</td><td>59</td><td>49</td><td>32</td><td>26</td><td>43</td><td>60</td><td>54</td><td>37</td><td>22</td><td>7</td><td>13</td><td>30</td><td>36</td><td>51</td><td>41</td><td>56</td><td>50</td><td>44</td><td>34</td><td>28</td><td>45</td><td>39</td><td>29</td><td>19</td><td>9</td><td>24</td><td>18</td><td>3</td><td>20</td><td>35</td></tr><tr><td>27</td><td>12</td><td>6</td><td>23</td><td>38</td><td>55</td><td>61</td><td>51</td><td>57</td><td>40</td><td>50</td><td>56</td><td>41</td><td>24</td><td>9</td><td>3</td><td>13</td><td>7</td><td>22</td><td>5</td><td>15</td><td>30</td><td>47</td><td>62</td><td>45</td><td>39</td><td>54</td><td>60</td><td>43</td><td>58</td><td>48</td><td>33</td><td>16</td><td>1</td><td>18</td><td>28</td><td>11</td><td>26</td><td>32</td><td>49</td><td>59</td><td>53</td><td>63</td><td>46</td><td>36</td><td>42</td><td>52</td><td>37</td><td>31</td><td>21</td><td>4</td><td>14</td><td>20</td><td>35</td><td>29</td><td>44</td><td>34</td><td>17</td><td>0</td><td>10</td><td>25</td><td>8</td><td>2</td><td>19</td></tr><tr><td>27</td><td>12</td><td>6</td><td>23</td><td>38</td><td>55</td><td>61</td><td>51</td><td>57</td><td>40</td><td>50</td><td>56</td><td>41</td><td>24</td><td>9</td><td>3</td><td>13</td><td>7</td><td>22</td><td>5</td><td>15</td><td>21</td><td>31</td><td>14</td><td>4</td><td>10</td><td>0</td><td>17</td><td>2</td><td>8</td><td>25</td><td>19</td><td>34</td><td>49</td><td>32</td><td>42</td><td>59</td><td>44</td><td>54</td><td>60</td><td>45</td><td>39</td><td>29</td><td>35</td><td>18</td><td>28</td><td>11</td><td>1</td><td>16</td><td>33</td><td>48</td><td>58</td><td>52</td><td>62</td><td>47</td><td>37</td><td>43</td><td>26</td><td>20</td><td>30</td><td>36</td><td>46</td><td>63</td><td>53</td></tr></tbody></table></div>"
      ],
      "text/plain": [
       "shape: (950_679, 64)\n",
       "┌────────┬────────┬────────┬────────┬───┬─────────┬─────────┬─────────┬─────────┐\n",
       "│ move_0 ┆ move_1 ┆ move_2 ┆ move_3 ┆ … ┆ move_60 ┆ move_61 ┆ move_62 ┆ move_63 │\n",
       "│ ---    ┆ ---    ┆ ---    ┆ ---    ┆   ┆ ---     ┆ ---     ┆ ---     ┆ ---     │\n",
       "│ i8     ┆ i8     ┆ i8     ┆ i8     ┆   ┆ i8      ┆ i8      ┆ i8      ┆ i8      │\n",
       "╞════════╪════════╪════════╪════════╪═══╪═════════╪═════════╪═════════╪═════════╡\n",
       "│ 0      ┆ 10     ┆ 16     ┆ 1      ┆ … ┆ 29      ┆ 19      ┆ 13      ┆ 7       │\n",
       "│ 0      ┆ 10     ┆ 4      ┆ 14     ┆ … ┆ 34      ┆ 49      ┆ 59      ┆ 44      │\n",
       "│ 0      ┆ 10     ┆ 4      ┆ 14     ┆ … ┆ 45      ┆ 28      ┆ 43      ┆ 60      │\n",
       "│ 0      ┆ 10     ┆ 4      ┆ 14     ┆ … ┆ 18      ┆ 35      ┆ 29      ┆ 39      │\n",
       "│ 0      ┆ 10     ┆ 4      ┆ 14     ┆ … ┆ 13      ┆ 7       ┆ 22      ┆ 12      │\n",
       "│ …      ┆ …      ┆ …      ┆ …      ┆ … ┆ …       ┆ …       ┆ …       ┆ …       │\n",
       "│ 27     ┆ 12     ┆ 6      ┆ 23     ┆ … ┆ 52      ┆ 62      ┆ 47      ┆ 37      │\n",
       "│ 27     ┆ 10     ┆ 0      ┆ 17     ┆ … ┆ 20      ┆ 37      ┆ 31      ┆ 14      │\n",
       "│ 27     ┆ 12     ┆ 6      ┆ 23     ┆ … ┆ 18      ┆ 3       ┆ 20      ┆ 35      │\n",
       "│ 27     ┆ 12     ┆ 6      ┆ 23     ┆ … ┆ 25      ┆ 8       ┆ 2       ┆ 19      │\n",
       "│ 27     ┆ 12     ┆ 6      ┆ 23     ┆ … ┆ 36      ┆ 46      ┆ 63      ┆ 53      │\n",
       "└────────┴────────┴────────┴────────┴───┴─────────┴─────────┴─────────┴─────────┘"
      ]
     },
     "execution_count": 117,
     "metadata": {},
     "output_type": "execute_result"
    }
   ],
   "source": [
    "unique_tours_warnsdorff_df"
   ]
  },
  {
   "cell_type": "code",
   "execution_count": 118,
   "id": "5beda903-bb2d-4a51-a85b-54a19808c8e4",
   "metadata": {},
   "outputs": [],
   "source": [
    "uniqueness_lengths_w = [len(unique_tours_warnsdorff_df[:, :col].unique()) for col in range(len(unique_tours_warnsdorff_df.row(0)))]"
   ]
  },
  {
   "cell_type": "code",
   "execution_count": 121,
   "id": "327cd5a2-9bcf-4a8e-9911-77eb412a5f85",
   "metadata": {},
   "outputs": [
    {
     "data": {
      "image/png": "[encoded data removed]",
      "text/plain": [
       "<Figure size 1200x800 with 1 Axes>"
      ]
     },
     "metadata": {},
     "output_type": "display_data"
    }
   ],
   "source": [
    "fig, ax= plt.subplots()\n",
    "\n",
    "plt.bar(\n",
    "    range(len(unique_tours_warnsdorff_df.row(0))), uniqueness_lengths_w, color=\"darkred\"\n",
    ")\n",
    "\n",
    "plt.xlabel(\"Number of moves\", fontweight='bold', labelpad = 15, fontsize = 20)\n",
    "plt.ylabel(\"Number of unique partial tours\", fontweight='bold', labelpad = 15, fontsize = 20)\n",
    "ax.set_axisbelow(True)\n",
    "ax.spines['right'].set_visible(False)\n",
    "ax.spines['top'].set_visible(False)\n",
    "plt.grid(alpha=0.35)\n",
    "\n",
    "plt.show()"
   ]
  },
  {
   "cell_type": "markdown",
   "id": "2e92537d-56b8-4b0c-af96-498c34d08775",
   "metadata": {},
   "source": [
    "### Creating another training and eval set"
   ]
  },
  {
   "cell_type": "code",
   "execution_count": 177,
   "id": "286abffb-ee63-48b3-a2b1-0a40ac6bbf90",
   "metadata": {},
   "outputs": [],
   "source": [
    "df_dictionaries = {\n",
    "    f\"df_0{i}\": pl.read_parquet(f\"../data/tours_8x8_1000000_20241201_recursive_0{i}.parquet\") for i in range(4)\n",
    "}"
   ]
  },
  {
   "cell_type": "code",
   "execution_count": 193,
   "id": "c663abb5-8c17-4ac3-b398-f22b63e0473f",
   "metadata": {},
   "outputs": [
    {
     "data": {
      "text/html": [
       "<div><style>\n",
       ".dataframe > thead > tr,\n",
       ".dataframe > tbody > tr {\n",
       "  text-align: right;\n",
       "  white-space: pre-wrap;\n",
       "}\n",
       "</style>\n",
       "<small>shape: (99_999, 64)</small><table border=\"1\" class=\"dataframe\"><thead><tr><th>move_0</th><th>move_1</th><th>move_2</th><th>move_3</th><th>move_4</th><th>move_5</th><th>move_6</th><th>move_7</th><th>move_8</th><th>move_9</th><th>move_10</th><th>move_11</th><th>move_12</th><th>move_13</th><th>move_14</th><th>move_15</th><th>move_16</th><th>move_17</th><th>move_18</th><th>move_19</th><th>move_20</th><th>move_21</th><th>move_22</th><th>move_23</th><th>move_24</th><th>move_25</th><th>move_26</th><th>move_27</th><th>move_28</th><th>move_29</th><th>move_30</th><th>move_31</th><th>move_32</th><th>move_33</th><th>move_34</th><th>move_35</th><th>move_36</th><th>move_37</th><th>move_38</th><th>move_39</th><th>move_40</th><th>move_41</th><th>move_42</th><th>move_43</th><th>move_44</th><th>move_45</th><th>move_46</th><th>move_47</th><th>move_48</th><th>move_49</th><th>move_50</th><th>move_51</th><th>move_52</th><th>move_53</th><th>move_54</th><th>move_55</th><th>move_56</th><th>move_57</th><th>move_58</th><th>move_59</th><th>move_60</th><th>move_61</th><th>move_62</th><th>move_63</th></tr><tr><td>i8</td><td>i8</td><td>i8</td><td>i8</td><td>i8</td><td>i8</td><td>i8</td><td>i8</td><td>i8</td><td>i8</td><td>i8</td><td>i8</td><td>i8</td><td>i8</td><td>i8</td><td>i8</td><td>i8</td><td>i8</td><td>i8</td><td>i8</td><td>i8</td><td>i8</td><td>i8</td><td>i8</td><td>i8</td><td>i8</td><td>i8</td><td>i8</td><td>i8</td><td>i8</td><td>i8</td><td>i8</td><td>i8</td><td>i8</td><td>i8</td><td>i8</td><td>i8</td><td>i8</td><td>i8</td><td>i8</td><td>i8</td><td>i8</td><td>i8</td><td>i8</td><td>i8</td><td>i8</td><td>i8</td><td>i8</td><td>i8</td><td>i8</td><td>i8</td><td>i8</td><td>i8</td><td>i8</td><td>i8</td><td>i8</td><td>i8</td><td>i8</td><td>i8</td><td>i8</td><td>i8</td><td>i8</td><td>i8</td><td>i8</td></tr></thead><tbody><tr><td>2</td><td>8</td><td>25</td><td>40</td><td>57</td><td>51</td><td>61</td><td>55</td><td>38</td><td>23</td><td>6</td><td>12</td><td>22</td><td>7</td><td>13</td><td>3</td><td>9</td><td>24</td><td>41</td><td>56</td><td>50</td><td>60</td><td>54</td><td>39</td><td>45</td><td>62</td><td>47</td><td>30</td><td>15</td><td>5</td><td>11</td><td>1</td><td>18</td><td>28</td><td>34</td><td>19</td><td>4</td><td>14</td><td>20</td><td>35</td><td>29</td><td>44</td><td>27</td><td>21</td><td>36</td><td>26</td><td>16</td><td>33</td><td>43</td><td>49</td><td>59</td><td>53</td><td>63</td><td>46</td><td>31</td><td>37</td><td>52</td><td>58</td><td>48</td><td>42</td><td>32</td><td>17</td><td>0</td><td>10</td></tr><tr><td>3</td><td>9</td><td>24</td><td>41</td><td>56</td><td>50</td><td>60</td><td>54</td><td>39</td><td>22</td><td>7</td><td>13</td><td>23</td><td>6</td><td>12</td><td>2</td><td>8</td><td>18</td><td>1</td><td>16</td><td>33</td><td>48</td><td>58</td><td>52</td><td>62</td><td>47</td><td>30</td><td>15</td><td>5</td><td>11</td><td>28</td><td>45</td><td>55</td><td>38</td><td>21</td><td>31</td><td>37</td><td>27</td><td>10</td><td>25</td><td>40</td><td>57</td><td>51</td><td>61</td><td>44</td><td>34</td><td>49</td><td>43</td><td>26</td><td>36</td><td>19</td><td>4</td><td>14</td><td>20</td><td>35</td><td>29</td><td>46</td><td>63</td><td>53</td><td>59</td><td>42</td><td>32</td><td>17</td><td>0</td></tr><tr><td>2</td><td>8</td><td>25</td><td>40</td><td>57</td><td>51</td><td>61</td><td>55</td><td>38</td><td>23</td><td>6</td><td>12</td><td>22</td><td>7</td><td>13</td><td>3</td><td>9</td><td>24</td><td>41</td><td>56</td><td>50</td><td>60</td><td>54</td><td>39</td><td>45</td><td>62</td><td>47</td><td>30</td><td>15</td><td>5</td><td>11</td><td>1</td><td>18</td><td>28</td><td>34</td><td>19</td><td>4</td><td>14</td><td>29</td><td>44</td><td>27</td><td>33</td><td>16</td><td>10</td><td>0</td><td>17</td><td>32</td><td>42</td><td>48</td><td>58</td><td>52</td><td>46</td><td>63</td><td>53</td><td>59</td><td>49</td><td>43</td><td>26</td><td>36</td><td>21</td><td>31</td><td>37</td><td>20</td><td>35</td></tr><tr><td>2</td><td>8</td><td>25</td><td>40</td><td>57</td><td>51</td><td>61</td><td>55</td><td>38</td><td>23</td><td>6</td><td>12</td><td>22</td><td>7</td><td>13</td><td>3</td><td>9</td><td>24</td><td>41</td><td>56</td><td>50</td><td>60</td><td>54</td><td>39</td><td>45</td><td>62</td><td>47</td><td>30</td><td>15</td><td>5</td><td>11</td><td>1</td><td>18</td><td>28</td><td>34</td><td>44</td><td>27</td><td>33</td><td>48</td><td>58</td><td>43</td><td>37</td><td>20</td><td>26</td><td>16</td><td>10</td><td>0</td><td>17</td><td>32</td><td>49</td><td>59</td><td>42</td><td>36</td><td>53</td><td>63</td><td>46</td><td>52</td><td>35</td><td>29</td><td>14</td><td>31</td><td>21</td><td>4</td><td>19</td></tr><tr><td>3</td><td>9</td><td>24</td><td>41</td><td>56</td><td>50</td><td>60</td><td>54</td><td>39</td><td>22</td><td>7</td><td>13</td><td>23</td><td>6</td><td>12</td><td>2</td><td>8</td><td>18</td><td>1</td><td>16</td><td>33</td><td>48</td><td>58</td><td>52</td><td>62</td><td>47</td><td>30</td><td>15</td><td>5</td><td>11</td><td>28</td><td>45</td><td>55</td><td>38</td><td>21</td><td>31</td><td>37</td><td>27</td><td>44</td><td>29</td><td>35</td><td>20</td><td>14</td><td>4</td><td>10</td><td>0</td><td>17</td><td>32</td><td>26</td><td>43</td><td>49</td><td>34</td><td>51</td><td>61</td><td>46</td><td>63</td><td>53</td><td>36</td><td>19</td><td>25</td><td>40</td><td>57</td><td>42</td><td>59</td></tr><tr><td>&hellip;</td><td>&hellip;</td><td>&hellip;</td><td>&hellip;</td><td>&hellip;</td><td>&hellip;</td><td>&hellip;</td><td>&hellip;</td><td>&hellip;</td><td>&hellip;</td><td>&hellip;</td><td>&hellip;</td><td>&hellip;</td><td>&hellip;</td><td>&hellip;</td><td>&hellip;</td><td>&hellip;</td><td>&hellip;</td><td>&hellip;</td><td>&hellip;</td><td>&hellip;</td><td>&hellip;</td><td>&hellip;</td><td>&hellip;</td><td>&hellip;</td><td>&hellip;</td><td>&hellip;</td><td>&hellip;</td><td>&hellip;</td><td>&hellip;</td><td>&hellip;</td><td>&hellip;</td><td>&hellip;</td><td>&hellip;</td><td>&hellip;</td><td>&hellip;</td><td>&hellip;</td><td>&hellip;</td><td>&hellip;</td><td>&hellip;</td><td>&hellip;</td><td>&hellip;</td><td>&hellip;</td><td>&hellip;</td><td>&hellip;</td><td>&hellip;</td><td>&hellip;</td><td>&hellip;</td><td>&hellip;</td><td>&hellip;</td><td>&hellip;</td><td>&hellip;</td><td>&hellip;</td><td>&hellip;</td><td>&hellip;</td><td>&hellip;</td><td>&hellip;</td><td>&hellip;</td><td>&hellip;</td><td>&hellip;</td><td>&hellip;</td><td>&hellip;</td><td>&hellip;</td><td>&hellip;</td></tr><tr><td>2</td><td>8</td><td>25</td><td>40</td><td>57</td><td>51</td><td>61</td><td>55</td><td>38</td><td>23</td><td>6</td><td>12</td><td>22</td><td>7</td><td>13</td><td>3</td><td>9</td><td>24</td><td>41</td><td>56</td><td>50</td><td>60</td><td>54</td><td>39</td><td>45</td><td>62</td><td>47</td><td>30</td><td>15</td><td>5</td><td>11</td><td>1</td><td>18</td><td>28</td><td>34</td><td>44</td><td>59</td><td>53</td><td>63</td><td>46</td><td>36</td><td>21</td><td>31</td><td>14</td><td>4</td><td>19</td><td>29</td><td>35</td><td>20</td><td>37</td><td>52</td><td>42</td><td>48</td><td>58</td><td>43</td><td>26</td><td>16</td><td>33</td><td>27</td><td>10</td><td>0</td><td>17</td><td>32</td><td>49</td></tr><tr><td>1</td><td>16</td><td>33</td><td>48</td><td>58</td><td>52</td><td>62</td><td>47</td><td>30</td><td>15</td><td>5</td><td>11</td><td>17</td><td>0</td><td>10</td><td>4</td><td>14</td><td>31</td><td>21</td><td>6</td><td>23</td><td>13</td><td>7</td><td>22</td><td>39</td><td>54</td><td>37</td><td>20</td><td>3</td><td>9</td><td>24</td><td>41</td><td>56</td><td>50</td><td>60</td><td>43</td><td>26</td><td>32</td><td>42</td><td>59</td><td>49</td><td>34</td><td>19</td><td>2</td><td>8</td><td>18</td><td>12</td><td>27</td><td>44</td><td>29</td><td>46</td><td>63</td><td>53</td><td>36</td><td>51</td><td>57</td><td>40</td><td>25</td><td>35</td><td>45</td><td>28</td><td>38</td><td>55</td><td>61</td></tr><tr><td>3</td><td>9</td><td>24</td><td>41</td><td>56</td><td>50</td><td>60</td><td>54</td><td>39</td><td>22</td><td>7</td><td>13</td><td>23</td><td>6</td><td>12</td><td>2</td><td>8</td><td>18</td><td>1</td><td>16</td><td>33</td><td>48</td><td>58</td><td>52</td><td>62</td><td>47</td><td>30</td><td>15</td><td>5</td><td>11</td><td>28</td><td>45</td><td>55</td><td>38</td><td>21</td><td>4</td><td>10</td><td>0</td><td>17</td><td>27</td><td>37</td><td>31</td><td>14</td><td>20</td><td>35</td><td>29</td><td>44</td><td>61</td><td>51</td><td>36</td><td>46</td><td>63</td><td>53</td><td>59</td><td>49</td><td>34</td><td>19</td><td>25</td><td>40</td><td>57</td><td>42</td><td>32</td><td>26</td><td>43</td></tr><tr><td>2</td><td>8</td><td>25</td><td>40</td><td>57</td><td>51</td><td>61</td><td>55</td><td>38</td><td>23</td><td>6</td><td>12</td><td>22</td><td>7</td><td>13</td><td>3</td><td>9</td><td>24</td><td>41</td><td>56</td><td>50</td><td>60</td><td>54</td><td>39</td><td>45</td><td>62</td><td>47</td><td>30</td><td>15</td><td>5</td><td>11</td><td>1</td><td>18</td><td>28</td><td>34</td><td>44</td><td>27</td><td>21</td><td>4</td><td>10</td><td>0</td><td>17</td><td>32</td><td>49</td><td>59</td><td>53</td><td>63</td><td>46</td><td>52</td><td>58</td><td>43</td><td>37</td><td>31</td><td>14</td><td>29</td><td>19</td><td>36</td><td>42</td><td>48</td><td>33</td><td>16</td><td>26</td><td>20</td><td>35</td></tr><tr><td>1</td><td>16</td><td>33</td><td>48</td><td>58</td><td>52</td><td>62</td><td>47</td><td>30</td><td>15</td><td>5</td><td>11</td><td>17</td><td>0</td><td>10</td><td>4</td><td>14</td><td>31</td><td>21</td><td>6</td><td>23</td><td>13</td><td>7</td><td>22</td><td>39</td><td>54</td><td>37</td><td>20</td><td>3</td><td>9</td><td>24</td><td>41</td><td>56</td><td>50</td><td>60</td><td>45</td><td>28</td><td>18</td><td>8</td><td>25</td><td>35</td><td>29</td><td>19</td><td>2</td><td>12</td><td>27</td><td>44</td><td>38</td><td>55</td><td>61</td><td>46</td><td>36</td><td>51</td><td>34</td><td>40</td><td>57</td><td>42</td><td>59</td><td>49</td><td>32</td><td>26</td><td>43</td><td>53</td><td>63</td></tr></tbody></table></div>"
      ],
      "text/plain": [
       "shape: (99_999, 64)\n",
       "┌────────┬────────┬────────┬────────┬───┬─────────┬─────────┬─────────┬─────────┐\n",
       "│ move_0 ┆ move_1 ┆ move_2 ┆ move_3 ┆ … ┆ move_60 ┆ move_61 ┆ move_62 ┆ move_63 │\n",
       "│ ---    ┆ ---    ┆ ---    ┆ ---    ┆   ┆ ---     ┆ ---     ┆ ---     ┆ ---     │\n",
       "│ i8     ┆ i8     ┆ i8     ┆ i8     ┆   ┆ i8      ┆ i8      ┆ i8      ┆ i8      │\n",
       "╞════════╪════════╪════════╪════════╪═══╪═════════╪═════════╪═════════╪═════════╡\n",
       "│ 2      ┆ 8      ┆ 25     ┆ 40     ┆ … ┆ 32      ┆ 17      ┆ 0       ┆ 10      │\n",
       "│ 3      ┆ 9      ┆ 24     ┆ 41     ┆ … ┆ 42      ┆ 32      ┆ 17      ┆ 0       │\n",
       "│ 2      ┆ 8      ┆ 25     ┆ 40     ┆ … ┆ 31      ┆ 37      ┆ 20      ┆ 35      │\n",
       "│ 2      ┆ 8      ┆ 25     ┆ 40     ┆ … ┆ 31      ┆ 21      ┆ 4       ┆ 19      │\n",
       "│ 3      ┆ 9      ┆ 24     ┆ 41     ┆ … ┆ 40      ┆ 57      ┆ 42      ┆ 59      │\n",
       "│ …      ┆ …      ┆ …      ┆ …      ┆ … ┆ …       ┆ …       ┆ …       ┆ …       │\n",
       "│ 2      ┆ 8      ┆ 25     ┆ 40     ┆ … ┆ 0       ┆ 17      ┆ 32      ┆ 49      │\n",
       "│ 1      ┆ 16     ┆ 33     ┆ 48     ┆ … ┆ 28      ┆ 38      ┆ 55      ┆ 61      │\n",
       "│ 3      ┆ 9      ┆ 24     ┆ 41     ┆ … ┆ 42      ┆ 32      ┆ 26      ┆ 43      │\n",
       "│ 2      ┆ 8      ┆ 25     ┆ 40     ┆ … ┆ 16      ┆ 26      ┆ 20      ┆ 35      │\n",
       "│ 1      ┆ 16     ┆ 33     ┆ 48     ┆ … ┆ 26      ┆ 43      ┆ 53      ┆ 63      │\n",
       "└────────┴────────┴────────┴────────┴───┴─────────┴─────────┴─────────┴─────────┘"
      ]
     },
     "execution_count": 193,
     "metadata": {},
     "output_type": "execute_result"
    }
   ],
   "source": [
    "val_one_pos1 = df_dictionaries[\"df_01\"].sample(fraction=0.033333, shuffle=True, seed=821378259)\n",
    "val_one_pos2 = df_dictionaries[\"df_02\"].sample(fraction=0.033333, shuffle=True, seed=821378259)\n",
    "val_one_pos3 = df_dictionaries[\"df_03\"].sample(fraction=0.033333, shuffle=True, seed=821378259)\n",
    "\n",
    "val_one_pos = pl.concat([val_one_pos1, val_one_pos2, val_one_pos3]).sample(fraction=1, shuffle=True, seed=821378259)\n",
    "val_one_pos"
   ]
  },
  {
   "cell_type": "code",
   "execution_count": 194,
   "id": "2f76c99a-502b-49b6-a730-bec4c40d7885",
   "metadata": {},
   "outputs": [
    {
     "data": {
      "text/html": [
       "<div><style>\n",
       ".dataframe > thead > tr,\n",
       ".dataframe > tbody > tr {\n",
       "  text-align: right;\n",
       "  white-space: pre-wrap;\n",
       "}\n",
       "</style>\n",
       "<small>shape: (99_999, 2)</small><table border=\"1\" class=\"dataframe\"><thead><tr><th>input_ids</th><th>labels</th></tr><tr><td>list[i8]</td><td>list[i8]</td></tr></thead><tbody><tr><td>[2, 8, … 10]</td><td>[2, 8, … 10]</td></tr><tr><td>[3, 9, … 0]</td><td>[3, 9, … 0]</td></tr><tr><td>[2, 8, … 35]</td><td>[2, 8, … 35]</td></tr><tr><td>[2, 8, … 19]</td><td>[2, 8, … 19]</td></tr><tr><td>[3, 9, … 59]</td><td>[3, 9, … 59]</td></tr><tr><td>&hellip;</td><td>&hellip;</td></tr><tr><td>[2, 8, … 49]</td><td>[2, 8, … 49]</td></tr><tr><td>[1, 16, … 61]</td><td>[1, 16, … 61]</td></tr><tr><td>[3, 9, … 43]</td><td>[3, 9, … 43]</td></tr><tr><td>[2, 8, … 35]</td><td>[2, 8, … 35]</td></tr><tr><td>[1, 16, … 63]</td><td>[1, 16, … 63]</td></tr></tbody></table></div>"
      ],
      "text/plain": [
       "shape: (99_999, 2)\n",
       "┌───────────────┬───────────────┐\n",
       "│ input_ids     ┆ labels        │\n",
       "│ ---           ┆ ---           │\n",
       "│ list[i8]      ┆ list[i8]      │\n",
       "╞═══════════════╪═══════════════╡\n",
       "│ [2, 8, … 10]  ┆ [2, 8, … 10]  │\n",
       "│ [3, 9, … 0]   ┆ [3, 9, … 0]   │\n",
       "│ [2, 8, … 35]  ┆ [2, 8, … 35]  │\n",
       "│ [2, 8, … 19]  ┆ [2, 8, … 19]  │\n",
       "│ [3, 9, … 59]  ┆ [3, 9, … 59]  │\n",
       "│ …             ┆ …             │\n",
       "│ [2, 8, … 49]  ┆ [2, 8, … 49]  │\n",
       "│ [1, 16, … 61] ┆ [1, 16, … 61] │\n",
       "│ [3, 9, … 43]  ┆ [3, 9, … 43]  │\n",
       "│ [2, 8, … 35]  ┆ [2, 8, … 35]  │\n",
       "│ [1, 16, … 63] ┆ [1, 16, … 63] │\n",
       "└───────────────┴───────────────┘"
      ]
     },
     "execution_count": 194,
     "metadata": {},
     "output_type": "execute_result"
    }
   ],
   "source": [
    "val_one_pos = pl.DataFrame(val_one_pos.with_columns(pl.concat_list(val_one_pos.columns).alias(\"input_ids\"))[\"input_ids\"])\n",
    "val_one_pos = val_one_pos.with_columns(pl.col(\"input_ids\").alias(\"labels\"))\n",
    "val_one_pos"
   ]
  },
  {
   "cell_type": "code",
   "execution_count": 195,
   "id": "0e75a9be-f2a3-49ae-844f-812a78a0a189",
   "metadata": {},
   "outputs": [],
   "source": [
    "val_one_pos.write_parquet(\n",
    "    \"../data/final/one_pos/validation_one_pos_8x8_99999.parquet\",\n",
    "    compression=\"zstd\",\n",
    ")"
   ]
  },
  {
   "cell_type": "code",
   "execution_count": 198,
   "id": "ac240c10-b63d-4657-80b5-d833e2fef91a",
   "metadata": {},
   "outputs": [
    {
     "data": {
      "text/html": [
       "<div><style>\n",
       ".dataframe > thead > tr,\n",
       ".dataframe > tbody > tr {\n",
       "  text-align: right;\n",
       "  white-space: pre-wrap;\n",
       "}\n",
       "</style>\n",
       "<small>shape: (1_000_000, 2)</small><table border=\"1\" class=\"dataframe\"><thead><tr><th>input_ids</th><th>labels</th></tr><tr><td>list[i8]</td><td>list[i8]</td></tr></thead><tbody><tr><td>[0, 17, … 35]</td><td>[0, 17, … 35]</td></tr><tr><td>[0, 17, … 46]</td><td>[0, 17, … 46]</td></tr><tr><td>[0, 17, … 44]</td><td>[0, 17, … 44]</td></tr><tr><td>[0, 17, … 33]</td><td>[0, 17, … 33]</td></tr><tr><td>[0, 17, … 14]</td><td>[0, 17, … 14]</td></tr><tr><td>&hellip;</td><td>&hellip;</td></tr><tr><td>[0, 17, … 33]</td><td>[0, 17, … 33]</td></tr><tr><td>[0, 17, … 53]</td><td>[0, 17, … 53]</td></tr><tr><td>[0, 17, … 19]</td><td>[0, 17, … 19]</td></tr><tr><td>[0, 17, … 33]</td><td>[0, 17, … 33]</td></tr><tr><td>[0, 17, … 21]</td><td>[0, 17, … 21]</td></tr></tbody></table></div>"
      ],
      "text/plain": [
       "shape: (1_000_000, 2)\n",
       "┌───────────────┬───────────────┐\n",
       "│ input_ids     ┆ labels        │\n",
       "│ ---           ┆ ---           │\n",
       "│ list[i8]      ┆ list[i8]      │\n",
       "╞═══════════════╪═══════════════╡\n",
       "│ [0, 17, … 35] ┆ [0, 17, … 35] │\n",
       "│ [0, 17, … 46] ┆ [0, 17, … 46] │\n",
       "│ [0, 17, … 44] ┆ [0, 17, … 44] │\n",
       "│ [0, 17, … 33] ┆ [0, 17, … 33] │\n",
       "│ [0, 17, … 14] ┆ [0, 17, … 14] │\n",
       "│ …             ┆ …             │\n",
       "│ [0, 17, … 33] ┆ [0, 17, … 33] │\n",
       "│ [0, 17, … 53] ┆ [0, 17, … 53] │\n",
       "│ [0, 17, … 19] ┆ [0, 17, … 19] │\n",
       "│ [0, 17, … 33] ┆ [0, 17, … 33] │\n",
       "│ [0, 17, … 21] ┆ [0, 17, … 21] │\n",
       "└───────────────┴───────────────┘"
      ]
     },
     "execution_count": 198,
     "metadata": {},
     "output_type": "execute_result"
    }
   ],
   "source": [
    "train_one_pos = df_dictionaries[\"df_00\"].sample(fraction=1, shuffle=True, seed=821378259)\n",
    "train_one_pos = pl.DataFrame(train_one_pos.with_columns(pl.concat_list(train_one_pos.columns).alias(\"input_ids\"))[\"input_ids\"])\n",
    "train_one_pos = train_one_pos.with_columns(pl.col(\"input_ids\").alias(\"labels\"))\n",
    "train_one_pos"
   ]
  },
  {
   "cell_type": "code",
   "execution_count": 201,
   "id": "93785db6-f256-4085-97ca-48903c9668b0",
   "metadata": {},
   "outputs": [],
   "source": [
    "train_one_pos.write_parquet(\n",
    "    \"../data/final/one_pos/training_one_pos_8x8_1000000.parquet\",\n",
    "    compression=\"zstd\",\n",
    ")"
   ]
  },
  {
   "cell_type": "code",
   "execution_count": 200,
   "id": "95d58ff7-f25c-4486-b5b2-25a6035df70c",
   "metadata": {},
   "outputs": [
    {
     "data": {
      "text/html": [
       "<div><style>\n",
       ".dataframe > thead > tr,\n",
       ".dataframe > tbody > tr {\n",
       "  text-align: right;\n",
       "  white-space: pre-wrap;\n",
       "}\n",
       "</style>\n",
       "<small>shape: (1_000_000, 2)</small><table border=\"1\" class=\"dataframe\"><thead><tr><th>input_ids</th><th>labels</th></tr><tr><td>list[i8]</td><td>list[i8]</td></tr></thead><tbody><tr><td>[0, 17, … 35]</td><td>[0, 17, … 35]</td></tr><tr><td>[0, 17, … 46]</td><td>[0, 17, … 46]</td></tr><tr><td>[0, 17, … 44]</td><td>[0, 17, … 44]</td></tr><tr><td>[0, 17, … 33]</td><td>[0, 17, … 33]</td></tr><tr><td>[0, 17, … 14]</td><td>[0, 17, … 14]</td></tr><tr><td>&hellip;</td><td>&hellip;</td></tr><tr><td>[0, 17, … 33]</td><td>[0, 17, … 33]</td></tr><tr><td>[0, 17, … 53]</td><td>[0, 17, … 53]</td></tr><tr><td>[0, 17, … 19]</td><td>[0, 17, … 19]</td></tr><tr><td>[0, 17, … 33]</td><td>[0, 17, … 33]</td></tr><tr><td>[0, 17, … 21]</td><td>[0, 17, … 21]</td></tr></tbody></table></div>"
      ],
      "text/plain": [
       "shape: (1_000_000, 2)\n",
       "┌───────────────┬───────────────┐\n",
       "│ input_ids     ┆ labels        │\n",
       "│ ---           ┆ ---           │\n",
       "│ list[i8]      ┆ list[i8]      │\n",
       "╞═══════════════╪═══════════════╡\n",
       "│ [0, 17, … 35] ┆ [0, 17, … 35] │\n",
       "│ [0, 17, … 46] ┆ [0, 17, … 46] │\n",
       "│ [0, 17, … 44] ┆ [0, 17, … 44] │\n",
       "│ [0, 17, … 33] ┆ [0, 17, … 33] │\n",
       "│ [0, 17, … 14] ┆ [0, 17, … 14] │\n",
       "│ …             ┆ …             │\n",
       "│ [0, 17, … 33] ┆ [0, 17, … 33] │\n",
       "│ [0, 17, … 53] ┆ [0, 17, … 53] │\n",
       "│ [0, 17, … 19] ┆ [0, 17, … 19] │\n",
       "│ [0, 17, … 33] ┆ [0, 17, … 33] │\n",
       "│ [0, 17, … 21] ┆ [0, 17, … 21] │\n",
       "└───────────────┴───────────────┘"
      ]
     },
     "execution_count": 200,
     "metadata": {},
     "output_type": "execute_result"
    }
   ],
   "source": [
    "train_one_pos"
   ]
  },
  {
   "cell_type": "code",
   "execution_count": null,
   "id": "1fca9a56-1572-4d68-a686-1b687cd572b7",
   "metadata": {},
   "outputs": [],
   "source": []
  }
 ],
 "metadata": {
  "kernelspec": {
   "display_name": "Python 3 (ipykernel)",
   "language": "python",
   "name": "python3"
  },
  "language_info": {
   "codemirror_mode": {
    "name": "ipython",
    "version": 3
   },
   "file_extension": ".py",
   "mimetype": "text/x-python",
   "name": "python",
   "nbconvert_exporter": "python",
   "pygments_lexer": "ipython3",
   "version": "3.11.4"
  }
 },
 "nbformat": 4,
 "nbformat_minor": 5
}
